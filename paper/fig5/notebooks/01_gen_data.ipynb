{
 "cells": [
  {
   "cell_type": "code",
   "execution_count": 1,
   "id": "52b183aa-b485-470d-b0d4-de25cb3d029b",
   "metadata": {},
   "outputs": [],
   "source": [
    "%load_ext autoreload\n",
    "%autoreload 2"
   ]
  },
  {
   "cell_type": "markdown",
   "id": "25a6ad4c-71a2-4343-84b0-d85dd077de8a",
   "metadata": {},
   "source": [
    "### Switch to branch `workstation`"
   ]
  },
  {
   "cell_type": "code",
   "execution_count": 2,
   "id": "d2e79a46-ed0b-4f6f-b0b0-62186e5666b6",
   "metadata": {},
   "outputs": [
    {
     "name": "stdout",
     "output_type": "stream",
     "text": [
      "Connecting root@134.2.168.121:3306\n"
     ]
    },
    {
     "name": "stderr",
     "output_type": "stream",
     "text": [
      "Warning: no DISPLAY environment variable.\n",
      "--No graphics will be displayed.\n"
     ]
    }
   ],
   "source": [
    "from l5pc.utils.simulation_utils import (\n",
    "    assemble_prior,\n",
    "    assemble_simulator,\n",
    "    assemble_db,\n",
    "    write_to_dj,\n",
    ")\n",
    "import dill\n",
    "import pickle\n",
    "import torch\n",
    "from l5pc.model import (\n",
    "    Priorl5pc,\n",
    "    simulate_l5pc,\n",
    "    setup_l5pc,\n",
    "    summstats_l5pc,\n",
    "    setup_l5pc,\n",
    ")\n",
    "from os.path import join\n",
    "from sbi.analysis import pairplot\n",
    "from l5pc.model.utils import return_gt, return_x_names, return_names\n",
    "import numpy as np\n",
    "from torch import as_tensor, ones, zeros, eye, float32\n",
    "from l5pc.utils.common_utils import load_posterior\n",
    "from l5pc.model.utils import return_gt, return_names, return_xo\n",
    "from sbi.utils import BoxUniform\n",
    "from sbi.utils.support_posterior import PosteriorSupport\n",
    "from omegaconf import DictConfig\n",
    "import matplotlib as mpl\n",
    "import matplotlib.pyplot as plt\n",
    "import pandas as pd\n",
    "from l5pc.utils.model_utils import (\n",
    "    replace_nan,\n",
    "    add_observation_noise,\n",
    ")\n",
    "from l5pc.utils.common_utils import (\n",
    "    load_prior,\n",
    "    extract_bounds,\n",
    "    load_posterior,\n",
    ")\n",
    "from l5pc.utils.evaluation_utils import (\n",
    "    predictive_traces,\n",
    "    plot_traces,\n",
    "    plot_summstats,\n",
    "    compare_gt_log_probs,\n",
    "    gt_log_prob,\n",
    "    coverage,\n",
    "    plot_coverage,\n",
    ")\n",
    "from l5pc.model import L5PC_20D_theta, L5PC_20D_x"
   ]
  },
  {
   "cell_type": "code",
   "execution_count": 3,
   "id": "5d334f0c-26c4-48e0-a421-6e0805d151da",
   "metadata": {},
   "outputs": [
    {
     "name": "stdout",
     "output_type": "stream",
     "text": [
      "Loading neuron libraries\n",
      "Successfully loaded libraries!\n"
     ]
    }
   ],
   "source": [
    "setup_l5pc()"
   ]
  },
  {
   "cell_type": "markdown",
   "id": "71f024f1-e3a0-4c17-a163-c6c1510f0517",
   "metadata": {},
   "source": [
    "## Panel A"
   ]
  },
  {
   "cell_type": "markdown",
   "id": "c489f087-adeb-4b4c-a858-056cb3384d5f",
   "metadata": {},
   "source": [
    "## Panel B"
   ]
  },
  {
   "cell_type": "code",
   "execution_count": 4,
   "id": "6bb2fa61-884a-4c01-aa9f-80a432f2e72e",
   "metadata": {},
   "outputs": [],
   "source": [
    "prior = assemble_prior(DictConfig({\"model\": {\"name\": \"l5pc\", \"num_params\": 20, \"prior\": [[]]}}))"
   ]
  },
  {
   "cell_type": "code",
   "execution_count": 5,
   "id": "eaf66f00-c61a-482b-9501-c021c99a294d",
   "metadata": {},
   "outputs": [],
   "source": [
    "theta = return_gt()"
   ]
  },
  {
   "cell_type": "code",
   "execution_count": 6,
   "id": "7aa54f16-252f-4005-bdba-50db6bbd2e97",
   "metadata": {},
   "outputs": [],
   "source": [
    "trace = simulate_l5pc(theta)"
   ]
  },
  {
   "cell_type": "code",
   "execution_count": 7,
   "id": "98547b38-e8ea-406b-b3ba-1334eea0a86a",
   "metadata": {},
   "outputs": [
    {
     "data": {
      "image/png": "[encoded data removed]",
      "text/plain": [
       "<Figure size 300x150 with 6 Axes>"
      ]
     },
     "metadata": {},
     "output_type": "display_data"
    }
   ],
   "source": [
    "with mpl.rc_context(fname=\"../../.matplotlibrc\"):\n",
    "    fig, ax = plt.subplots(2, 3, figsize=(3, 1.5))\n",
    "    ax[1, 0].plot(trace[0]['bAP.soma.v'][\"time\"], trace[0]['bAP.soma.v'][\"voltage\"], c=\"k\", linewidth=1.0)\n",
    "    ax[1, 1].plot(trace[0]['bAP.dend1.v'][\"time\"], trace[0]['bAP.dend1.v'][\"voltage\"], c=\"k\", linewidth=1.0)\n",
    "    ax[1, 2].plot(trace[0]['bAP.dend2.v'][\"time\"], trace[0]['bAP.dend2.v'][\"voltage\"], c=\"k\", linewidth=1.0)\n",
    "    ax[0, 0].plot(trace[0]['Step1.soma.v'][\"time\"], trace[0]['Step1.soma.v'][\"voltage\"], c=\"k\", linewidth=1.0)\n",
    "    ax[0, 1].plot(trace[0]['Step2.soma.v'][\"time\"], trace[0]['Step2.soma.v'][\"voltage\"], c=\"k\", linewidth=1.0)\n",
    "    ax[0, 2].plot(trace[0]['Step3.soma.v'][\"time\"], trace[0]['Step3.soma.v'][\"voltage\"], c=\"k\", linewidth=1.0)\n",
    "    \n",
    "    for i in range(2):\n",
    "        for j in range(3):\n",
    "            ax[i, j].set_xticks([])\n",
    "            ax[i, j].set_ylim([-90, 50])\n",
    "            ax[i, j].set_yticks([])\n",
    "            ax[i, j].set_yticklabels([])\n",
    "            ax[i, j].spines[\"left\"].set_visible(False)\n",
    "            ax[i, j].spines[\"bottom\"].set_visible(False)\n",
    "    plt.savefig(\"../svg/panel_b.svg\")"
   ]
  },
  {
   "cell_type": "markdown",
   "id": "5326f967-c4e7-405f-9315-fb118074fe47",
   "metadata": {},
   "source": [
    "## Panel C"
   ]
  },
  {
   "cell_type": "code",
   "execution_count": 8,
   "id": "014167b7-28c2-4018-960a-a2589835cb69",
   "metadata": {},
   "outputs": [],
   "source": [
    "_ = torch.manual_seed(0)\n",
    "theta = prior.sample((4,))\n",
    "trace = simulate_l5pc(theta, protocol_subset=[\"Step1\"])"
   ]
  },
  {
   "cell_type": "code",
   "execution_count": 9,
   "id": "db099bc2-3989-4062-aed8-569ff4ecdc6b",
   "metadata": {},
   "outputs": [
    {
     "data": {
      "image/png": "[encoded data removed]",
      "text/plain": [
       "<Figure size 200x150 with 4 Axes>"
      ]
     },
     "metadata": {},
     "output_type": "display_data"
    }
   ],
   "source": [
    "with mpl.rc_context(fname=\"../../.matplotlibrc\"):\n",
    "    fig, ax = plt.subplots(2, 2, figsize=(2.0, 1.5))\n",
    "    ax[0, 0].plot(trace[0]['Step1.soma.v'][\"time\"], trace[0]['Step1.soma.v'][\"voltage\"], c=\"k\", linewidth=1.0)\n",
    "    ax[0, 1].plot(trace[1]['Step1.soma.v'][\"time\"], trace[1]['Step1.soma.v'][\"voltage\"], c=\"k\", linewidth=1.0)\n",
    "    ax[1, 0].plot(trace[2]['Step1.soma.v'][\"time\"], trace[2]['Step1.soma.v'][\"voltage\"], c=\"k\", linewidth=1.0)\n",
    "    ax[1, 1].plot(trace[3]['Step1.soma.v'][\"time\"], trace[3]['Step1.soma.v'][\"voltage\"], c=\"k\", linewidth=1.0)\n",
    "    \n",
    "    for i in range(2):\n",
    "        for j in range(2):\n",
    "            ax[i, j].set_xticks([])\n",
    "            ax[i, j].set_ylim([-90, 50])\n",
    "            ax[i, j].set_yticks([])\n",
    "            ax[i, j].set_yticklabels([])\n",
    "            ax[i, j].spines[\"left\"].set_visible(False)\n",
    "            ax[i, j].spines[\"bottom\"].set_visible(False)\n",
    "    plt.savefig(\"../svg/panel_c.svg\")"
   ]
  },
  {
   "cell_type": "markdown",
   "id": "f72b0655-6a21-4ac2-9ef4-5e6799142255",
   "metadata": {},
   "source": [
    "## Panel D"
   ]
  },
  {
   "cell_type": "code",
   "execution_count": 10,
   "id": "46b27c7d-d5ee-4767-a58b-ce53fc466d06",
   "metadata": {},
   "outputs": [],
   "source": [
    "x_db = L5PC_20D_x()\n",
    "theta_db = L5PC_20D_theta()\n",
    "data_id = \"l20_0\""
   ]
  },
  {
   "cell_type": "code",
   "execution_count": 11,
   "id": "b84b273a-667b-4b08-a774-ffd8d1fddaba",
   "metadata": {
    "tags": []
   },
   "outputs": [
    {
     "name": "stdout",
     "output_type": "stream",
     "text": [
      "Adding observation noise according to  data\n"
     ]
    }
   ],
   "source": [
    "data_id = \"l20_0\"\n",
    "round_ = 1\n",
    "theta = as_tensor(\n",
    "    np.asarray(\n",
    "        (theta_db & {\"round\": round_} & {\"id\": data_id}).fetch(*return_names())\n",
    "    ),\n",
    "    dtype=float32,\n",
    ").T\n",
    "x = as_tensor(\n",
    "    np.asarray(\n",
    "        (x_db & {\"round\": round_} & {\"id\": data_id}).fetch(*return_x_names())\n",
    "    ),\n",
    "    dtype=float32,\n",
    ").T\n",
    "\n",
    "x_pd = pd.DataFrame(x[-10000:].numpy(), columns=return_x_names())\n",
    "\n",
    "x = x[-1000:]\n",
    "theta = theta[-1000:]\n",
    "x, _ = replace_nan(x)\n",
    "x = add_observation_noise(\n",
    "    x=x,\n",
    "    id_=data_id,\n",
    "    noise_multiplier=0.0,\n",
    "    std_type=\"data\",\n",
    "    subset=None,\n",
    ")"
   ]
  },
  {
   "cell_type": "code",
   "execution_count": 12,
   "id": "7f0e5327-ba7a-4b89-bdbe-dc2b023b284b",
   "metadata": {},
   "outputs": [],
   "source": [
    "base_path = \"/home/michael/Documents/tsnpe_collection/l5pc/\"\n",
    "path = \"2022_04_27__19_06_37_snpe\"\n",
    "inference_path = join(base_path, f\"results/l20_7/inference/{path}\")\n",
    "with open(join(inference_path, \"inference.pkl\"), \"rb\") as handle:\n",
    "    inferences = dill.load(handle)\n",
    "with open(join(inference_path, \"xo.pkl\"), \"rb\") as handle:\n",
    "    xo = pickle.load(handle)\n",
    "xo = as_tensor(xo, dtype=float32)\n",
    "posteriors = [infer.build_posterior().set_default_x(xo) for infer in inferences]"
   ]
  },
  {
   "cell_type": "code",
   "execution_count": 18,
   "id": "50020b66-317f-4bda-b7ce-e3ac25875225",
   "metadata": {
    "tags": []
   },
   "outputs": [],
   "source": [
    "# _ = torch.manual_seed(0)\n",
    "# alphas = []\n",
    "# covs = []\n",
    "# for i in range(10):\n",
    "#     alpha, cov = coverage(posteriors[i], theta, x, np.arange(35))\n",
    "#     alphas.append(alpha)\n",
    "#     covs.append(cov)\n",
    "\n",
    "# np.savez(\"../../results/alphas_covs_separate_nets_l20_7.npz\", alphas=alphas, covs=covs)"
   ]
  },
  {
   "cell_type": "code",
   "execution_count": 15,
   "id": "8657586d-b51d-418f-88dc-cb53cf8b0496",
   "metadata": {},
   "outputs": [],
   "source": [
    "data = np.load(\"../../results/alphas_covs_separate_nets_l20_7.npz\", allow_pickle=True)\n",
    "alphas = data[\"alphas\"]\n",
    "covs = data[\"covs\"]"
   ]
  },
  {
   "cell_type": "code",
   "execution_count": 16,
   "id": "444f25ae-cd8f-4058-831d-2c0af79946f0",
   "metadata": {},
   "outputs": [
    {
     "data": {
      "image/png": "[encoded data removed]",
      "text/plain": [
       "<Figure size 80x80 with 1 Axes>"
      ]
     },
     "metadata": {},
     "output_type": "display_data"
    }
   ],
   "source": [
    "with mpl.rc_context(fname=\"../../.matplotlibrc\"):\n",
    "    fig, ax = plt.subplots(1, 1, figsize=(0.8, 0.8))\n",
    "    ax.plot([0, 1.0], [0, 1.0], c=\"grey\")\n",
    "    for i in range(10):\n",
    "        ax.plot(alphas[i], covs[i], c=\"k\", linewidth=1.0)\n",
    "    ax.set_xticks([0, 1])\n",
    "    ax.set_yticks([0, 1])\n",
    "    ax.set_xlim([0, 1])\n",
    "    ax.set_ylim([0, 1])\n",
    "    ax.set_xticklabels([])\n",
    "    ax.set_title(\"Separate nets\")\n",
    "    plt.savefig(\"../svg/panel_c1.svg\")"
   ]
  },
  {
   "cell_type": "code",
   "execution_count": 21,
   "id": "2dbd2e97-8f44-4889-997f-5f79330fd378",
   "metadata": {},
   "outputs": [],
   "source": [
    "inference, posterior, used_features, round_ = load_posterior(\"l20_7\", \"2022_04_27__19_06_37_snpe\")"
   ]
  },
  {
   "cell_type": "code",
   "execution_count": 25,
   "id": "f31c689f-8472-4fa6-bc01-b2ec54d4516b",
   "metadata": {
    "tags": []
   },
   "outputs": [],
   "source": [
    "# _ = torch.manual_seed(1)\n",
    "# alpha_ens, cov_ens = coverage(posterior, theta, x, used_features)\n",
    "# np.savez(\"../../results/alphas_covs_ensemble_net_l20_7.npz\", alpha=alpha_ens, cov=cov_ens)"
   ]
  },
  {
   "cell_type": "code",
   "execution_count": 23,
   "id": "fe941bf9-d4d6-4298-a7c0-d33bc788c9a6",
   "metadata": {},
   "outputs": [],
   "source": [
    "data = np.load(\"../../results/alphas_covs_ensemble_net_l20_7.npz\", allow_pickle=True)\n",
    "alpha_ens = data[\"alpha\"]\n",
    "cov_ens = data[\"cov\"]"
   ]
  },
  {
   "cell_type": "code",
   "execution_count": 24,
   "id": "81476e17-6e7e-4814-b68e-b36c31b6efdd",
   "metadata": {},
   "outputs": [
    {
     "data": {
      "image/png": "[encoded data removed]",
      "text/plain": [
       "<Figure size 80x80 with 1 Axes>"
      ]
     },
     "metadata": {},
     "output_type": "display_data"
    }
   ],
   "source": [
    "with mpl.rc_context(fname=\"../../.matplotlibrc\"):\n",
    "    fig, ax = plt.subplots(1, 1, figsize=(0.8, 0.8))\n",
    "    ax.plot([0, 1.0], [0, 1.0], c=\"grey\")\n",
    "    ax.plot(alpha_ens, cov_ens, c=\"k\")\n",
    "    ax.set_xticks([0, 1])\n",
    "    ax.set_yticks([0, 1])\n",
    "    ax.set_xlim([0, 1])\n",
    "    ax.set_ylim([0, 1])\n",
    "    ax.set_xlabel(\"Confidence level\")\n",
    "    ax.set_ylabel(\"Empirical coverage\")\n",
    "    ax.set_title(\"Ensemble\")\n",
    "    plt.savefig(\"../svg/panel_c2.svg\", transparent=True)"
   ]
  },
  {
   "cell_type": "markdown",
   "id": "a54aff9d-92fd-4be1-bc8d-25f3fec694f6",
   "metadata": {},
   "source": [
    "## Panel D"
   ]
  },
  {
   "cell_type": "code",
   "execution_count": 26,
   "id": "5104724d-4b19-40f9-90bd-47883c8b67a6",
   "metadata": {},
   "outputs": [],
   "source": [
    "inference, posterior, used_features, round_ = load_posterior(\"l20_7\", \"2022_05_08__08_59_11_snpe\")"
   ]
  },
  {
   "cell_type": "code",
   "execution_count": 27,
   "id": "0159f18c-6099-4aa5-b990-0bcd13ea1524",
   "metadata": {},
   "outputs": [],
   "source": [
    "prior_bounds = extract_bounds(prior).T.numpy()"
   ]
  },
  {
   "cell_type": "code",
   "execution_count": 28,
   "id": "525bbd85-1333-4659-b49a-69059721461e",
   "metadata": {},
   "outputs": [],
   "source": [
    "all_labels = []\n",
    "for dim_i in range(4):\n",
    "    labels = [prior_bounds[dim_i, num_tmp] for num_tmp in range(2)]\n",
    "    new_labels = []\n",
    "    counter = 0\n",
    "    for l in labels:\n",
    "        if counter == 0:\n",
    "            new_labels.append(r'$\\mathdefault{'+str(l)+'}\\;\\;\\;$  ')\n",
    "        else:\n",
    "            new_labels.append(r'$\\mathdefault{'+str(l)+'}\\;\\;\\;$   ')\n",
    "        counter+=1\n",
    "    all_labels.append(new_labels)"
   ]
  },
  {
   "cell_type": "code",
   "execution_count": 29,
   "id": "e7452fad-2b0c-46f2-836d-09a107c9d6dd",
   "metadata": {},
   "outputs": [
    {
     "data": {
      "image/png": "[encoded data removed]",
      "text/plain": [
       "<Figure size 200x200 with 16 Axes>"
      ]
     },
     "metadata": {},
     "output_type": "display_data"
    }
   ],
   "source": [
    "posterior_samples = posterior.sample((1000,), show_progress_bars=False)\n",
    "with mpl.rc_context(fname=\"../../.matplotlibrc\"):\n",
    "    _ = pairplot(\n",
    "        posterior_samples,\n",
    "        limits=prior_bounds,\n",
    "        subset=[0, 1, 2, 3],\n",
    "        upper=[\"kde\"],\n",
    "        diag=[\"kde\"],\n",
    "        ticks=prior_bounds,\n",
    "        figsize=(2,2),\n",
    "        labels=[r\"$\\theta_1$\", r\"$\\theta_2$\", r\"$\\theta_3$\", r\"$\\theta_4$\"],\n",
    "        tick_labels=all_labels,\n",
    "        points=return_gt(as_pd=False),\n",
    "        points_colors=[\"#d7301f\"],\n",
    "        points_offdiag={\"markersize\": 7}\n",
    "    )\n",
    "    plt.savefig(\"../svg/panel_d.svg\")"
   ]
  },
  {
   "cell_type": "markdown",
   "id": "66eab0a6-bec3-4d94-8965-f44edeb16038",
   "metadata": {},
   "source": [
    "## Panel E"
   ]
  },
  {
   "cell_type": "code",
   "execution_count": 48,
   "id": "59e5ce21-b23f-4866-b032-609f8835632c",
   "metadata": {},
   "outputs": [
    {
     "data": {
      "application/vnd.jupyter.widget-view+json": {
       "model_id": "2151138cfcba44bd9f67da23a6bc88df",
       "version_major": 2,
       "version_minor": 0
      },
      "text/plain": [
       "Drawing 1 posterior samples:   0%|          | 0/1 [00:00<?, ?it/s]"
      ]
     },
     "metadata": {},
     "output_type": "display_data"
    },
    {
     "data": {
      "application/vnd.jupyter.widget-view+json": {
       "model_id": "f88e70dec4d343c1ae209abcc5aaac78",
       "version_major": 2,
       "version_minor": 0
      },
      "text/plain": [
       "Drawing 2 posterior samples:   0%|          | 0/2 [00:00<?, ?it/s]"
      ]
     },
     "metadata": {},
     "output_type": "display_data"
    }
   ],
   "source": [
    "_ = torch.manual_seed(1)\n",
    "theta = posterior.sample((3,))\n",
    "theta = pd.DataFrame(theta.numpy(), columns=return_names())\n",
    "trace = simulate_l5pc(theta, protocol_subset=[\"Step1\"])"
   ]
  },
  {
   "cell_type": "code",
   "execution_count": 49,
   "id": "ff55ea9e-e90b-4778-9b38-a694ea9cb433",
   "metadata": {},
   "outputs": [
    {
     "data": {
      "image/png": "[encoded data removed]",
      "text/plain": [
       "<Figure size 300x75 with 3 Axes>"
      ]
     },
     "metadata": {},
     "output_type": "display_data"
    }
   ],
   "source": [
    "with mpl.rc_context(fname=\"../../.matplotlibrc\"):\n",
    "    fig, ax = plt.subplots(1, 3, figsize=(3, 0.75))\n",
    "    ax[0].plot(trace[0]['Step1.soma.v'][\"time\"], trace[0]['Step1.soma.v'][\"voltage\"], c=\"k\", linewidth=1.0)\n",
    "    ax[1].plot(trace[1]['Step1.soma.v'][\"time\"], trace[1]['Step1.soma.v'][\"voltage\"], c=\"k\", linewidth=1.0)\n",
    "    ax[2].plot(trace[2]['Step1.soma.v'][\"time\"], trace[2]['Step1.soma.v'][\"voltage\"], c=\"k\", linewidth=1.0)\n",
    "    \n",
    "    for j in range(3):\n",
    "        ax[j].set_xticks([])\n",
    "        ax[j].set_ylim([-90, 50])\n",
    "        ax[j].set_yticks([])\n",
    "        ax[j].set_yticklabels([])\n",
    "        ax[j].spines[\"left\"].set_visible(False)\n",
    "        ax[j].spines[\"bottom\"].set_visible(False)\n",
    "    plt.savefig(\"../svg/panel_e.svg\")"
   ]
  },
  {
   "cell_type": "markdown",
   "id": "4ed76894-b192-4ceb-83b9-0dec92f44b9e",
   "metadata": {},
   "source": [
    "## Panel F"
   ]
  },
  {
   "cell_type": "code",
   "execution_count": 44,
   "id": "4d11c832-d356-4b69-9c2a-79c0ff685f84",
   "metadata": {},
   "outputs": [
    {
     "data": {
      "application/vnd.jupyter.widget-view+json": {
       "model_id": "df00301745c14cc3a81e758842058ece",
       "version_major": 2,
       "version_minor": 0
      },
      "text/plain": [
       "Drawing 1 posterior samples:   0%|          | 0/1 [00:00<?, ?it/s]"
      ]
     },
     "metadata": {},
     "output_type": "display_data"
    }
   ],
   "source": [
    "_ = torch.manual_seed(7)\n",
    "theta = posterior.sample((1,))\n",
    "theta = pd.DataFrame(theta.numpy(), columns=return_names())\n",
    "trace = simulate_l5pc(theta)"
   ]
  },
  {
   "cell_type": "code",
   "execution_count": 45,
   "id": "879fd58e-1dfe-47a3-8306-3686f6f8e7c7",
   "metadata": {},
   "outputs": [
    {
     "data": {
      "image/png": "[encoded data removed]",
      "text/plain": [
       "<Figure size 300x150 with 6 Axes>"
      ]
     },
     "metadata": {},
     "output_type": "display_data"
    }
   ],
   "source": [
    "with mpl.rc_context(fname=\"../../.matplotlibrc\"):\n",
    "    fig, ax = plt.subplots(2, 3, figsize=(3, 1.5))\n",
    "    ax[1, 0].plot(trace[0]['bAP.soma.v'][\"time\"], trace[0]['bAP.soma.v'][\"voltage\"], c=\"k\", linewidth=1.0)\n",
    "    ax[1, 1].plot(trace[0]['bAP.dend1.v'][\"time\"], trace[0]['bAP.dend1.v'][\"voltage\"], c=\"k\", linewidth=1.0)\n",
    "    ax[1, 2].plot(trace[0]['bAP.dend2.v'][\"time\"], trace[0]['bAP.dend2.v'][\"voltage\"], c=\"k\", linewidth=1.0)\n",
    "    ax[0, 0].plot(trace[0]['Step1.soma.v'][\"time\"], trace[0]['Step1.soma.v'][\"voltage\"], c=\"k\", linewidth=1.0)\n",
    "    ax[0, 1].plot(trace[0]['Step2.soma.v'][\"time\"], trace[0]['Step2.soma.v'][\"voltage\"], c=\"k\", linewidth=1.0)\n",
    "    ax[0, 2].plot(trace[0]['Step3.soma.v'][\"time\"], trace[0]['Step3.soma.v'][\"voltage\"], c=\"k\", linewidth=1.0)\n",
    "    \n",
    "    for i in range(2):\n",
    "        for j in range(3):\n",
    "            ax[i, j].set_xticks([])\n",
    "            ax[i, j].set_ylim([-90, 50])\n",
    "            ax[i, j].set_yticks([])\n",
    "            ax[i, j].set_yticklabels([])\n",
    "            ax[i, j].spines[\"left\"].set_visible(False)\n",
    "            ax[i, j].spines[\"bottom\"].set_visible(False)\n",
    "    plt.savefig(\"../svg/panel_f.svg\")"
   ]
  },
  {
   "cell_type": "code",
   "execution_count": 46,
   "id": "e32055ba-f5b6-46c3-83d4-ffada34e6514",
   "metadata": {},
   "outputs": [],
   "source": [
    "import time\n",
    "import IPython.display as IPd\n",
    "\n",
    "def svg(img):\n",
    "    IPd.display(IPd.HTML('<img src=\"{}\" / >'.format(img, time.time())))"
   ]
  },
  {
   "cell_type": "code",
   "execution_count": 51,
   "id": "979534d7-9b80-4dcf-833a-80bea5617e08",
   "metadata": {},
   "outputs": [
    {
     "data": {
      "text/html": [
       "<img src=\"../fig/fig5.svg\" / >"
      ],
      "text/plain": [
       "<IPython.core.display.HTML object>"
      ]
     },
     "metadata": {},
     "output_type": "display_data"
    }
   ],
   "source": [
    "from svgutils.compose import *\n",
    "\n",
    "# > Inkscape pixel is 1/90 of an inch, other software usually uses 1/72.\n",
    "# > http://www.inkscapeforum.com/viewtopic.php?f=6&t=5964\n",
    "svg_scale = 1.25  # set this to 1.25 for Inkscape, 1.0 otherwise\n",
    "\n",
    "# Panel letters in Helvetica Neue, 12pt, Medium\n",
    "kwargs_text = {'size': '12pt', 'font': 'Arial', 'weight': '800'}\n",
    "kwargs_consistent = {'size': '10pt', 'font': 'Arial', 'weight': '500', 'color': '#AF99EF'}\n",
    "kwargs_consistent1 = {'size': '10pt', 'font': 'Arial', 'weight': '500', 'color': '#9E7DD5'}\n",
    "kwargs_inconsistent = {'size': '10pt', 'font': 'Arial', 'weight': '500', 'color': '#AF99EF'}\n",
    "kwargs_text8pt = {'size': '7.7pt', 'font': 'Arial'}\n",
    "\n",
    "f = Figure(\"15.7cm\", \"9.3cm\",\n",
    "\n",
    "    Panel(\n",
    "          SVG(\"../svg/panel_a.svg\").scale(svg_scale).move(0, 0),\n",
    "          Text(\"a\", -50, -8.0, **kwargs_text),\n",
    "        Text(\"Morphology\", -14, -8.0, **kwargs_text8pt),\n",
    "    ).move(50, 20),\n",
    "    Panel(\n",
    "          SVG(\"../svg/panel_b.svg\").scale(svg_scale).move(0, 0),\n",
    "        Text(\"Step 1\", 29, 13.0, **kwargs_text8pt),\n",
    "        Text(\"Step 2\", 102, 13.0, **kwargs_text8pt),\n",
    "        Text(\"Step 3\", 177, 13.0, **kwargs_text8pt),\n",
    "        Text(\"bAP soma\", 19, 68.0, **kwargs_text8pt),\n",
    "        Text(\"bAP dend. 1\", 82, 68.0, **kwargs_text8pt),\n",
    "        Text(\"bAP dend. 2\", 160, 68.0, **kwargs_text8pt),\n",
    "        Text(\"Observation\", 90, -1.0, **kwargs_text8pt),\n",
    "        Text(\"b\", -0, -1.0, **kwargs_text),\n",
    "    ).move(140, 13),\n",
    "    Panel(\n",
    "          SVG(\"../svg/panel_c.svg\").scale(svg_scale).move(0, 0),\n",
    "          Text(\"c\", -10, -1.0, **kwargs_text),\n",
    "        Text(\"Four Prior predictives for Step 1\", 7, -1.0, **kwargs_text8pt),\n",
    "    ).move(440, 13),\n",
    "    Panel(\n",
    "          SVG(\"../svg/panel_c1.svg\").scale(svg_scale).move(0, 0),\n",
    "          Text(\"d\", -15, 16.0, **kwargs_text),\n",
    "    ).move(15, 137),\n",
    "    Panel(\n",
    "          SVG(\"../svg/panel_c2.svg\").scale(svg_scale).move(0, 0),\n",
    "    ).move(0, 230),\n",
    "    Panel(\n",
    "          SVG(\"../svg/panel_d.svg\").scale(svg_scale).move(0, 0),\n",
    "          Text(\"e\", 0, 3.0, **kwargs_text),\n",
    "        Text(\"Posterior distribution\", 50, 3.0, **kwargs_text8pt),\n",
    "    ).move(140, 150),\n",
    "    Panel(\n",
    "          SVG(\"../svg/panel_e.svg\").scale(svg_scale).move(0, 0),\n",
    "          Text(\"f\", 0, 4.0, **kwargs_text),\n",
    "        Text(\"Three Posterior predictives for Step 1\", 30, 4.0, **kwargs_text8pt),\n",
    "    ).move(370, 149),\n",
    "    Panel(\n",
    "          SVG(\"../svg/panel_f.svg\").scale(svg_scale).move(0, 0),\n",
    "        Text(\"Step 1\", 29, 13.0, **kwargs_text8pt),\n",
    "        Text(\"Step 2\", 102, 13.0, **kwargs_text8pt),\n",
    "        Text(\"Step 3\", 177, 13.0, **kwargs_text8pt),\n",
    "        Text(\"bAP soma\", 19, 68.0, **kwargs_text8pt),\n",
    "        Text(\"bAP dend. 1\", 82, 68.0, **kwargs_text8pt),\n",
    "        Text(\"bAP dend. 2\", 160, 68.0, **kwargs_text8pt),\n",
    "        Text(\"Posterior predictive\", 70, -2.0, **kwargs_text8pt),\n",
    "          Text(\"g\", 0, -2.0, **kwargs_text),\n",
    "    ).move(370, 235),\n",
    ")\n",
    "\n",
    "f.save(\"../fig/fig5.svg\")\n",
    "svg('../fig/fig5.svg')"
   ]
  },
  {
   "cell_type": "code",
   "execution_count": null,
   "id": "4e28dc01-385d-4b0a-9be3-f21245d08005",
   "metadata": {},
   "outputs": [],
   "source": []
  }
 ],
 "metadata": {
  "kernelspec": {
   "display_name": "Python 3 (ipykernel)",
   "language": "python",
   "name": "python3"
  },
  "language_info": {
   "codemirror_mode": {
    "name": "ipython",
    "version": 3
   },
   "file_extension": ".py",
   "mimetype": "text/x-python",
   "name": "python",
   "nbconvert_exporter": "python",
   "pygments_lexer": "ipython3",
   "version": "3.8.13"
  }
 },
 "nbformat": 4,
 "nbformat_minor": 5
}
