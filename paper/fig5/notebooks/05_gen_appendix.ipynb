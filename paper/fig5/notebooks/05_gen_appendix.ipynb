{
 "cells": [
  {
   "cell_type": "code",
   "execution_count": 1,
   "id": "75388998-fb6d-4aaa-a2a8-8ceca9d1fe86",
   "metadata": {},
   "outputs": [],
   "source": [
    "import matplotlib.pyplot as plt\n",
    "import numpy as np\n",
    "import torch\n",
    "import matplotlib as mpl"
   ]
  },
  {
   "cell_type": "code",
   "execution_count": 2,
   "id": "4fca8fb3-cb81-4ae0-90de-3b753239a869",
   "metadata": {},
   "outputs": [],
   "source": [
    "from sbi.utils import BoxUniform\n",
    "from torch.distributions import biject_to\n",
    "prior = BoxUniform(-torch.ones(2), torch.ones(2))"
   ]
  },
  {
   "cell_type": "code",
   "execution_count": 3,
   "id": "a44fe447-72d0-4d86-a23b-7bb90e6da559",
   "metadata": {},
   "outputs": [],
   "source": [
    "def is_in_support(theta):\n",
    "    c1 = torch.logical_and(theta[:, 0] > -1, theta[:, 0] < 1)\n",
    "    c2 = torch.logical_and(theta[:, 1] > -1, theta[:, 1] < 1)\n",
    "    return torch.logical_and(c1, c2)"
   ]
  },
  {
   "cell_type": "code",
   "execution_count": 5,
   "id": "514091eb-82cb-4057-adfd-b4ea64296362",
   "metadata": {},
   "outputs": [],
   "source": [
    "resolution = 100\n",
    "x = torch.linspace(-2, 2, resolution)\n",
    "X, Y = torch.meshgrid(x, x)\n",
    "xy = torch.stack([X, Y])\n",
    "xy = torch.reshape(xy, (2, resolution**2)).T\n",
    "in_support_constrained = is_in_support(xy)\n",
    "in_support_constrained = torch.reshape(in_support_constrained, (resolution, resolution))"
   ]
  },
  {
   "cell_type": "code",
   "execution_count": 6,
   "id": "c1a82729-840e-436b-8f2f-70de0e636e50",
   "metadata": {},
   "outputs": [],
   "source": [
    "_ = torch.manual_seed(9)\n",
    "prior_samples = prior.sample((200,))\n",
    "prior_samples = prior_samples[is_in_support(prior_samples)][:20]"
   ]
  },
  {
   "cell_type": "code",
   "execution_count": 7,
   "id": "c62bd2cb-fe5e-4b60-bb9e-b1dcd61672f9",
   "metadata": {},
   "outputs": [
    {
     "data": {
      "image/png": "[encoded data removed]",
      "text/plain": [
       "<Figure size 170x170 with 1 Axes>"
      ]
     },
     "metadata": {},
     "output_type": "display_data"
    }
   ],
   "source": [
    "linecol = \"r\"\n",
    "with mpl.rc_context(fname=\"../../.matplotlibrc\"):\n",
    "    fig, ax = plt.subplots(1, 1, figsize=(1.7, 1.7))\n",
    "    _ = ax.imshow(in_support_constrained.numpy(), extent=(-2, 2, -2, 2))\n",
    "    s = ax.scatter(prior_samples[:, 0].numpy(), prior_samples[:, 1].numpy())\n",
    "    _ = ax.set_xticks([])\n",
    "    _ = ax.set_yticks([])\n",
    "    # ax.spines[\"bottom\"].set_visible(False)\n",
    "    # ax.spines[\"left\"].set_visible(False)\n",
    "    ax.spines[\"top\"].set_visible(True)\n",
    "    ax.spines[\"right\"].set_visible(True)\n",
    "    ax.legend([s], [r\"$\\theta \\sim p(\\theta)$\"], loc=\"upper left\", bbox_to_anchor=(-0.1, -0.04), handletextpad=0.1)\n",
    "    plt.savefig(\"../svg/panel_appendix5_a.svg\")"
   ]
  },
  {
   "cell_type": "code",
   "execution_count": 8,
   "id": "08c180ba-3353-403e-b22d-145d2f00c5b2",
   "metadata": {},
   "outputs": [],
   "source": [
    "bijection = biject_to(prior.support)"
   ]
  },
  {
   "cell_type": "code",
   "execution_count": 9,
   "id": "e3391835-86ac-4c3a-83ae-61b8a85afa12",
   "metadata": {},
   "outputs": [],
   "source": [
    "resolution = 100\n",
    "x = torch.linspace(-5, 5, resolution)\n",
    "X, Y = torch.meshgrid(x, x)\n",
    "xy = torch.stack([X, Y])\n",
    "xy = torch.reshape(xy, (2, resolution**2)).T\n",
    "in_support = is_in_support(bijection(xy))\n",
    "in_support = torch.reshape(in_support, (resolution, resolution))"
   ]
  },
  {
   "cell_type": "code",
   "execution_count": 10,
   "id": "c5381e3c-4fce-4894-af72-ff3965f9203a",
   "metadata": {},
   "outputs": [],
   "source": [
    "inverse_prior = bijection.inv(prior_samples)"
   ]
  },
  {
   "cell_type": "code",
   "execution_count": 11,
   "id": "3888593b-6820-46f8-9c95-774d1932810a",
   "metadata": {},
   "outputs": [
    {
     "data": {
      "image/png": "[encoded data removed]",
      "text/plain": [
       "<Figure size 170x170 with 1 Axes>"
      ]
     },
     "metadata": {},
     "output_type": "display_data"
    }
   ],
   "source": [
    "linecol = \"r\"\n",
    "with mpl.rc_context(fname=\"../../.matplotlibrc\"):\n",
    "    fig, ax = plt.subplots(1, 1, figsize=(1.7, 1.7))\n",
    "    _ = ax.imshow(in_support.numpy(), extent=(-5, 5, -5, 5), cmap=\"cividis_r\")\n",
    "    s = ax.scatter(inverse_prior[:, 0].numpy(), inverse_prior[:, 1].numpy())\n",
    "    _ = ax.set_xticks([])\n",
    "    _ = ax.set_yticks([])\n",
    "    # ax.spines[\"bottom\"].set_visible(False)\n",
    "    # ax.spines[\"left\"].set_visible(False)\n",
    "    ax.spines[\"top\"].set_visible(True)\n",
    "    ax.spines[\"right\"].set_visible(True)\n",
    "    ax.legend([s], [r\"$\\theta^T  = T^{-1}(\\theta)$\"], loc=\"upper left\", bbox_to_anchor=(-0.1, 0.0), handletextpad=0.1)\n",
    "    plt.savefig(\"../svg/panel_appendix5_b.svg\")"
   ]
  },
  {
   "cell_type": "code",
   "execution_count": 12,
   "id": "c9e187e5-774e-41d9-888e-820239cb6d53",
   "metadata": {},
   "outputs": [],
   "source": [
    "def is_in_support_unconstrained(theta):\n",
    "    condition = torch.sum(theta**2, dim=1) < 14.0\n",
    "    return condition"
   ]
  },
  {
   "cell_type": "code",
   "execution_count": 13,
   "id": "39ced3bb-7008-4e5e-9c8d-b30c58b90dd7",
   "metadata": {},
   "outputs": [],
   "source": [
    "resolution = 100\n",
    "x = torch.linspace(-5, 5, resolution)\n",
    "X, Y = torch.meshgrid(x, x)\n",
    "xy = torch.stack([X, Y])\n",
    "xy = torch.reshape(xy, (2, resolution**2)).T\n",
    "in_support = is_in_support_unconstrained(xy)\n",
    "in_support = torch.reshape(in_support, (resolution, resolution))"
   ]
  },
  {
   "cell_type": "code",
   "execution_count": 14,
   "id": "27b272fd-f57b-4e13-9c96-beac98009915",
   "metadata": {},
   "outputs": [],
   "source": [
    "leaking_dist = BoxUniform(-5*torch.ones(2), 5*torch.ones(2))\n",
    "leaking_samples = leaking_dist.sample((100,))\n",
    "leaking_samples = leaking_samples[torch.logical_not(is_in_support_unconstrained(leaking_samples))]\n",
    "leaking_samples_standard = bijection(leaking_samples)"
   ]
  },
  {
   "cell_type": "code",
   "execution_count": 15,
   "id": "e74c597d-b1cb-443a-bcee-6aba77e6e04d",
   "metadata": {},
   "outputs": [
    {
     "data": {
      "image/png": "[encoded data removed]",
      "text/plain": [
       "<Figure size 170x170 with 1 Axes>"
      ]
     },
     "metadata": {},
     "output_type": "display_data"
    }
   ],
   "source": [
    "linecol = \"r\"\n",
    "with mpl.rc_context(fname=\"../../.matplotlibrc\"):\n",
    "    fig, ax = plt.subplots(1, 1, figsize=(1.7, 1.7))\n",
    "    _ = ax.imshow(in_support.numpy(), extent=(-5, 5, -5, 5), cmap=\"gray\")\n",
    "    s1 = ax.scatter(inverse_prior[:, 0].numpy(), inverse_prior[:, 1].numpy())\n",
    "    s2 = ax.scatter(leaking_samples[:, 0].numpy(), leaking_samples[:, 1].numpy())\n",
    "    _ = ax.set_xticks([])\n",
    "    _ = ax.set_yticks([])\n",
    "    # ax.spines[\"bottom\"].set_visible(False)\n",
    "    # ax.spines[\"left\"].set_visible(False)\n",
    "    ax.spines[\"top\"].set_visible(True)\n",
    "    ax.spines[\"right\"].set_visible(True)\n",
    "    ax.legend([s1, s2], [r\"$\\theta^T  = T^{-1}(\\theta)$\", r\"$\\theta^L$ = Leaking samples\"], loc=\"upper left\", bbox_to_anchor=(-0.1, 0.0), handletextpad=0.1)\n",
    "    plt.savefig(\"../svg/panel_appendix5_c.svg\")"
   ]
  },
  {
   "cell_type": "code",
   "execution_count": 16,
   "id": "b5a9b9b5-a4d6-4a29-a803-dbedf9fbbcc4",
   "metadata": {},
   "outputs": [
    {
     "data": {
      "image/png": "[encoded data removed]",
      "text/plain": [
       "<Figure size 170x170 with 1 Axes>"
      ]
     },
     "metadata": {},
     "output_type": "display_data"
    }
   ],
   "source": [
    "linecol = \"r\"\n",
    "with mpl.rc_context(fname=\"../../.matplotlibrc\"):\n",
    "    fig, ax = plt.subplots(1, 1, figsize=(1.7, 1.7))\n",
    "    _ = ax.imshow(in_support_constrained.numpy(), extent=(-2, 2, -2, 2))\n",
    "    _ = ax.scatter(prior_samples[:, 0].numpy(), prior_samples[:, 1].numpy())\n",
    "    _ = ax.scatter(leaking_samples_standard[:, 0].numpy(), leaking_samples_standard[:, 1].numpy())\n",
    "    _ = ax.set_xticks([])\n",
    "    _ = ax.set_yticks([])\n",
    "    # ax.spines[\"bottom\"].set_visible(False)\n",
    "    # ax.spines[\"left\"].set_visible(False)\n",
    "    ax.spines[\"top\"].set_visible(True)\n",
    "    ax.spines[\"right\"].set_visible(True)\n",
    "    ax.legend([s1, s2], [r\"$\\theta \\sim p(\\theta)$\", r\"$T(\\theta^L)$\"], loc=\"upper left\", bbox_to_anchor=(-0.1, -0.04), handletextpad=0.1)\n",
    "    plt.savefig(\"../svg/panel_appendix5_d.svg\")"
   ]
  },
  {
   "cell_type": "code",
   "execution_count": 17,
   "id": "5ea83b6e-2e3f-4dcb-a8b6-12c73ead48e6",
   "metadata": {},
   "outputs": [],
   "source": [
    "import time\n",
    "import IPython.display as IPd\n",
    "\n",
    "def svg(img):\n",
    "    IPd.display(IPd.HTML('<img src=\"{}\" / >'.format(img, time.time())))"
   ]
  },
  {
   "cell_type": "code",
   "execution_count": 18,
   "id": "815046f5-7792-4dbf-bc73-07170937e117",
   "metadata": {},
   "outputs": [
    {
     "data": {
      "text/html": [
       "<img src=\"../fig/fig7_appendix5.svg\" / >"
      ],
      "text/plain": [
       "<IPython.core.display.HTML object>"
      ]
     },
     "metadata": {},
     "output_type": "display_data"
    }
   ],
   "source": [
    "from svgutils.compose import *\n",
    "\n",
    "# > Inkscape pixel is 1/90 of an inch, other software usually uses 1/72.\n",
    "# > http://www.inkscapeforum.com/viewtopic.php?f=6&t=5964\n",
    "svg_scale = 1.25  # set this to 1.25 for Inkscape, 1.0 otherwise\n",
    "factor_svg=5.5\n",
    "\n",
    "# Panel letters in Helvetica Neue, 12pt, Medium\n",
    "kwargs_text = {'size': '12pt', 'font': 'Arial', 'weight': '800'}\n",
    "kwargs_consistent = {'size': '10pt', 'font': 'Arial', 'weight': '500', 'color': '#AF99EF'}\n",
    "kwargs_consistent1 = {'size': '10pt', 'font': 'Arial', 'weight': '500', 'color': '#9E7DD5'}\n",
    "kwargs_inconsistent = {'size': '10pt', 'font': 'Arial', 'weight': '500', 'color': '#AF99EF'}\n",
    "kwargs_text8pt = {'size': '7.7pt', 'font': 'Arial'}\n",
    "\n",
    "sizefactor = 1.0\n",
    "\n",
    "f = Figure(\"15.7cm\", \"4.8cm\",\n",
    "    Panel(\n",
    "          SVG(\"../svg/panel_appendix5_a.svg\").scale(svg_scale),\n",
    "          Text(\"a\", 3.7, 2, **kwargs_text),\n",
    "    ).move(-3.7, 10),\n",
    "    Panel(\n",
    "          SVG(\"../svg/panel_appendix5_b.svg\").scale(svg_scale),\n",
    "          Text(\"b\", 3.7, 2, **kwargs_text),\n",
    "    ).move(150.7, 10),\n",
    "    Panel(\n",
    "          SVG(\"../svg/panel_appendix5_c.svg\").scale(svg_scale),\n",
    "          Text(\"c\", 3.7, 2, **kwargs_text),\n",
    "    ).move(300.7, 10),\n",
    "    Panel(\n",
    "          SVG(\"../svg/panel_appendix5_d.svg\").scale(svg_scale),\n",
    "          Text(\"d\", 3.7, 2, **kwargs_text),\n",
    "    ).move(450.7, 10),\n",
    ")\n",
    "\n",
    "!mkdir -p fig\n",
    "f.save(\"../fig/fig7_appendix5.svg\")\n",
    "svg('../fig/fig7_appendix5.svg')"
   ]
  },
  {
   "cell_type": "code",
   "execution_count": null,
   "id": "be0305d7-d0ec-4378-bddf-dc658cef556d",
   "metadata": {},
   "outputs": [],
   "source": []
  },
  {
   "cell_type": "code",
   "execution_count": null,
   "id": "a7001bb4-82db-4986-933a-b91fa94b6505",
   "metadata": {},
   "outputs": [],
   "source": []
  },
  {
   "cell_type": "code",
   "execution_count": null,
   "id": "abc1dd07-dc43-464f-9aec-7c516d9e83c4",
   "metadata": {},
   "outputs": [],
   "source": []
  }
 ],
 "metadata": {
  "kernelspec": {
   "display_name": "Python 3 (ipykernel)",
   "language": "python",
   "name": "python3"
  },
  "language_info": {
   "codemirror_mode": {
    "name": "ipython",
    "version": 3
   },
   "file_extension": ".py",
   "mimetype": "text/x-python",
   "name": "python",
   "nbconvert_exporter": "python",
   "pygments_lexer": "ipython3",
   "version": "3.8.13"
  }
 },
 "nbformat": 4,
 "nbformat_minor": 5
}
