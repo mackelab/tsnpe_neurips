{
 "cells": [
  {
   "cell_type": "code",
   "execution_count": 1,
   "id": "b81b5de3-826f-4359-9afd-d5b4a1862bb9",
   "metadata": {},
   "outputs": [],
   "source": [
    "%load_ext autoreload\n",
    "%autoreload 2"
   ]
  },
  {
   "cell_type": "code",
   "execution_count": 2,
   "id": "62f38377-715f-4200-b813-68da82e0b8c3",
   "metadata": {},
   "outputs": [],
   "source": [
    "import pickle\n",
    "import torch\n",
    "import dill\n",
    "import numpy as np\n",
    "import matplotlib as mpl\n",
    "import matplotlib.pyplot as plt\n",
    "import pandas as pd\n",
    "from pyloric import summary_stats, simulate, create_prior\n",
    "from paper.pyloric_utils import compare_voltage_low_and_high_energy_trace\n",
    "from sbi.analysis import pairplot, marginal_plot\n",
    "from sbi.utils.posterior_ensemble import NeuralPosteriorEnsemble\n",
    "from sbi.utils.sbiutils import ImproperEmpirical"
   ]
  },
  {
   "cell_type": "markdown",
   "id": "9541b291-4cc2-4771-99a7-e374ac99cd55",
   "metadata": {},
   "source": [
    "# Panel B"
   ]
  },
  {
   "cell_type": "code",
   "execution_count": 3,
   "id": "c49e1fac-ef0e-47b2-a155-c03bd4ccb040",
   "metadata": {},
   "outputs": [],
   "source": [
    "xo = torch.as_tensor(\n",
    "    [\n",
    "        1.17085859e03,\n",
    "        2.06036434e02,\n",
    "        2.14307031e02,\n",
    "        4.12842187e02,\n",
    "        1.75970382e-01,\n",
    "        1.83034085e-01,\n",
    "        3.52597820e-01,\n",
    "        4.11600328e-01,\n",
    "        6.30544893e-01,\n",
    "        4.81925781e02,\n",
    "        2.56353125e02,\n",
    "        2.75164844e02,\n",
    "        4.20460938e01,\n",
    "        2.35011166e-01,\n",
    "        3.59104797e-02,\n",
    "        2.5,\n",
    "        2.5,\n",
    "        2.5,\n",
    "    ]\n",
    ")\n",
    "prior = create_prior().numerical_prior\n",
    "lower = prior.support.base_constraint.lower_bound\n",
    "upper = prior.support.base_constraint.upper_bound\n",
    "limits = torch.stack([lower, upper]).T\n",
    "p = create_prior()\n",
    "names = p.sample((1,)).columns\n",
    "unconstrained_prior = ImproperEmpirical(torch.rand(100, 31), torch.ones(100))"
   ]
  },
  {
   "cell_type": "markdown",
   "id": "7d8d4b10-9eee-4a56-8276-fa008c671050",
   "metadata": {},
   "source": [
    "# Panel C"
   ]
  },
  {
   "cell_type": "code",
   "execution_count": 4,
   "id": "17e5320c-9d1d-4a0e-87e2-1605feacd755",
   "metadata": {},
   "outputs": [],
   "source": [
    "with open(\"../../../l5pc/results/p31_4/multiround/2022_05_14__00_13_47__multirun/0/inference_r1.pkl\", \"rb\") as handle:\n",
    "    inference_constrained_r1 = pickle.load(handle)\n",
    "with open(\"../../../l5pc/results/p31_4/multiround/2022_05_14__00_13_47__multirun/0/inference_r5.pkl\", \"rb\") as handle:\n",
    "    inference_constrained_r5 = pickle.load(handle)\n",
    "with open(\"../../../l5pc/results/p31_4/multiround/2022_05_14__13_21_13__multirun/0/inference_r10.pkl\", \"rb\") as handle:\n",
    "    inference_constrained_r10 = pickle.load(handle)\n",
    "with open(\"../../../l5pc/results/p31_4/multiround/2022_05_14__23_49_35__multirun/0/inference_r13.pkl\", \"rb\") as handle:\n",
    "    inference_constrained_r13 = pickle.load(handle)"
   ]
  },
  {
   "cell_type": "code",
   "execution_count": 6,
   "id": "4bd9e499-6133-45de-83d5-5674c4d6a2f6",
   "metadata": {},
   "outputs": [
    {
     "data": {
      "application/vnd.jupyter.widget-view+json": {
       "model_id": "687934d3c4e84359b326adcb75556b43",
       "version_major": 2,
       "version_minor": 0
      },
      "text/plain": [
       "Drawing 10000 posterior samples:   0%|          | 0/10000 [00:00<?, ?it/s]"
      ]
     },
     "metadata": {},
     "output_type": "display_data"
    },
    {
     "data": {
      "application/vnd.jupyter.widget-view+json": {
       "model_id": "5076ce5f04fd4f3497ee797b92fbd19c",
       "version_major": 2,
       "version_minor": 0
      },
      "text/plain": [
       "Drawing 10000 posterior samples:   0%|          | 0/10000 [00:00<?, ?it/s]"
      ]
     },
     "metadata": {},
     "output_type": "display_data"
    },
    {
     "data": {
      "application/vnd.jupyter.widget-view+json": {
       "model_id": "14d1a87c46c74160b4dfb67b0f9854d4",
       "version_major": 2,
       "version_minor": 0
      },
      "text/plain": [
       "Drawing 10000 posterior samples:   0%|          | 0/10000 [00:00<?, ?it/s]"
      ]
     },
     "metadata": {},
     "output_type": "display_data"
    },
    {
     "data": {
      "application/vnd.jupyter.widget-view+json": {
       "model_id": "6c0b02aee48a4322952fce1d2aece439",
       "version_major": 2,
       "version_minor": 0
      },
      "text/plain": [
       "Drawing 10000 posterior samples:   0%|          | 0/10000 [00:00<?, ?it/s]"
      ]
     },
     "metadata": {},
     "output_type": "display_data"
    }
   ],
   "source": [
    "_ = torch.manual_seed(0)\n",
    "\n",
    "posterior_c_r1 = inference_constrained_r1[0].build_posterior().set_default_x(xo)\n",
    "samples_c_r1 = posterior_c_r1.sample((10000,))\n",
    "\n",
    "posterior_c_r5 = inference_constrained_r5[0].build_posterior().set_default_x(xo)\n",
    "samples_c_r5 = posterior_c_r5.sample((10000,))\n",
    "\n",
    "posterior_c_r10 = inference_constrained_r10[0].build_posterior().set_default_x(xo)\n",
    "samples_c_r10 = posterior_c_r10.sample((10000,))\n",
    "\n",
    "posterior_c_r13 = inference_constrained_r13[0].build_posterior().set_default_x(xo)\n",
    "samples_c_r13 = posterior_c_r13.sample((10000,))"
   ]
  },
  {
   "cell_type": "markdown",
   "id": "69525704-1987-42f6-93f7-2c5b185b7107",
   "metadata": {},
   "source": [
    "# Panel A"
   ]
  },
  {
   "cell_type": "code",
   "execution_count": 7,
   "id": "29c82631-4fe2-4581-905c-bb5546a85526",
   "metadata": {},
   "outputs": [
    {
     "data": {
      "image/png": "[encoded data removed]",
      "text/plain": [
       "<Figure size 180x100 with 1 Axes>"
      ]
     },
     "metadata": {},
     "output_type": "display_data"
    }
   ],
   "source": [
    "dim = 4\n",
    "with mpl.rc_context(fname=\"../../.matplotlibrc\"):\n",
    "    fig, ax = plt.subplots(1, 1, figsize=(1.8, 1.0))\n",
    "    _ = ax.hist(samples_c_r1[:, dim].numpy(), bins=50, range=(0, 15), color=\"k\", alpha=0.6)\n",
    "    ax.set_xticks([0, 15])\n",
    "    ax.set_xlim([-2, 17])\n",
    "    ax.set_ylabel(\"Counts\")\n",
    "    ax.set_xlabel(r\"AB/PD $\\overline{g}_{\\mathrm{KCa}}$\", labelpad=2)\n",
    "    plt.savefig(\"../svg/panel_appendix4_a1.svg\")"
   ]
  },
  {
   "cell_type": "code",
   "execution_count": 8,
   "id": "f7c0f283-e3c8-4ba3-8065-b8ab8cc7c118",
   "metadata": {},
   "outputs": [
    {
     "data": {
      "image/png": "[encoded data removed]",
      "text/plain": [
       "<Figure size 180x100 with 1 Axes>"
      ]
     },
     "metadata": {},
     "output_type": "display_data"
    }
   ],
   "source": [
    "dim = 4\n",
    "with mpl.rc_context(fname=\"../../.matplotlibrc\"):\n",
    "    fig, ax = plt.subplots(1, 1, figsize=(1.8, 1.0))\n",
    "    _ = ax.hist(samples_c_r5[:, dim].numpy(), bins=50, range=(0, 15), color=\"k\", alpha=0.6)\n",
    "    ax.set_xticks([0, 15])\n",
    "    ax.set_xlim([-2, 17])\n",
    "    ax.set_ylabel(\"Counts\")\n",
    "    ax.set_xlabel(r\"AB/PD $\\overline{g}_{\\mathrm{KCa}}$\", labelpad=2)\n",
    "    plt.savefig(\"../svg/panel_appendix4_a1.svg\")"
   ]
  },
  {
   "cell_type": "code",
   "execution_count": 9,
   "id": "da8e1d4d-8594-4867-b508-334206af027a",
   "metadata": {},
   "outputs": [
    {
     "data": {
      "image/png": "[encoded data removed]",
      "text/plain": [
       "<Figure size 180x100 with 1 Axes>"
      ]
     },
     "metadata": {},
     "output_type": "display_data"
    }
   ],
   "source": [
    "dim = 4\n",
    "with mpl.rc_context(fname=\"../../.matplotlibrc\"):\n",
    "    fig, ax = plt.subplots(1, 1, figsize=(1.8, 1.0))\n",
    "    _ = ax.hist(samples_c_r10[:, dim].numpy(), bins=50, range=(0, 15), color=\"k\", alpha=0.6)\n",
    "    ax.set_xticks([0, 15])\n",
    "    ax.set_xlim([-2, 17])\n",
    "    ax.set_xlabel(r\"AB/PD $\\overline{g}_{\\mathrm{KCa}}$\", labelpad=2)\n",
    "    plt.savefig(\"../svg/panel_appendix4_a2.svg\")"
   ]
  },
  {
   "cell_type": "code",
   "execution_count": 10,
   "id": "b73dc592-d176-4c24-b8a7-bf07c7d086a3",
   "metadata": {},
   "outputs": [
    {
     "data": {
      "image/png": "[encoded data removed]",
      "text/plain": [
       "<Figure size 180x100 with 1 Axes>"
      ]
     },
     "metadata": {},
     "output_type": "display_data"
    }
   ],
   "source": [
    "dim = 4\n",
    "with mpl.rc_context(fname=\"../../.matplotlibrc\"):\n",
    "    fig, ax = plt.subplots(1, 1, figsize=(1.8, 1.0))\n",
    "    _ = ax.hist(samples_c_r13[:, dim].numpy(), bins=50, range=(0, 15), color=\"k\", alpha=0.6)\n",
    "    ax.set_xticks([0, 15])\n",
    "    ax.set_xlim([-2, 17])\n",
    "    ax.set_xlabel(r\"AB/PD $\\overline{g}_{\\mathrm{KCa}}$\", labelpad=2)\n",
    "    plt.savefig(\"../svg/panel_appendix4_a3.svg\")"
   ]
  },
  {
   "cell_type": "markdown",
   "id": "dd1cdee7-e61f-4286-8baf-7557def0b0ba",
   "metadata": {},
   "source": [
    "# Panel B"
   ]
  },
  {
   "cell_type": "code",
   "execution_count": 11,
   "id": "aed09939-3ffd-4042-b5ef-a188dce21738",
   "metadata": {},
   "outputs": [],
   "source": [
    "from torch.distributions import biject_to\n",
    "bijection = biject_to(prior.support)"
   ]
  },
  {
   "cell_type": "code",
   "execution_count": 12,
   "id": "3bdd8d51-5b39-4ebd-bf48-03ca7fa3d500",
   "metadata": {},
   "outputs": [],
   "source": [
    "tf_samples_r5 = bijection.inv(samples_c_r5)\n",
    "tf_samples_r10 = bijection.inv(samples_c_r10)\n",
    "tf_samples_r13 = bijection.inv(samples_c_r13)"
   ]
  },
  {
   "cell_type": "code",
   "execution_count": 13,
   "id": "66ef97d1-a6fa-4bf8-82f9-082c6e5a4446",
   "metadata": {},
   "outputs": [
    {
     "data": {
      "image/png": "[encoded data removed]",
      "text/plain": [
       "<Figure size 180x100 with 1 Axes>"
      ]
     },
     "metadata": {},
     "output_type": "display_data"
    }
   ],
   "source": [
    "dim = 4\n",
    "with mpl.rc_context(fname=\"../../.matplotlibrc\"):\n",
    "    fig, ax = plt.subplots(1, 1, figsize=(1.8, 1.0))\n",
    "    _ = ax.hist(tf_samples_r5[:, dim].numpy(), bins=50, range=(-20, 20), color=\"k\", alpha=0.6)\n",
    "    ax.set_xticks([0, 15])\n",
    "    ax.set_xlim([-20, 20])\n",
    "    ax.set_ylabel(\"Counts\")\n",
    "    ax.set_xlabel(r\"$\\sigma^{-1}$(AB/PD $\\overline{g}_{\\mathrm{KCa}})$\", labelpad=2)\n",
    "    plt.savefig(\"../svg/panel_appendix4_b1.svg\")"
   ]
  },
  {
   "cell_type": "code",
   "execution_count": 14,
   "id": "e10822eb-8f8b-4c4c-9ed0-fd3e6b930d51",
   "metadata": {},
   "outputs": [
    {
     "data": {
      "image/png": "[encoded data removed]",
      "text/plain": [
       "<Figure size 180x100 with 1 Axes>"
      ]
     },
     "metadata": {},
     "output_type": "display_data"
    }
   ],
   "source": [
    "with mpl.rc_context(fname=\"../../.matplotlibrc\"):\n",
    "    fig, ax = plt.subplots(1, 1, figsize=(1.8, 1.0))\n",
    "    _ = ax.hist(tf_samples_r10[:, dim].numpy(), bins=50, range=(-20, 20), color=\"k\", alpha=0.6)\n",
    "    ax.set_xticks([0, 15])\n",
    "    ax.set_xlim([-20, 20])\n",
    "    ax.set_xlabel(r\"$\\sigma^{-1}$(AB/PD $\\overline{g}_{\\mathrm{KCa}})$\", labelpad=2)\n",
    "    plt.savefig(\"../svg/panel_appendix4_b2.svg\")"
   ]
  },
  {
   "cell_type": "code",
   "execution_count": 15,
   "id": "cfeece8d-20d5-4f76-a00f-1bec871ca40c",
   "metadata": {},
   "outputs": [
    {
     "data": {
      "image/png": "[encoded data removed]",
      "text/plain": [
       "<Figure size 180x100 with 1 Axes>"
      ]
     },
     "metadata": {},
     "output_type": "display_data"
    }
   ],
   "source": [
    "with mpl.rc_context(fname=\"../../.matplotlibrc\"):\n",
    "    fig, ax = plt.subplots(1, 1, figsize=(1.8, 1.0))\n",
    "    _ = ax.hist(tf_samples_r13[:, dim].numpy(), bins=50, range=(-20, 20), color=\"k\", alpha=0.6)\n",
    "    ax.set_xticks([0, 15])\n",
    "    ax.set_xlim([-20, 20])\n",
    "    ax.set_xlabel(r\"$\\sigma^{-1}$(AB/PD $\\overline{g}_{\\mathrm{KCa}})$\", labelpad=2)\n",
    "    plt.savefig(\"../svg/panel_appendix4_b3.svg\")"
   ]
  },
  {
   "cell_type": "markdown",
   "id": "a348cad9-eaf5-4d56-b3cd-2d41e2fa1ae1",
   "metadata": {},
   "source": [
    "# Panel C"
   ]
  },
  {
   "cell_type": "code",
   "execution_count": 16,
   "id": "d3ab9886-ad54-4013-b0f6-0ec68fab472b",
   "metadata": {},
   "outputs": [],
   "source": [
    "far_out_condition = samples_c_r5[:, 4] > 14.9\n",
    "far_out_samples = samples_c_r5[far_out_condition]\n",
    "far_out_log_probs_r1 = posterior_c_r1.log_prob(far_out_samples)\n",
    "r5_log_probs = posterior_c_r5.log_prob(far_out_samples)"
   ]
  },
  {
   "cell_type": "code",
   "execution_count": 17,
   "id": "3a77a697-1b8f-4e2d-9198-70b3cc7b9e96",
   "metadata": {},
   "outputs": [
    {
     "data": {
      "image/png": "[encoded data removed]",
      "text/plain": [
       "<Figure size 180x100 with 1 Axes>"
      ]
     },
     "metadata": {},
     "output_type": "display_data"
    }
   ],
   "source": [
    "with mpl.rc_context(fname=\"../../.matplotlibrc\"):\n",
    "    fig, ax = plt.subplots(1, 1, figsize=(1.8, 1.0))\n",
    "    _ = ax.hist(far_out_log_probs_r1.numpy(), bins=40, alpha=0.5, range=(-100,-10))\n",
    "    _ = ax.hist(r5_log_probs.numpy(), bins=40, alpha=0.5, range=(-100,-10))\n",
    "    ax.set_xlabel(\"Log-prob.\")\n",
    "    ax.set_ylabel(\"Counts\")\n",
    "    ax.legend([\"R 1\", \"R 5\"], handleheight=0.1, handletextpad=0.2, handlelength=0.8, labelspacing=0.1, loc=\"upper left\", bbox_to_anchor=(0.0, 1.1))\n",
    "    plt.savefig(\"../svg/panel_appendix4_c1.svg\")"
   ]
  },
  {
   "cell_type": "code",
   "execution_count": 18,
   "id": "152a1f2c-83ab-4856-bdbe-d5b1543111e6",
   "metadata": {},
   "outputs": [],
   "source": [
    "far_out_condition = samples_c_r10[:, 4] > 14.999\n",
    "far_out_samples = samples_c_r10[far_out_condition]\n",
    "far_out_log_probs_r5 = posterior_c_r5.log_prob(far_out_samples)\n",
    "r10_log_probs = posterior_c_r10.log_prob(far_out_samples)"
   ]
  },
  {
   "cell_type": "code",
   "execution_count": 19,
   "id": "f9d2685b-b2a9-4419-91b8-904af6c053b9",
   "metadata": {},
   "outputs": [
    {
     "data": {
      "image/png": "[encoded data removed]",
      "text/plain": [
       "<Figure size 180x100 with 1 Axes>"
      ]
     },
     "metadata": {},
     "output_type": "display_data"
    }
   ],
   "source": [
    "with mpl.rc_context(fname=\"../../.matplotlibrc\"):\n",
    "    fig, ax = plt.subplots(1, 1, figsize=(1.8, 1.0))\n",
    "    _ = ax.hist(far_out_log_probs_r5.numpy(), bins=40, alpha=0.5, range=(-100,-10))\n",
    "    _ = ax.hist(r10_log_probs.numpy(), bins=40, alpha=0.5, range=(-100,-10))\n",
    "    ax.set_xlabel(\"Log-prob.\")\n",
    "    ax.legend([\"R 5\", \"R 10\"], handleheight=0.1, handletextpad=0.2, handlelength=0.8, labelspacing=0.1, loc=\"upper left\", bbox_to_anchor=(0.0, 1.1))\n",
    "    plt.savefig(\"../svg/panel_appendix4_c2.svg\")"
   ]
  },
  {
   "cell_type": "code",
   "execution_count": 21,
   "id": "1b6280e4-b343-49c8-aab6-67f848213dd9",
   "metadata": {},
   "outputs": [],
   "source": [
    "far_out_condition = samples_c_r13[:, 4] > 14.99999\n",
    "far_out_samples = samples_c_r13[far_out_condition]\n",
    "far_out_log_probs_r10 = posterior_c_r10.log_prob(far_out_samples)\n",
    "r13_log_probs = posterior_c_r13.log_prob(far_out_samples)"
   ]
  },
  {
   "cell_type": "code",
   "execution_count": 22,
   "id": "dd3747d3-e83d-491b-8c62-d18bd5a3d76d",
   "metadata": {},
   "outputs": [
    {
     "data": {
      "image/png": "[encoded data removed]",
      "text/plain": [
       "<Figure size 180x100 with 1 Axes>"
      ]
     },
     "metadata": {},
     "output_type": "display_data"
    }
   ],
   "source": [
    "with mpl.rc_context(fname=\"../../.matplotlibrc\"):\n",
    "    fig, ax = plt.subplots(1, 1, figsize=(1.8, 1.0))\n",
    "    _ = ax.hist(far_out_log_probs_r10.numpy(), bins=40, alpha=0.5, range=(-100,-10))\n",
    "    _ = ax.hist(r13_log_probs.numpy(), bins=40, alpha=0.5, range=(-100,-10))\n",
    "    ax.set_xlabel(\"Log-prob.\")\n",
    "    ax.legend([\"R 10\", \"R 13\"], handleheight=0.1, handletextpad=0.2, handlelength=0.8, labelspacing=0.1, loc=\"upper left\", bbox_to_anchor=(0.0, 1.1))\n",
    "    plt.savefig(\"../svg/panel_appendix4_c3.svg\")"
   ]
  },
  {
   "cell_type": "markdown",
   "id": "d49f8f59-7f13-4e92-b840-3b62fc2a2377",
   "metadata": {},
   "source": [
    "# Assemble figure"
   ]
  },
  {
   "cell_type": "code",
   "execution_count": 23,
   "id": "d98016d3-aa41-4e08-93ad-e0ec564d292d",
   "metadata": {},
   "outputs": [],
   "source": [
    "import time\n",
    "import IPython.display as IPd\n",
    "\n",
    "def svg(img):\n",
    "    IPd.display(IPd.HTML('<img src=\"{}\" / >'.format(img, time.time())))"
   ]
  },
  {
   "cell_type": "code",
   "execution_count": 24,
   "id": "32ee9e16-1ea9-445c-b5e3-2632ea2711c1",
   "metadata": {},
   "outputs": [
    {
     "data": {
      "text/html": [
       "<img src=\"../fig/fig7_appendix4.svg\" / >"
      ],
      "text/plain": [
       "<IPython.core.display.HTML object>"
      ]
     },
     "metadata": {},
     "output_type": "display_data"
    }
   ],
   "source": [
    "from svgutils.compose import *\n",
    "\n",
    "# > Inkscape pixel is 1/90 of an inch, other software usually uses 1/72.\n",
    "# > http://www.inkscapeforum.com/viewtopic.php?f=6&t=5964\n",
    "svg_scale = 1.25  # set this to 1.25 for Inkscape, 1.0 otherwise\n",
    "factor_svg=5.5\n",
    "\n",
    "# Panel letters in Helvetica Neue, 12pt, Medium\n",
    "kwargs_text = {'size': '12pt', 'font': 'Arial', 'weight': '800'}\n",
    "kwargs_consistent = {'size': '10pt', 'font': 'Arial', 'weight': '500', 'color': '#AF99EF'}\n",
    "kwargs_consistent1 = {'size': '10pt', 'font': 'Arial', 'weight': '500', 'color': '#9E7DD5'}\n",
    "kwargs_inconsistent = {'size': '10pt', 'font': 'Arial', 'weight': '500', 'color': '#AF99EF'}\n",
    "kwargs_text8pt = {'size': '7.7pt', 'font': 'Arial'}\n",
    "\n",
    "sizefactor = 1.0\n",
    "\n",
    "f = Figure(\"15.7cm\", \"10.0cm\",\n",
    "    Panel(\n",
    "          SVG(\"../svg/panel_appendix4_a1.svg\").scale(svg_scale),\n",
    "          Text(\"Round 5\", 89.7, 2, **kwargs_text8pt),\n",
    "          Text(\"a\", 2.7, 2, **kwargs_text),\n",
    "    ).move(-1.2, 10),\n",
    "    Panel(\n",
    "          SVG(\"../svg/panel_appendix4_a2.svg\").scale(svg_scale),\n",
    "          Text(\"Round 10\", 79.7, 2, **kwargs_text8pt),\n",
    "    ).move(190.7, 10),\n",
    "    Panel(\n",
    "          SVG(\"../svg/panel_appendix4_a3.svg\").scale(svg_scale),\n",
    "          Text(\"Round 13\", 79.7, 2, **kwargs_text8pt),\n",
    "    ).move(380.7, 10),\n",
    "    \n",
    "    Panel(\n",
    "          SVG(\"../svg/panel_appendix4_b1.svg\").scale(svg_scale),\n",
    "          Text(\"b\", 8.2, 2, **kwargs_text),\n",
    "    ).move(-6.7, 130),\n",
    "    Panel(\n",
    "          SVG(\"../svg/panel_appendix4_b2.svg\").scale(svg_scale),\n",
    "    ).move(190.7, 130),\n",
    "    Panel(\n",
    "          SVG(\"../svg/panel_appendix4_b3.svg\").scale(svg_scale),\n",
    "    ).move(380.7, 130),\n",
    "    \n",
    "    Panel(\n",
    "          SVG(\"../svg/panel_appendix4_c1.svg\").scale(svg_scale),\n",
    "          Text(\"c\", 2.8, 2, **kwargs_text),\n",
    "    ).move(-1.3, 260),\n",
    "    Panel(\n",
    "          SVG(\"../svg/panel_appendix4_c2.svg\").scale(svg_scale),\n",
    "    ).move(200.2, 260),\n",
    "    Panel(\n",
    "          SVG(\"../svg/panel_appendix4_c3.svg\").scale(svg_scale),\n",
    "    ).move(385.7, 260),\n",
    ")\n",
    "\n",
    "!mkdir -p fig\n",
    "f.save(\"../fig/fig7_appendix4.svg\")\n",
    "svg('../fig/fig7_appendix4.svg')"
   ]
  },
  {
   "cell_type": "code",
   "execution_count": null,
   "id": "fc45b0fd-4f93-415d-95e3-b8fff2d58601",
   "metadata": {},
   "outputs": [],
   "source": []
  },
  {
   "cell_type": "code",
   "execution_count": null,
   "id": "5063cb2e-f62a-4065-b8ad-9c85de53732b",
   "metadata": {},
   "outputs": [],
   "source": []
  }
 ],
 "metadata": {
  "kernelspec": {
   "display_name": "Python 3 (ipykernel)",
   "language": "python",
   "name": "python3"
  },
  "language_info": {
   "codemirror_mode": {
    "name": "ipython",
    "version": 3
   },
   "file_extension": ".py",
   "mimetype": "text/x-python",
   "name": "python",
   "nbconvert_exporter": "python",
   "pygments_lexer": "ipython3",
   "version": "3.8.13"
  }
 },
 "nbformat": 4,
 "nbformat_minor": 5
}
