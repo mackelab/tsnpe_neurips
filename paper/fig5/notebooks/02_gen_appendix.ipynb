{
 "cells": [
  {
   "cell_type": "code",
   "execution_count": 1,
   "id": "b81b5de3-826f-4359-9afd-d5b4a1862bb9",
   "metadata": {},
   "outputs": [],
   "source": [
    "%load_ext autoreload\n",
    "%autoreload 2"
   ]
  },
  {
   "cell_type": "code",
   "execution_count": 2,
   "id": "62f38377-715f-4200-b813-68da82e0b8c3",
   "metadata": {},
   "outputs": [],
   "source": [
    "import pickle\n",
    "import torch\n",
    "import dill\n",
    "import numpy as np\n",
    "import matplotlib as mpl\n",
    "import matplotlib.pyplot as plt\n",
    "import pandas as pd\n",
    "from pyloric import summary_stats, simulate, create_prior\n",
    "from paper.pyloric_utils import compare_voltage_low_and_high_energy_trace\n",
    "from sbi.analysis import pairplot, marginal_plot\n",
    "from sbi.utils.posterior_ensemble import NeuralPosteriorEnsemble\n",
    "from sbi.utils.sbiutils import ImproperEmpirical"
   ]
  },
  {
   "cell_type": "markdown",
   "id": "4a0c7e4a-d7d6-46a5-b7a0-5cd0d09e468e",
   "metadata": {},
   "source": [
    "# Panel A"
   ]
  },
  {
   "cell_type": "code",
   "execution_count": 3,
   "id": "c49e1fac-ef0e-47b2-a155-c03bd4ccb040",
   "metadata": {},
   "outputs": [],
   "source": [
    "xo = torch.as_tensor(\n",
    "    [\n",
    "        1.17085859e03,\n",
    "        2.06036434e02,\n",
    "        2.14307031e02,\n",
    "        4.12842187e02,\n",
    "        1.75970382e-01,\n",
    "        1.83034085e-01,\n",
    "        3.52597820e-01,\n",
    "        4.11600328e-01,\n",
    "        6.30544893e-01,\n",
    "        4.81925781e02,\n",
    "        2.56353125e02,\n",
    "        2.75164844e02,\n",
    "        4.20460938e01,\n",
    "        2.35011166e-01,\n",
    "        3.59104797e-02,\n",
    "        2.5,\n",
    "        2.5,\n",
    "        2.5,\n",
    "    ]\n",
    ")\n",
    "prior = create_prior().numerical_prior\n",
    "lower = prior.support.base_constraint.lower_bound\n",
    "upper = prior.support.base_constraint.upper_bound\n",
    "limits = torch.stack([lower, upper]).T\n",
    "p = create_prior()\n",
    "names = p.sample((1,)).columns\n",
    "unconstrained_prior = ImproperEmpirical(torch.rand(100, 31), torch.ones(100))"
   ]
  },
  {
   "cell_type": "code",
   "execution_count": 34,
   "id": "17e5320c-9d1d-4a0e-87e2-1605feacd755",
   "metadata": {},
   "outputs": [],
   "source": [
    "with open(\"../../../l5pc/results/p31_4/multiround/2022_05_14__23_49_35__multirun/0/inference_r13.pkl\", \"rb\") as handle:\n",
    "    inference_constrained_r13 = pickle.load(handle)\n",
    "with open(\"../../../l5pc/results/p31_4/multiround/2022_05_14__00_13_47__multirun/0/inference_r5.pkl\", \"rb\") as handle:\n",
    "    inference_constrained_r5 = pickle.load(handle)"
   ]
  },
  {
   "cell_type": "code",
   "execution_count": 35,
   "id": "4bd9e499-6133-45de-83d5-5674c4d6a2f6",
   "metadata": {},
   "outputs": [],
   "source": [
    "posterior_c_r13 = inference_constrained_r13[0].build_posterior().set_default_x(xo)\n",
    "posterior_c_r5 = inference_constrained_r5[0].build_posterior().set_default_x(xo)"
   ]
  },
  {
   "cell_type": "code",
   "execution_count": 82,
   "id": "5a0840c2-1200-4ff8-baef-9154e1a6c8d6",
   "metadata": {},
   "outputs": [
    {
     "data": {
      "application/vnd.jupyter.widget-view+json": {
       "model_id": "096996825b5f446690ff0c903fa56781",
       "version_major": 2,
       "version_minor": 0
      },
      "text/plain": [
       "Drawing 10000 posterior samples:   0%|          | 0/10000 [00:00<?, ?it/s]"
      ]
     },
     "metadata": {},
     "output_type": "display_data"
    }
   ],
   "source": [
    "_ = torch.manual_seed(1)\n",
    "samples_c_r13 = posterior_c_r13.sample((10000,))"
   ]
  },
  {
   "cell_type": "code",
   "execution_count": 83,
   "id": "ceb86685-a9b9-4234-8d64-be3ffa1c7773",
   "metadata": {},
   "outputs": [],
   "source": [
    "time_vec = np.arange(0, 11000, 0.025)"
   ]
  },
  {
   "cell_type": "markdown",
   "id": "b0de8856-9b94-4759-b323-2e23bc817271",
   "metadata": {},
   "source": [
    "# Panel A"
   ]
  },
  {
   "cell_type": "code",
   "execution_count": 84,
   "id": "d40adf20-e2eb-4693-b2da-8bb725379546",
   "metadata": {},
   "outputs": [],
   "source": [
    "_ = torch.manual_seed(0)\n",
    "normal_samples = pd.DataFrame(samples_c_r13.numpy(), columns=names)\n",
    "traces = [simulate(normal_samples.loc[i]) for i in range(2)]"
   ]
  },
  {
   "cell_type": "code",
   "execution_count": 85,
   "id": "317aeb55-36ed-40cf-b13f-45b65d1c847d",
   "metadata": {},
   "outputs": [
    {
     "name": "stdout",
     "output_type": "stream",
     "text": [
      "Showing :   3.0 seconds\n",
      "Scalebar indicates:  50mV\n"
     ]
    },
    {
     "data": {
      "image/png": "[encoded data removed]",
      "text/plain": [
       "<Figure size 160x100 with 1 Axes>"
      ]
     },
     "metadata": {},
     "output_type": "display_data"
    },
    {
     "name": "stdout",
     "output_type": "stream",
     "text": [
      "Showing :   3.0 seconds\n",
      "Scalebar indicates:  50mV\n"
     ]
    },
    {
     "data": {
      "image/png": "[encoded data removed]",
      "text/plain": [
       "<Figure size 160x100 with 1 Axes>"
      ]
     },
     "metadata": {},
     "output_type": "display_data"
    }
   ],
   "source": [
    "for i in range(2):\n",
    "    with mpl.rc_context(fname=\"../../.matplotlibrc\"):\n",
    "        compare_voltage_low_and_high_energy_trace(\n",
    "            traces[i],\n",
    "            time_vec,\n",
    "            figsize=(1.6, 1.0),\n",
    "        )\n",
    "        plt.savefig(f\"../svg/panel_appendix1_a{i}.svg\", transparent=True)\n",
    "        plt.show()"
   ]
  },
  {
   "cell_type": "code",
   "execution_count": 86,
   "id": "e0d89ea8-dd41-4f34-8434-0e76a2ccd347",
   "metadata": {},
   "outputs": [],
   "source": [
    "far_out_condition = samples_c_r13[:, 4] > 14.9999\n",
    "far_out_samples = samples_c_r13[far_out_condition]\n",
    "far_out_samples_pd = pd.DataFrame(far_out_samples.numpy(), columns=names)"
   ]
  },
  {
   "cell_type": "code",
   "execution_count": 87,
   "id": "6b77d147-5c2e-46c0-aa59-0f990f5db6d7",
   "metadata": {},
   "outputs": [],
   "source": [
    "_ = torch.manual_seed(0)\n",
    "traces = [simulate(far_out_samples_pd.loc[i]) for i in range(2)]"
   ]
  },
  {
   "cell_type": "code",
   "execution_count": 88,
   "id": "0d57e3c1-cc13-447a-8092-aaafe4172188",
   "metadata": {},
   "outputs": [
    {
     "name": "stdout",
     "output_type": "stream",
     "text": [
      "Showing :   3.0 seconds\n",
      "Scalebar indicates:  50mV\n"
     ]
    },
    {
     "data": {
      "image/png": "[encoded data removed]",
      "text/plain": [
       "<Figure size 160x100 with 1 Axes>"
      ]
     },
     "metadata": {},
     "output_type": "display_data"
    },
    {
     "name": "stdout",
     "output_type": "stream",
     "text": [
      "Showing :   3.0 seconds\n",
      "Scalebar indicates:  50mV\n"
     ]
    },
    {
     "data": {
      "image/png": "[encoded data removed]",
      "text/plain": [
       "<Figure size 160x100 with 1 Axes>"
      ]
     },
     "metadata": {},
     "output_type": "display_data"
    }
   ],
   "source": [
    "for i in range(2):\n",
    "    with mpl.rc_context(fname=\"../../.matplotlibrc\"):\n",
    "        compare_voltage_low_and_high_energy_trace(\n",
    "            traces[i],\n",
    "            time_vec,\n",
    "            figsize=(1.6, 1.0),\n",
    "        )\n",
    "        plt.savefig(f\"../svg/panel_appendix1_b{i}.svg\", transparent=True)\n",
    "        plt.show()"
   ]
  },
  {
   "cell_type": "markdown",
   "id": "62bb561d-7d26-41df-9a35-14093baad081",
   "metadata": {},
   "source": [
    "# Panel E"
   ]
  },
  {
   "cell_type": "code",
   "execution_count": 89,
   "id": "da718fa1-0d94-4300-9186-75b05dcd5a8d",
   "metadata": {},
   "outputs": [],
   "source": [
    "with open(\"/home/michael/Documents/tsnpe_collection/l5pc/results/p31_4/multiround/2022_05_17__01_40_01__multirun/0/inference_r13.pkl\", \"rb\") as handle:\n",
    "    inference_tsnpe_r13 = pickle.load(handle)"
   ]
  },
  {
   "cell_type": "code",
   "execution_count": 90,
   "id": "7584c1dd-a1f4-48cf-8dd1-63a2c845a008",
   "metadata": {},
   "outputs": [],
   "source": [
    "posterior_tsnpe_r13 = inference_tsnpe_r13[0].build_posterior().set_default_x(xo)"
   ]
  },
  {
   "cell_type": "code",
   "execution_count": 91,
   "id": "05b191ae-c8d5-47e5-8d99-2beee08e6840",
   "metadata": {},
   "outputs": [
    {
     "data": {
      "application/vnd.jupyter.widget-view+json": {
       "model_id": "4ed41c5509c04b1daca9249b7708493c",
       "version_major": 2,
       "version_minor": 0
      },
      "text/plain": [
       "Drawing 10000 posterior samples:   0%|          | 0/10000 [00:00<?, ?it/s]"
      ]
     },
     "metadata": {},
     "output_type": "display_data"
    }
   ],
   "source": [
    "_ = torch.manual_seed(2)\n",
    "samples_tsnpe_r13 = posterior_tsnpe_r13.sample((10000,))"
   ]
  },
  {
   "cell_type": "code",
   "execution_count": 92,
   "id": "3a70d608-63db-4642-82bd-d55fd1b68809",
   "metadata": {},
   "outputs": [],
   "source": [
    "sorted_params_pd = pd.DataFrame(samples_tsnpe_r13, columns=names)"
   ]
  },
  {
   "cell_type": "code",
   "execution_count": 93,
   "id": "68199c83-dc37-48e4-927f-02c5176f4a97",
   "metadata": {},
   "outputs": [],
   "source": [
    "_ = torch.manual_seed(0)\n",
    "all_out_targets = []\n",
    "summstats = []\n",
    "for counter in range(4):\n",
    "    out_target = simulate(sorted_params_pd.loc[counter], seed=0)\n",
    "    summstats.append(summary_stats(out_target))\n",
    "    all_out_targets.append(out_target)"
   ]
  },
  {
   "cell_type": "code",
   "execution_count": 94,
   "id": "cbc05e2a-d3f9-4f70-b9d5-7e0d590ff0f2",
   "metadata": {},
   "outputs": [],
   "source": [
    "time_vec = np.arange(0, 11000, 0.025)"
   ]
  },
  {
   "cell_type": "code",
   "execution_count": 95,
   "id": "bfe95845-9f72-4f9d-909e-6ab0f7d91a3b",
   "metadata": {},
   "outputs": [
    {
     "name": "stdout",
     "output_type": "stream",
     "text": [
      "Showing :   3.0 seconds\n",
      "Scalebar indicates:  50mV\n"
     ]
    },
    {
     "data": {
      "image/png": "[encoded data removed]",
      "text/plain": [
       "<Figure size 160x100 with 1 Axes>"
      ]
     },
     "metadata": {},
     "output_type": "display_data"
    },
    {
     "name": "stdout",
     "output_type": "stream",
     "text": [
      "Showing :   3.0 seconds\n",
      "Scalebar indicates:  50mV\n"
     ]
    },
    {
     "data": {
      "image/png": "[encoded data removed]",
      "text/plain": [
       "<Figure size 160x100 with 1 Axes>"
      ]
     },
     "metadata": {},
     "output_type": "display_data"
    },
    {
     "name": "stdout",
     "output_type": "stream",
     "text": [
      "Showing :   3.0 seconds\n",
      "Scalebar indicates:  50mV\n"
     ]
    },
    {
     "data": {
      "image/png": "[encoded data removed]",
      "text/plain": [
       "<Figure size 160x100 with 1 Axes>"
      ]
     },
     "metadata": {},
     "output_type": "display_data"
    },
    {
     "name": "stdout",
     "output_type": "stream",
     "text": [
      "Showing :   3.0 seconds\n",
      "Scalebar indicates:  50mV\n"
     ]
    },
    {
     "data": {
      "image/png": "[encoded data removed]",
      "text/plain": [
       "<Figure size 160x100 with 1 Axes>"
      ]
     },
     "metadata": {},
     "output_type": "display_data"
    }
   ],
   "source": [
    "for i in range(4):\n",
    "    with mpl.rc_context(fname=\"../../.matplotlibrc\"):\n",
    "        compare_voltage_low_and_high_energy_trace(\n",
    "            all_out_targets[i],\n",
    "            time_vec,\n",
    "            figsize=(1.6, 1.0),\n",
    "        )\n",
    "        plt.savefig(f\"../svg/panel_appendix1_c{i}.svg\", transparent=True)\n",
    "        plt.show()"
   ]
  },
  {
   "cell_type": "markdown",
   "id": "4a2fbbd4-cb26-4908-8f6e-a790fa621038",
   "metadata": {
    "tags": []
   },
   "source": [
    "## Assemble figure"
   ]
  },
  {
   "cell_type": "code",
   "execution_count": 96,
   "id": "d98016d3-aa41-4e08-93ad-e0ec564d292d",
   "metadata": {},
   "outputs": [],
   "source": [
    "import time\n",
    "import IPython.display as IPd\n",
    "\n",
    "def svg(img):\n",
    "    IPd.display(IPd.HTML('<img src=\"{}\" / >'.format(img, time.time())))"
   ]
  },
  {
   "cell_type": "code",
   "execution_count": 97,
   "id": "32ee9e16-1ea9-445c-b5e3-2632ea2711c1",
   "metadata": {},
   "outputs": [
    {
     "data": {
      "text/html": [
       "<img src=\"../fig/fig7_appendix1.svg\" / >"
      ],
      "text/plain": [
       "<IPython.core.display.HTML object>"
      ]
     },
     "metadata": {},
     "output_type": "display_data"
    }
   ],
   "source": [
    "from svgutils.compose import *\n",
    "\n",
    "# > Inkscape pixel is 1/90 of an inch, other software usually uses 1/72.\n",
    "# > http://www.inkscapeforum.com/viewtopic.php?f=6&t=5964\n",
    "svg_scale = 1.25  # set this to 1.25 for Inkscape, 1.0 otherwise\n",
    "factor_svg=5.5\n",
    "\n",
    "# Panel letters in Helvetica Neue, 12pt, Medium\n",
    "kwargs_text = {'size': '12pt', 'font': 'Arial', 'weight': '800'}\n",
    "kwargs_consistent = {'size': '10pt', 'font': 'Arial', 'weight': '500', 'color': '#AF99EF'}\n",
    "kwargs_consistent1 = {'size': '10pt', 'font': 'Arial', 'weight': '500', 'color': '#9E7DD5'}\n",
    "kwargs_inconsistent = {'size': '10pt', 'font': 'Arial', 'weight': '500', 'color': '#AF99EF'}\n",
    "kwargs_text8pt = {'size': '7.7pt', 'font': 'Arial'}\n",
    "\n",
    "sizefactor = 1.0\n",
    "\n",
    "f = Figure(\"15.7cm\", \"2.6cm\",\n",
    "    Panel(\n",
    "          SVG(\"../svg/panel_appendix1_a0.svg\").scale(svg_scale),\n",
    "          Text(\"a\", -5, -2, **kwargs_text),\n",
    "          Text(\"APT posterior predictives\", 75, -2, **kwargs_text8pt),\n",
    "    ).move(5, 15),\n",
    "    Panel(\n",
    "          SVG(\"../svg/panel_appendix1_a1.svg\").scale(svg_scale),\n",
    "    ).move(135, 15),\n",
    "    Panel(\n",
    "          SVG(\"../svg/panel_appendix1_b0.svg\").scale(svg_scale),\n",
    "          Text(\"b\", -5, -2, **kwargs_text),\n",
    "          Text(\"APT posterior predictives from 'leaking' region\", 25, -2, **kwargs_text8pt),\n",
    "    ).move(295, 15),\n",
    "    Panel(\n",
    "          SVG(\"../svg/panel_appendix1_b1.svg\").scale(svg_scale),\n",
    "    ).move(425, 15),    \n",
    ")\n",
    "\n",
    "!mkdir -p fig\n",
    "f.save(\"../fig/fig7_appendix1.svg\")\n",
    "svg('../fig/fig7_appendix1.svg')"
   ]
  },
  {
   "cell_type": "code",
   "execution_count": 98,
   "id": "0a989126-8057-4a67-8b52-3f24ee8fcb8e",
   "metadata": {},
   "outputs": [
    {
     "data": {
      "text/html": [
       "<img src=\"../fig/fig7_appendix2.svg\" / >"
      ],
      "text/plain": [
       "<IPython.core.display.HTML object>"
      ]
     },
     "metadata": {},
     "output_type": "display_data"
    }
   ],
   "source": [
    "from svgutils.compose import *\n",
    "\n",
    "# > Inkscape pixel is 1/90 of an inch, other software usually uses 1/72.\n",
    "# > http://www.inkscapeforum.com/viewtopic.php?f=6&t=5964\n",
    "svg_scale = 1.25  # set this to 1.25 for Inkscape, 1.0 otherwise\n",
    "factor_svg=5.5\n",
    "\n",
    "# Panel letters in Helvetica Neue, 12pt, Medium\n",
    "kwargs_text = {'size': '12pt', 'font': 'Arial', 'weight': '800'}\n",
    "kwargs_consistent = {'size': '10pt', 'font': 'Arial', 'weight': '500', 'color': '#AF99EF'}\n",
    "kwargs_consistent1 = {'size': '10pt', 'font': 'Arial', 'weight': '500', 'color': '#9E7DD5'}\n",
    "kwargs_inconsistent = {'size': '10pt', 'font': 'Arial', 'weight': '500', 'color': '#AF99EF'}\n",
    "kwargs_text8pt = {'size': '7.7pt', 'font': 'Arial'}\n",
    "\n",
    "sizefactor = 1.0\n",
    "\n",
    "f = Figure(\"15.7cm\", \"2.3cm\",\n",
    "    Panel(\n",
    "          SVG(\"../svg/panel_appendix1_c0.svg\").scale(svg_scale),\n",
    "          Text(\"TSNPE posterior predictives\", 205, 1, **kwargs_text8pt),\n",
    "    ).move(5, 8),\n",
    "    Panel(\n",
    "          SVG(\"../svg/panel_appendix1_c1.svg\").scale(svg_scale),\n",
    "    ).move(140, 8),\n",
    "    Panel(\n",
    "          SVG(\"../svg/panel_appendix1_c2.svg\").scale(svg_scale),\n",
    "    ).move(275, 8),\n",
    "    Panel(\n",
    "          SVG(\"../svg/panel_appendix1_c3.svg\").scale(svg_scale),\n",
    "    ).move(410, 8),    \n",
    ")\n",
    "\n",
    "!mkdir -p fig\n",
    "f.save(\"../fig/fig7_appendix2.svg\")\n",
    "svg('../fig/fig7_appendix2.svg')"
   ]
  },
  {
   "cell_type": "code",
   "execution_count": null,
   "id": "fc45b0fd-4f93-415d-95e3-b8fff2d58601",
   "metadata": {},
   "outputs": [],
   "source": []
  }
 ],
 "metadata": {
  "kernelspec": {
   "display_name": "Python 3 (ipykernel)",
   "language": "python",
   "name": "python3"
  },
  "language_info": {
   "codemirror_mode": {
    "name": "ipython",
    "version": 3
   },
   "file_extension": ".py",
   "mimetype": "text/x-python",
   "name": "python",
   "nbconvert_exporter": "python",
   "pygments_lexer": "ipython3",
   "version": "3.8.13"
  }
 },
 "nbformat": 4,
 "nbformat_minor": 5
}
