{
 "cells": [
  {
   "cell_type": "code",
   "execution_count": 1,
   "id": "2e4d6c5e-2674-47bc-9449-c81ff76df6e5",
   "metadata": {},
   "outputs": [],
   "source": [
    "from sbi.utils import BoxUniform\n",
    "import torch\n",
    "from sbi.inference import SNPE\n",
    "from sbi.analysis import pairplot\n",
    "import matplotlib.pyplot as plt\n",
    "from torch import ones\n",
    "import matplotlib as mpl\n",
    "import pickle\n",
    "from sbi.utils.support_posterior import PosteriorSupport"
   ]
  },
  {
   "cell_type": "code",
   "execution_count": 2,
   "id": "1735cf10-6263-46fd-9ebc-6068f652c7f6",
   "metadata": {},
   "outputs": [],
   "source": [
    "def my_sim(theta):\n",
    "    return theta**2 + torch.randn(theta.shape)*0.2"
   ]
  },
  {
   "cell_type": "code",
   "execution_count": 3,
   "id": "0405daba-b2b3-4502-8cf8-3f796edc68d6",
   "metadata": {},
   "outputs": [],
   "source": [
    "p1 = BoxUniform(-2*ones(1), -1*ones(1))\n",
    "p2 = BoxUniform(ones(1), 2*ones(1))"
   ]
  },
  {
   "cell_type": "code",
   "execution_count": 4,
   "id": "65fa3c96-b946-48cd-a388-a10a8a32b59c",
   "metadata": {},
   "outputs": [],
   "source": [
    "class SharedPrior(BoxUniform):\n",
    "    def __init__(self, p1, p2):\n",
    "        self.p1 = p1\n",
    "        self.p2 = p2\n",
    "    def sample(self, num_samples):\n",
    "        s = num_samples[0] / 2\n",
    "        s1 = self.p1.sample((int(s),))\n",
    "        s2 = self.p2.sample((int(s),))\n",
    "        cated = torch.cat([s1, s2])\n",
    "        r = torch.randperm(cated.size()[0])\n",
    "        return cated[r]\n",
    "    def log_prob(self, theta):\n",
    "        p1 = torch.exp(self.p1.log_prob(theta))\n",
    "        p2 = torch.exp(self.p2.log_prob(theta))\n",
    "        return torch.log(0.5 * p1 + 0.5 * p2)"
   ]
  },
  {
   "cell_type": "code",
   "execution_count": 5,
   "id": "71536cd4-17f3-41e0-86d6-ff2ad75022c8",
   "metadata": {},
   "outputs": [],
   "source": [
    "prior = SharedPrior(p1, p2)"
   ]
  },
  {
   "cell_type": "code",
   "execution_count": 6,
   "id": "cc0083c9-1133-4bda-b74c-5683437fe3b3",
   "metadata": {},
   "outputs": [],
   "source": [
    "grid_low = -2.5\n",
    "grid_high = 2.5\n",
    "def eval_likelihood(theta, x):\n",
    "    mean = theta**2\n",
    "    dist = torch.distributions.Normal(mean, 0.2)\n",
    "    return dist.log_prob(x)\n",
    "def eval_prior(theta):\n",
    "    return prior.log_prob(theta.unsqueeze(1))"
   ]
  },
  {
   "cell_type": "code",
   "execution_count": 7,
   "id": "1a142e82-e309-4609-8cdc-ed3f7233bfc9",
   "metadata": {},
   "outputs": [],
   "source": [
    "xo = torch.tensor([1.2])\n",
    "resolution = 500\n",
    "def posterior_eval(theta):\n",
    "    ll = eval_likelihood(theta, xo)\n",
    "    pl = eval_prior(theta)\n",
    "    joint = ll + pl\n",
    "    joint_exp = torch.exp(joint)\n",
    "    integral = torch.sum(joint_exp) / resolution * (grid_high - grid_low)\n",
    "    posterior = joint_exp / integral\n",
    "    return posterior"
   ]
  },
  {
   "cell_type": "code",
   "execution_count": 8,
   "id": "e54fcebe-a3b5-4944-aba7-cfcdfb70f051",
   "metadata": {},
   "outputs": [],
   "source": [
    "theta_range = torch.linspace(grid_low, grid_high, resolution)"
   ]
  },
  {
   "cell_type": "code",
   "execution_count": 9,
   "id": "44b7a4e0-9383-4023-bc8c-b642648f0d4e",
   "metadata": {},
   "outputs": [],
   "source": [
    "post = posterior_eval(theta_range)"
   ]
  },
  {
   "cell_type": "code",
   "execution_count": 10,
   "id": "161b4f85-c550-40c4-a4dd-2dbdb3550835",
   "metadata": {},
   "outputs": [],
   "source": [
    "prior_probs = eval_prior(theta_range)"
   ]
  },
  {
   "cell_type": "code",
   "execution_count": 11,
   "id": "cb59a467-1c3e-4abe-976d-9913c6eed372",
   "metadata": {},
   "outputs": [
    {
     "data": {
      "image/png": "[encoded data removed]",
      "text/plain": [
       "<Figure size 200x80 with 1 Axes>"
      ]
     },
     "metadata": {},
     "output_type": "display_data"
    }
   ],
   "source": [
    "with mpl.rc_context(fname=\"../../.matplotlibrc\"):\n",
    "    fig, ax = plt.subplots(1, 1, figsize=(2, 0.8))\n",
    "    _ = ax.plot(theta_range.numpy(), post.numpy(), c=\"k\")\n",
    "    _ = ax.plot(theta_range.numpy(), torch.exp(prior_probs).numpy(), c=\"gray\")\n",
    "    ax.set_yticks([])\n",
    "    ax.set_xticks([])\n",
    "    ax.spines[\"left\"].set_visible(False)\n",
    "    ax.spines[\"bottom\"].set_visible(False)\n",
    "    plt.savefig(\"../svg/panel_a.svg\")"
   ]
  },
  {
   "cell_type": "code",
   "execution_count": 361,
   "id": "ecc442eb-b912-49be-ba85-f6a65de9b133",
   "metadata": {
    "tags": []
   },
   "outputs": [
    {
     "name": "stdout",
     "output_type": "stream",
     "text": [
      " Neural network successfully converged after 116 epochs."
     ]
    },
    {
     "name": "stderr",
     "output_type": "stream",
     "text": [
      "/home/michael/Documents/tsnpe_collection/sbi/sbi/utils/sbiutils.py:591: UserWarning: The passed prior has no support property, transform will be\n",
      "                constructed from mean and std. If the passed prior is supposed to be\n",
      "                bounded consider implementing the prior.support property.\n",
      "  warnings.warn(\n"
     ]
    },
    {
     "data": {
      "application/vnd.jupyter.widget-view+json": {
       "model_id": "cb009edba5364e95b6a0e3778b199258",
       "version_major": 2,
       "version_minor": 0
      },
      "text/plain": [
       "Drawing 500 posterior samples:   0%|          | 0/500 [00:00<?, ?it/s]"
      ]
     },
     "metadata": {},
     "output_type": "display_data"
    },
    {
     "name": "stdout",
     "output_type": "stream",
     "text": [
      "Using SNPE-C with atomic loss\n",
      " Neural network successfully converged after 27 epochs."
     ]
    },
    {
     "data": {
      "application/vnd.jupyter.widget-view+json": {
       "model_id": "706f47c2c4ab466a9de31c312a4156e6",
       "version_major": 2,
       "version_minor": 0
      },
      "text/plain": [
       "Drawing 500 posterior samples:   0%|          | 0/500 [00:00<?, ?it/s]"
      ]
     },
     "metadata": {},
     "output_type": "display_data"
    },
    {
     "name": "stdout",
     "output_type": "stream",
     "text": [
      "Using SNPE-C with atomic loss\n",
      " Neural network successfully converged after 38 epochs."
     ]
    },
    {
     "data": {
      "application/vnd.jupyter.widget-view+json": {
       "model_id": "386adde1d0d54df489e40cbb6e5741ff",
       "version_major": 2,
       "version_minor": 0
      },
      "text/plain": [
       "Drawing 500 posterior samples:   0%|          | 0/500 [00:00<?, ?it/s]"
      ]
     },
     "metadata": {},
     "output_type": "display_data"
    },
    {
     "name": "stdout",
     "output_type": "stream",
     "text": [
      "Using SNPE-C with atomic loss\n",
      " Neural network successfully converged after 25 epochs."
     ]
    },
    {
     "data": {
      "application/vnd.jupyter.widget-view+json": {
       "model_id": "e1a82466d7be49db81f54f9493385efe",
       "version_major": 2,
       "version_minor": 0
      },
      "text/plain": [
       "Drawing 500 posterior samples:   0%|          | 0/500 [00:00<?, ?it/s]"
      ]
     },
     "metadata": {},
     "output_type": "display_data"
    },
    {
     "name": "stdout",
     "output_type": "stream",
     "text": [
      "Using SNPE-C with atomic loss\n",
      " Neural network successfully converged after 27 epochs."
     ]
    },
    {
     "data": {
      "application/vnd.jupyter.widget-view+json": {
       "model_id": "cb4e73c7b7e14e5da5d9b1b12bae094a",
       "version_major": 2,
       "version_minor": 0
      },
      "text/plain": [
       "Drawing 500 posterior samples:   0%|          | 0/500 [00:00<?, ?it/s]"
      ]
     },
     "metadata": {},
     "output_type": "display_data"
    },
    {
     "name": "stdout",
     "output_type": "stream",
     "text": [
      "Using SNPE-C with atomic loss\n",
      " Neural network successfully converged after 39 epochs."
     ]
    },
    {
     "data": {
      "application/vnd.jupyter.widget-view+json": {
       "model_id": "1c76d21fa4db41ea80fe7a24019551e0",
       "version_major": 2,
       "version_minor": 0
      },
      "text/plain": [
       "Drawing 500 posterior samples:   0%|          | 0/500 [00:00<?, ?it/s]"
      ]
     },
     "metadata": {},
     "output_type": "display_data"
    },
    {
     "name": "stdout",
     "output_type": "stream",
     "text": [
      "Using SNPE-C with atomic loss\n",
      " Neural network successfully converged after 56 epochs."
     ]
    },
    {
     "data": {
      "application/vnd.jupyter.widget-view+json": {
       "model_id": "3146902e219a4c698ec3f0a28543cb2a",
       "version_major": 2,
       "version_minor": 0
      },
      "text/plain": [
       "Drawing 500 posterior samples:   0%|          | 0/500 [00:00<?, ?it/s]"
      ]
     },
     "metadata": {},
     "output_type": "display_data"
    },
    {
     "name": "stdout",
     "output_type": "stream",
     "text": [
      "Using SNPE-C with atomic loss\n",
      " Neural network successfully converged after 25 epochs."
     ]
    },
    {
     "data": {
      "application/vnd.jupyter.widget-view+json": {
       "model_id": "43dbd8889b46445ead8009ce0f87bc14",
       "version_major": 2,
       "version_minor": 0
      },
      "text/plain": [
       "Drawing 500 posterior samples:   0%|          | 0/500 [00:00<?, ?it/s]"
      ]
     },
     "metadata": {},
     "output_type": "display_data"
    },
    {
     "name": "stdout",
     "output_type": "stream",
     "text": [
      "Using SNPE-C with atomic loss\n",
      " Neural network successfully converged after 32 epochs."
     ]
    },
    {
     "data": {
      "application/vnd.jupyter.widget-view+json": {
       "model_id": "8e3334f5864046d29e5f459d52c95571",
       "version_major": 2,
       "version_minor": 0
      },
      "text/plain": [
       "Drawing 500 posterior samples:   0%|          | 0/500 [00:00<?, ?it/s]"
      ]
     },
     "metadata": {},
     "output_type": "display_data"
    },
    {
     "name": "stdout",
     "output_type": "stream",
     "text": [
      "Using SNPE-C with atomic loss\n",
      " Neural network successfully converged after 21 epochs."
     ]
    }
   ],
   "source": [
    "_ = torch.manual_seed(1)\n",
    "inference = SNPE(prior, density_estimator=\"nsf\")\n",
    "proposal = prior\n",
    "for _ in range(10):\n",
    "\n",
    "    theta = proposal.sample((500,))\n",
    "    x = my_sim(theta)\n",
    "\n",
    "    _ = inference.append_simulations(theta, x, proposal=proposal).train()\n",
    "    posterior = inference.build_posterior().set_default_x(torch.tensor([[1.2]]))\n",
    "    proposal = posterior\n",
    "    net = posterior.posterior_estimator"
   ]
  },
  {
   "cell_type": "code",
   "execution_count": 362,
   "id": "87057840-59c3-475d-bbbe-ee72a91d2df2",
   "metadata": {},
   "outputs": [],
   "source": [
    "with open(\"../../results/fig6_apt_posterior_10rounds_seed1.pkl\", \"wb\") as handle:\n",
    "    pickle.dump(posterior, handle)"
   ]
  },
  {
   "cell_type": "code",
   "execution_count": 363,
   "id": "3469c595-2a2e-421c-b08d-47050e8ad7ea",
   "metadata": {},
   "outputs": [],
   "source": [
    "with open(\"../../results/fig6_apt_posterior_10rounds_seed1.pkl\", \"rb\") as handle:\n",
    "    posterior = pickle.load(handle)\n",
    "net_apt = posterior.posterior_estimator"
   ]
  },
  {
   "cell_type": "code",
   "execution_count": 364,
   "id": "4cc43962-3696-48ad-a3ab-8eaeadb59910",
   "metadata": {},
   "outputs": [],
   "source": [
    "apt_probs = net_apt.log_prob(theta_range.unsqueeze(1), context=torch.tensor([[1.2]]).repeat((resolution,1)))"
   ]
  },
  {
   "cell_type": "code",
   "execution_count": 365,
   "id": "db8d3bde-ec3d-48f2-b8f4-4d2b1a5190bf",
   "metadata": {},
   "outputs": [
    {
     "data": {
      "image/png": "[encoded data removed]",
      "text/plain": [
       "<Figure size 200x80 with 1 Axes>"
      ]
     },
     "metadata": {},
     "output_type": "display_data"
    }
   ],
   "source": [
    "with mpl.rc_context(fname=\"../../.matplotlibrc\"):\n",
    "    fig, ax = plt.subplots(1, 1, figsize=(2, 0.8))\n",
    "    _ = ax.plot(theta_range.numpy(), torch.exp(apt_probs.detach()).numpy(), c=\"k\")\n",
    "    # _ = ax.plot(theta_range.numpy(), torch.exp(prior_probs).numpy())\n",
    "    ax.set_yticks([])\n",
    "    ax.set_xticks([])\n",
    "    ax.spines[\"left\"].set_visible(False)\n",
    "    ax.spines[\"bottom\"].set_visible(False)\n",
    "    plt.savefig(\"../svg/panel_b1.svg\")"
   ]
  },
  {
   "cell_type": "code",
   "execution_count": 12,
   "id": "ec71d8ad-17d5-4e8e-8843-92c47be42a6d",
   "metadata": {},
   "outputs": [],
   "source": [
    "with open(\"../../results/fig6_apt_posterior.pkl\", \"rb\") as handle:\n",
    "    posterior = pickle.load(handle)\n",
    "net_apt = posterior.posterior_estimator"
   ]
  },
  {
   "cell_type": "code",
   "execution_count": 13,
   "id": "c780af28-5022-4747-8c57-98ae2d21fb06",
   "metadata": {},
   "outputs": [],
   "source": [
    "apt_probs = net_apt.log_prob(theta_range.unsqueeze(1), context=torch.tensor([[1.2]]).repeat((resolution,1)))"
   ]
  },
  {
   "cell_type": "code",
   "execution_count": 14,
   "id": "1a7a1254-060d-4ac4-a3d7-524aa1f96644",
   "metadata": {},
   "outputs": [
    {
     "data": {
      "image/png": "[encoded data removed]",
      "text/plain": [
       "<Figure size 200x80 with 1 Axes>"
      ]
     },
     "metadata": {},
     "output_type": "display_data"
    }
   ],
   "source": [
    "with mpl.rc_context(fname=\"../../.matplotlibrc\"):\n",
    "    fig, ax = plt.subplots(1, 1, figsize=(2, 0.8))\n",
    "    _ = ax.plot(theta_range.numpy(), torch.exp(apt_probs.detach()).numpy(), c=\"k\")\n",
    "    # _ = ax.plot(theta_range.numpy(), torch.exp(prior_probs).numpy())\n",
    "    ax.set_yticks([])\n",
    "    ax.set_xticks([])\n",
    "    ax.spines[\"left\"].set_visible(False)\n",
    "    ax.spines[\"bottom\"].set_visible(False)\n",
    "    plt.savefig(\"../svg/panel_b2.svg\")"
   ]
  },
  {
   "cell_type": "code",
   "execution_count": 372,
   "id": "e7b719aa-6c3e-4b0e-a329-49dbc24bad9e",
   "metadata": {
    "tags": []
   },
   "outputs": [
    {
     "name": "stdout",
     "output_type": "stream",
     "text": [
      " Neural network successfully converged after 116 epochs."
     ]
    },
    {
     "name": "stderr",
     "output_type": "stream",
     "text": [
      "/home/michael/Documents/tsnpe_collection/sbi/sbi/utils/sbiutils.py:591: UserWarning: The passed prior has no support property, transform will be\n",
      "                constructed from mean and std. If the passed prior is supposed to be\n",
      "                bounded consider implementing the prior.support property.\n",
      "  warnings.warn(\n"
     ]
    },
    {
     "data": {
      "application/vnd.jupyter.widget-view+json": {
       "model_id": "e697525147df4ce09e38ee68ed205b9b",
       "version_major": 2,
       "version_minor": 0
      },
      "text/plain": [
       "Drawing 10000 posterior samples:   0%|          | 0/10000 [00:00<?, ?it/s]"
      ]
     },
     "metadata": {},
     "output_type": "display_data"
    },
    {
     "name": "stdout",
     "output_type": "stream",
     "text": [
      "The classifier rejected 30.4300% of all samples. You will get a speed-up of 43.7%.\n",
      " Neural network successfully converged after 58 epochs."
     ]
    },
    {
     "data": {
      "application/vnd.jupyter.widget-view+json": {
       "model_id": "b4c02cb55eca40d1b01c0b078284e9e7",
       "version_major": 2,
       "version_minor": 0
      },
      "text/plain": [
       "Drawing 10000 posterior samples:   0%|          | 0/10000 [00:00<?, ?it/s]"
      ]
     },
     "metadata": {},
     "output_type": "display_data"
    },
    {
     "name": "stdout",
     "output_type": "stream",
     "text": [
      "The classifier rejected 19.7000% of all samples. You will get a speed-up of 24.5%.\n",
      " Neural network successfully converged after 47 epochs."
     ]
    },
    {
     "data": {
      "application/vnd.jupyter.widget-view+json": {
       "model_id": "00f7e45e5e6843ba8d42eca477f68c76",
       "version_major": 2,
       "version_minor": 0
      },
      "text/plain": [
       "Drawing 10000 posterior samples:   0%|          | 0/10000 [00:00<?, ?it/s]"
      ]
     },
     "metadata": {},
     "output_type": "display_data"
    },
    {
     "name": "stdout",
     "output_type": "stream",
     "text": [
      "The classifier rejected 35.0800% of all samples. You will get a speed-up of 54.0%.\n",
      " Neural network successfully converged after 65 epochs."
     ]
    },
    {
     "data": {
      "application/vnd.jupyter.widget-view+json": {
       "model_id": "ac5814b05e1e4fbfb5f98f5055d7446f",
       "version_major": 2,
       "version_minor": 0
      },
      "text/plain": [
       "Drawing 10000 posterior samples:   0%|          | 0/10000 [00:00<?, ?it/s]"
      ]
     },
     "metadata": {},
     "output_type": "display_data"
    },
    {
     "name": "stdout",
     "output_type": "stream",
     "text": [
      "The classifier rejected 53.2600% of all samples. You will get a speed-up of 113.9%.\n",
      " Neural network successfully converged after 31 epochs."
     ]
    },
    {
     "data": {
      "application/vnd.jupyter.widget-view+json": {
       "model_id": "f0a6ef1bd14b40b083e3c4a9f9603a76",
       "version_major": 2,
       "version_minor": 0
      },
      "text/plain": [
       "Drawing 10000 posterior samples:   0%|          | 0/10000 [00:00<?, ?it/s]"
      ]
     },
     "metadata": {},
     "output_type": "display_data"
    },
    {
     "name": "stdout",
     "output_type": "stream",
     "text": [
      "The classifier rejected 55.4200% of all samples. You will get a speed-up of 124.3%.\n",
      " Neural network successfully converged after 40 epochs."
     ]
    },
    {
     "data": {
      "application/vnd.jupyter.widget-view+json": {
       "model_id": "696cc6a9987645f5a1802ea8f851f312",
       "version_major": 2,
       "version_minor": 0
      },
      "text/plain": [
       "Drawing 10000 posterior samples:   0%|          | 0/10000 [00:00<?, ?it/s]"
      ]
     },
     "metadata": {},
     "output_type": "display_data"
    },
    {
     "name": "stdout",
     "output_type": "stream",
     "text": [
      "The classifier rejected 59.0900% of all samples. You will get a speed-up of 144.4%.\n",
      " Neural network successfully converged after 36 epochs."
     ]
    },
    {
     "data": {
      "application/vnd.jupyter.widget-view+json": {
       "model_id": "800bd4a527444dc884b081a63e9f4438",
       "version_major": 2,
       "version_minor": 0
      },
      "text/plain": [
       "Drawing 10000 posterior samples:   0%|          | 0/10000 [00:00<?, ?it/s]"
      ]
     },
     "metadata": {},
     "output_type": "display_data"
    },
    {
     "name": "stdout",
     "output_type": "stream",
     "text": [
      "The classifier rejected 57.6200% of all samples. You will get a speed-up of 136.0%.\n",
      " Neural network successfully converged after 60 epochs."
     ]
    },
    {
     "data": {
      "application/vnd.jupyter.widget-view+json": {
       "model_id": "0663124a368743cfae159288aa57167e",
       "version_major": 2,
       "version_minor": 0
      },
      "text/plain": [
       "Drawing 10000 posterior samples:   0%|          | 0/10000 [00:00<?, ?it/s]"
      ]
     },
     "metadata": {},
     "output_type": "display_data"
    },
    {
     "name": "stdout",
     "output_type": "stream",
     "text": [
      "The classifier rejected 53.1100% of all samples. You will get a speed-up of 113.3%.\n",
      " Neural network successfully converged after 31 epochs."
     ]
    },
    {
     "data": {
      "application/vnd.jupyter.widget-view+json": {
       "model_id": "65b3533a2df74dcb8f67f3de836d2842",
       "version_major": 2,
       "version_minor": 0
      },
      "text/plain": [
       "Drawing 10000 posterior samples:   0%|          | 0/10000 [00:00<?, ?it/s]"
      ]
     },
     "metadata": {},
     "output_type": "display_data"
    },
    {
     "name": "stdout",
     "output_type": "stream",
     "text": [
      "The classifier rejected 52.2900% of all samples. You will get a speed-up of 109.6%.\n",
      " Neural network successfully converged after 21 epochs."
     ]
    },
    {
     "data": {
      "application/vnd.jupyter.widget-view+json": {
       "model_id": "5c00a003d44c4133b6b7fe4267555b94",
       "version_major": 2,
       "version_minor": 0
      },
      "text/plain": [
       "Drawing 10000 posterior samples:   0%|          | 0/10000 [00:00<?, ?it/s]"
      ]
     },
     "metadata": {},
     "output_type": "display_data"
    }
   ],
   "source": [
    "_ = torch.manual_seed(1)\n",
    "inference = SNPE(prior, density_estimator=\"nsf\")\n",
    "proposal = prior\n",
    "for _ in range(10):\n",
    "\n",
    "    theta = proposal.sample((500,))\n",
    "    x = my_sim(theta)\n",
    "\n",
    "    _ = inference.append_simulations(theta, x).train(force_first_round_loss=True)\n",
    "    posterior = inference.build_posterior().set_default_x(torch.tensor([[1.2]]))\n",
    "    proposal = PosteriorSupport(prior=prior, posterior=posterior, allowed_false_negatives=0.0001)\n",
    "    net_tsnpe = posterior.posterior_estimator"
   ]
  },
  {
   "cell_type": "code",
   "execution_count": 373,
   "id": "aa17185a-0e6a-48fc-915d-055511f4173b",
   "metadata": {},
   "outputs": [],
   "source": [
    "with open(\"../../results/fig6_tsnpe_posterior_10k.pkl\", \"wb\") as handle:\n",
    "    pickle.dump(posterior, handle)"
   ]
  },
  {
   "cell_type": "code",
   "execution_count": 374,
   "id": "22153e19-305c-4184-ad5e-7681aaeaa664",
   "metadata": {},
   "outputs": [],
   "source": [
    "with open(\"../../results/fig6_tsnpe_posterior_10k.pkl\", \"rb\") as handle:\n",
    "    posterior = pickle.load(handle)\n",
    "net_tsnpe = posterior.posterior_estimator"
   ]
  },
  {
   "cell_type": "code",
   "execution_count": 375,
   "id": "b79a4e3f-3e46-4f1e-9154-711b8681233c",
   "metadata": {},
   "outputs": [],
   "source": [
    "tsnpe_probs = net_tsnpe.log_prob(theta_range.unsqueeze(1), context=torch.tensor([[1.2]]).repeat((resolution,1)))"
   ]
  },
  {
   "cell_type": "code",
   "execution_count": 376,
   "id": "2b461231-fe75-424d-82a7-b374876d3bad",
   "metadata": {},
   "outputs": [
    {
     "data": {
      "image/png": "[encoded data removed]",
      "text/plain": [
       "<Figure size 200x80 with 1 Axes>"
      ]
     },
     "metadata": {},
     "output_type": "display_data"
    }
   ],
   "source": [
    "with mpl.rc_context(fname=\"../../.matplotlibrc\"):\n",
    "    fig, ax = plt.subplots(1, 1, figsize=(2, 0.8))\n",
    "    _ = ax.plot(theta_range.numpy(), torch.exp(tsnpe_probs.detach()).numpy(), c=\"k\")\n",
    "    # _ = ax.plot(theta_range.numpy(), torch.exp(prior_probs).numpy())\n",
    "    ax.set_yticks([])\n",
    "    ax.set_xticks([])\n",
    "    ax.spines[\"left\"].set_visible(False)\n",
    "    ax.spines[\"bottom\"].set_visible(False)\n",
    "    plt.savefig(\"../svg/panel_c.svg\")"
   ]
  },
  {
   "cell_type": "markdown",
   "id": "395de4eb-0797-48dc-ac2a-76264e714c32",
   "metadata": {},
   "source": [
    "# Assemble figure"
   ]
  },
  {
   "cell_type": "code",
   "execution_count": 15,
   "id": "5af24972-7a71-4fb4-be1b-d2119a51376c",
   "metadata": {},
   "outputs": [],
   "source": [
    "import time\n",
    "import IPython.display as IPd\n",
    "\n",
    "def svg(img):\n",
    "    IPd.display(IPd.HTML('<img src=\"{}\" / >'.format(img, time.time())))"
   ]
  },
  {
   "cell_type": "code",
   "execution_count": 16,
   "id": "b3c74264-74df-42dd-a092-312f49290f78",
   "metadata": {},
   "outputs": [
    {
     "data": {
      "text/html": [
       "<img src=\"../fig/fig6.svg\" / >"
      ],
      "text/plain": [
       "<IPython.core.display.HTML object>"
      ]
     },
     "metadata": {},
     "output_type": "display_data"
    }
   ],
   "source": [
    "from svgutils.compose import *\n",
    "\n",
    "# > Inkscape pixel is 1/90 of an inch, other software usually uses 1/72.\n",
    "# > http://www.inkscapeforum.com/viewtopic.php?f=6&t=5964\n",
    "svg_scale = 1.25  # set this to 1.25 for Inkscape, 1.0 otherwise\n",
    "\n",
    "# Panel letters in Helvetica Neue, 12pt, Medium\n",
    "kwargs_text = {'size': '12pt', 'font': 'Arial', 'weight': '800'}\n",
    "kwargs_consistent = {'size': '10pt', 'font': 'Arial', 'weight': '500', 'color': '#AF99EF'}\n",
    "kwargs_consistent1 = {'size': '10pt', 'font': 'Arial', 'weight': '500', 'color': '#9E7DD5'}\n",
    "kwargs_inconsistent = {'size': '10pt', 'font': 'Arial', 'weight': '500', 'color': '#AF99EF'}\n",
    "kwargs_text8pt = {'size': '7.7pt', 'font': 'Arial'}\n",
    "\n",
    "width = 15.7 * 0.23\n",
    "f = Figure(f\"{width}cm\", \"5.8cm\",\n",
    "\n",
    "    Panel(\n",
    "          SVG(\"../svg/panel_a.svg\").scale(svg_scale).move(0, 0),\n",
    "          Text(\"Ground\", 11, 12.0, **kwargs_text8pt),\n",
    "        Text(\"truth\", 11, 26.0, **kwargs_text8pt),\n",
    "    ).move(-10, 0),\n",
    "    # Panel(\n",
    "    #       SVG(\"../svg/panel_b1.svg\").scale(svg_scale).move(0, 0),\n",
    "    #       Text(\"APT\", 1, 12.0, **kwargs_text8pt),\n",
    "    #       Text(\"5 rounds\", 1, 26.0, **kwargs_text8pt),\n",
    "    # ).move(0, 90),\n",
    "    Panel(\n",
    "          SVG(\"../svg/panel_b1.svg\").scale(svg_scale).move(0, 0),\n",
    "          Text(\"APT\", 11, 12.0, **kwargs_text8pt),\n",
    "    ).move(-10, 75),\n",
    "    Panel(\n",
    "          SVG(\"../svg/panel_c.svg\").scale(svg_scale).move(0, 0),\n",
    "          Text(\"TSNPE\", 11, 12.0, **kwargs_text8pt),\n",
    "    ).move(-10, 150),\n",
    ")\n",
    "\n",
    "f.save(\"../fig/fig6.svg\")\n",
    "svg('../fig/fig6.svg')"
   ]
  },
  {
   "cell_type": "code",
   "execution_count": 22,
   "id": "04ca8ce1-8c28-4856-ab78-8f20c71dd2ad",
   "metadata": {},
   "outputs": [
    {
     "data": {
      "text/html": [
       "<img src=\"../fig/fig6_20rounds.svg\" / >"
      ],
      "text/plain": [
       "<IPython.core.display.HTML object>"
      ]
     },
     "metadata": {},
     "output_type": "display_data"
    }
   ],
   "source": [
    "from svgutils.compose import *\n",
    "\n",
    "# > Inkscape pixel is 1/90 of an inch, other software usually uses 1/72.\n",
    "# > http://www.inkscapeforum.com/viewtopic.php?f=6&t=5964\n",
    "svg_scale = 1.25  # set this to 1.25 for Inkscape, 1.0 otherwise\n",
    "\n",
    "# Panel letters in Helvetica Neue, 12pt, Medium\n",
    "kwargs_text = {'size': '12pt', 'font': 'Arial', 'weight': '800'}\n",
    "kwargs_consistent = {'size': '10pt', 'font': 'Arial', 'weight': '500', 'color': '#AF99EF'}\n",
    "kwargs_consistent1 = {'size': '10pt', 'font': 'Arial', 'weight': '500', 'color': '#9E7DD5'}\n",
    "kwargs_inconsistent = {'size': '10pt', 'font': 'Arial', 'weight': '500', 'color': '#AF99EF'}\n",
    "kwargs_text8pt = {'size': '7.7pt', 'font': 'Arial'}\n",
    "\n",
    "width = 15.7 * 0.23\n",
    "f = Figure(f\"15.7cm\", \"1.8cm\",\n",
    "    Panel(\n",
    "          SVG(\"../svg/panel_b2.svg\").scale(svg_scale).move(0, 0),\n",
    "          Text(\"APT\", 11, 12.0, **kwargs_text8pt),\n",
    "          Text(\"20 rounds\", 11, 22.0, **kwargs_text8pt),\n",
    "    ).move(-10, 0),\n",
    "\n",
    ")\n",
    "\n",
    "f.save(\"../fig/fig6_20rounds.svg\")\n",
    "svg('../fig/fig6_20rounds.svg')"
   ]
  },
  {
   "cell_type": "code",
   "execution_count": null,
   "id": "247d1113-c412-4bb3-8d2d-6e0c2bc4355c",
   "metadata": {},
   "outputs": [],
   "source": []
  }
 ],
 "metadata": {
  "kernelspec": {
   "display_name": "Python 3 (ipykernel)",
   "language": "python",
   "name": "python3"
  },
  "language_info": {
   "codemirror_mode": {
    "name": "ipython",
    "version": 3
   },
   "file_extension": ".py",
   "mimetype": "text/x-python",
   "name": "python",
   "nbconvert_exporter": "python",
   "pygments_lexer": "ipython3",
   "version": "3.8.13"
  }
 },
 "nbformat": 4,
 "nbformat_minor": 5
}
