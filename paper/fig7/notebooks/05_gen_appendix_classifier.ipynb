{
 "cells": [
  {
   "cell_type": "code",
   "execution_count": 1,
   "id": "75388998-fb6d-4aaa-a2a8-8ceca9d1fe86",
   "metadata": {},
   "outputs": [],
   "source": [
    "import matplotlib.pyplot as plt\n",
    "import numpy as np\n",
    "import torch\n",
    "import matplotlib as mpl"
   ]
  },
  {
   "cell_type": "code",
   "execution_count": 60,
   "id": "4fca8fb3-cb81-4ae0-90de-3b753239a869",
   "metadata": {},
   "outputs": [],
   "source": [
    "from sbi.utils import BoxUniform\n",
    "from torch.distributions import biject_to\n",
    "prior = BoxUniform(-torch.ones(2), torch.ones(2))"
   ]
  },
  {
   "cell_type": "code",
   "execution_count": 109,
   "id": "a44fe447-72d0-4d86-a23b-7bb90e6da559",
   "metadata": {},
   "outputs": [],
   "source": [
    "def is_in_support(theta):\n",
    "    condition = torch.sum(theta**2, dim=1) < 1.0\n",
    "    return condition"
   ]
  },
  {
   "cell_type": "code",
   "execution_count": 110,
   "id": "514091eb-82cb-4057-adfd-b4ea64296362",
   "metadata": {},
   "outputs": [],
   "source": [
    "resolution = 100\n",
    "x = torch.linspace(-2, 2, resolution)\n",
    "X, Y = torch.meshgrid(x, x)\n",
    "xy = torch.stack([X, Y])\n",
    "xy = torch.reshape(xy, (2, resolution**2)).T\n",
    "in_support = is_in_support(xy)\n",
    "in_support = torch.reshape(in_support, (resolution, resolution))"
   ]
  },
  {
   "cell_type": "code",
   "execution_count": 111,
   "id": "c1a82729-840e-436b-8f2f-70de0e636e50",
   "metadata": {},
   "outputs": [],
   "source": [
    "_ = torch.manual_seed(0)\n",
    "prior_samples = prior.sample((200,))\n",
    "prior_samples = prior_samples[is_in_support(prior_samples)][:40]"
   ]
  },
  {
   "cell_type": "code",
   "execution_count": 112,
   "id": "c62bd2cb-fe5e-4b60-bb9e-b1dcd61672f9",
   "metadata": {},
   "outputs": [
    {
     "data": {
      "image/png": "[encoded data removed]",
      "text/plain": [
       "<Figure size 288x288 with 1 Axes>"
      ]
     },
     "metadata": {},
     "output_type": "display_data"
    }
   ],
   "source": [
    "linecol = \"r\"\n",
    "fig, ax = plt.subplots(1, 1, figsize=(4, 4))\n",
    "_ = ax.imshow(in_support.numpy(), extent=(-2, 2, -2, 2))\n",
    "_ = ax.scatter(prior_samples[:, 0].numpy(), prior_samples[:, 1].numpy())\n",
    "_ = ax.plot([-1, -1], [-1, 1], c=linecol)\n",
    "_ = ax.plot([1, 1], [-1, 1], c=linecol)\n",
    "_ = ax.plot([-1, 1], [-1, -1], c=linecol)\n",
    "_ = ax.plot([-1, 1], [1, 1], c=linecol)\n",
    "_ = ax.set_xticks([])\n",
    "_ = ax.set_yticks([])"
   ]
  },
  {
   "cell_type": "code",
   "execution_count": 113,
   "id": "08c180ba-3353-403e-b22d-145d2f00c5b2",
   "metadata": {},
   "outputs": [],
   "source": [
    "bijection = biject_to(prior.support)"
   ]
  },
  {
   "cell_type": "code",
   "execution_count": 114,
   "id": "e3391835-86ac-4c3a-83ae-61b8a85afa12",
   "metadata": {},
   "outputs": [],
   "source": [
    "resolution = 100\n",
    "x = torch.linspace(-5, 5, resolution)\n",
    "X, Y = torch.meshgrid(x, x)\n",
    "xy = torch.stack([X, Y])\n",
    "xy = torch.reshape(xy, (2, resolution**2)).T\n",
    "in_support = is_in_support(bijection(xy))\n",
    "in_support = torch.reshape(in_support, (resolution, resolution))"
   ]
  },
  {
   "cell_type": "code",
   "execution_count": 115,
   "id": "c5381e3c-4fce-4894-af72-ff3965f9203a",
   "metadata": {},
   "outputs": [],
   "source": [
    "inverse_prior = bijection.inv(prior_samples)"
   ]
  },
  {
   "cell_type": "code",
   "execution_count": 116,
   "id": "3888593b-6820-46f8-9c95-774d1932810a",
   "metadata": {},
   "outputs": [
    {
     "data": {
      "image/png": "[encoded data removed]",
      "text/plain": [
       "<Figure size 288x288 with 1 Axes>"
      ]
     },
     "metadata": {},
     "output_type": "display_data"
    }
   ],
   "source": [
    "linecol = \"r\"\n",
    "fig, ax = plt.subplots(1, 1, figsize=(4, 4))\n",
    "_ = ax.imshow(in_support.numpy(), extent=(-5, 5, -5, 5))\n",
    "_ = ax.scatter(inverse_prior[:, 0].numpy(), inverse_prior[:, 1].numpy())\n",
    "_ = ax.set_xticks([])\n",
    "_ = ax.set_yticks([])"
   ]
  },
  {
   "cell_type": "code",
   "execution_count": 144,
   "id": "c9e187e5-774e-41d9-888e-820239cb6d53",
   "metadata": {},
   "outputs": [],
   "source": [
    "def is_in_support_unconstrained(theta):\n",
    "    condition = torch.sum(theta**2, dim=1) < 14.0\n",
    "    return condition"
   ]
  },
  {
   "cell_type": "code",
   "execution_count": 145,
   "id": "39ced3bb-7008-4e5e-9c8d-b30c58b90dd7",
   "metadata": {},
   "outputs": [],
   "source": [
    "resolution = 100\n",
    "x = torch.linspace(-5, 5, resolution)\n",
    "X, Y = torch.meshgrid(x, x)\n",
    "xy = torch.stack([X, Y])\n",
    "xy = torch.reshape(xy, (2, resolution**2)).T\n",
    "in_support = is_in_support_unconstrained(xy)\n",
    "in_support = torch.reshape(in_support, (resolution, resolution))"
   ]
  },
  {
   "cell_type": "code",
   "execution_count": 146,
   "id": "e74c597d-b1cb-443a-bcee-6aba77e6e04d",
   "metadata": {},
   "outputs": [
    {
     "data": {
      "image/png": "[encoded data removed]",
      "text/plain": [
       "<Figure size 288x288 with 1 Axes>"
      ]
     },
     "metadata": {},
     "output_type": "display_data"
    }
   ],
   "source": [
    "linecol = \"r\"\n",
    "fig, ax = plt.subplots(1, 1, figsize=(4, 4))\n",
    "_ = ax.imshow(in_support.numpy(), extent=(-5, 5, -5, 5))\n",
    "_ = ax.scatter(inverse_prior[:, 0].numpy(), inverse_prior[:, 1].numpy())\n",
    "# _ = ax.plot([-1, -1], [-1, 1], c=linecol)\n",
    "# _ = ax.plot([1, 1], [-1, 1], c=linecol)\n",
    "# _ = ax.plot([-1, 1], [-1, -1], c=linecol)\n",
    "# _ = ax.plot([-1, 1], [1, 1], c=linecol)\n",
    "_ = ax.set_xticks([])\n",
    "_ = ax.set_yticks([])"
   ]
  },
  {
   "cell_type": "code",
   "execution_count": null,
   "id": "27b272fd-f57b-4e13-9c96-beac98009915",
   "metadata": {},
   "outputs": [],
   "source": []
  }
 ],
 "metadata": {
  "kernelspec": {
   "display_name": "Python 3 (ipykernel)",
   "language": "python",
   "name": "python3"
  },
  "language_info": {
   "codemirror_mode": {
    "name": "ipython",
    "version": 3
   },
   "file_extension": ".py",
   "mimetype": "text/x-python",
   "name": "python",
   "nbconvert_exporter": "python",
   "pygments_lexer": "ipython3",
   "version": "3.8.13"
  }
 },
 "nbformat": 4,
 "nbformat_minor": 5
}
