{
 "cells": [
  {
   "cell_type": "code",
   "execution_count": 1,
   "id": "b81b5de3-826f-4359-9afd-d5b4a1862bb9",
   "metadata": {},
   "outputs": [],
   "source": [
    "%load_ext autoreload\n",
    "%autoreload 2"
   ]
  },
  {
   "cell_type": "code",
   "execution_count": 2,
   "id": "62f38377-715f-4200-b813-68da82e0b8c3",
   "metadata": {},
   "outputs": [],
   "source": [
    "import pickle\n",
    "import torch\n",
    "import dill\n",
    "import numpy as np\n",
    "import matplotlib as mpl\n",
    "import matplotlib.pyplot as plt\n",
    "import pandas as pd\n",
    "from pyloric import summary_stats, simulate, create_prior\n",
    "from paper.pyloric_utils import compare_voltage_low_and_high_energy_trace\n",
    "from sbi.analysis import pairplot, marginal_plot\n",
    "from sbi.utils.posterior_ensemble import NeuralPosteriorEnsemble\n",
    "from sbi.utils.sbiutils import ImproperEmpirical"
   ]
  },
  {
   "cell_type": "markdown",
   "id": "4a0c7e4a-d7d6-46a5-b7a0-5cd0d09e468e",
   "metadata": {},
   "source": [
    "# Panel A"
   ]
  },
  {
   "cell_type": "code",
   "execution_count": 3,
   "id": "6901b3bd-801d-474f-80fc-8f5678a62545",
   "metadata": {},
   "outputs": [],
   "source": [
    "npz = np.load('../../results/trace_data_845_082_0044.npz')\n",
    "t = npz['t']\n",
    "PD_spikes = npz['PD_spikes']\n",
    "LP_spikes = npz['LP_spikes']\n",
    "PY_spikes = npz['PY_spikes']\n",
    "pdn = npz['pdn']\n",
    "lpn = npz['lpn']\n",
    "pyn = npz['pyn']"
   ]
  },
  {
   "cell_type": "code",
   "execution_count": 4,
   "id": "f2b6c40a-75b7-49ef-864c-796a14dc6c80",
   "metadata": {},
   "outputs": [],
   "source": [
    "start_index = 219500 + 2100\n",
    "end_index   = 246500 + 2100  # 32000\n",
    "height_offset = 200\n",
    "shown_t = t[end_index] - t[start_index]\n",
    "time_len = shown_t / 0.025 * 1000\n",
    "dt = t[1] - t[0]"
   ]
  },
  {
   "cell_type": "code",
   "execution_count": 5,
   "id": "4316bcb8-3f6c-461c-a9d8-3b590c30ffa1",
   "metadata": {},
   "outputs": [
    {
     "data": {
      "image/png": "[encoded data removed]",
      "text/plain": [
       "<Figure size 200x120 with 1 Axes>"
      ]
     },
     "metadata": {},
     "output_type": "display_data"
    }
   ],
   "source": [
    "with mpl.rc_context(fname='../../.matplotlibrc'):\n",
    "    fig, ax = plt.subplots(1,1,figsize=(2.0, 1.2)) # (2.87, 2.08*3/4)\n",
    "    ax.plot(t[start_index:end_index], 2.5+pdn[start_index:end_index]*0.007, c=\"k\", lw=0.8)\n",
    "    ax.plot(t[start_index:end_index], 1.2+lpn[start_index:end_index]*0.25, c=\"k\", lw=0.8)\n",
    "    ax.plot(t[start_index:end_index], -0.1+pyn[start_index:end_index]*0.013, c=\"k\", lw=0.8)\n",
    "    \n",
    "    linew = 0.4\n",
    "    headl = 0.06\n",
    "    headw = 0.16\n",
    "    linelen = 0.17\n",
    "    circlefact = 0.8\n",
    "    \n",
    "    # period arrow\n",
    "    height1 = 3.2\n",
    "    plt.arrow(t[start_index]+0.6, height1, 1.15, 0,  shape='full', head_width=headw, head_length=headl, length_includes_head=True, color='k', lw=linew)\n",
    "    plt.arrow(t[start_index]+1.75, height1, -1.15, 0,  shape='full', head_width=headw, head_length=headl, length_includes_head=True, color='k', lw=linew)\n",
    "    plt.plot([t[start_index]+0.6, t[start_index]+0.6], [height1-linelen,height1+linelen], c='k', lw=linew*1.5)\n",
    "    plt.plot([t[start_index]+1.75, t[start_index]+1.75], [height1-linelen,height1+linelen], c='k', lw=linew*1.5)\n",
    "    #patch =mp.Ellipse((t[start_index]+1.2, 3.65), 0.2*circlefact,0.6*circlefact, color='lightgray')\n",
    "    #ax.add_patch(patch)\n",
    "    \n",
    "    # delay arrow\n",
    "    height2 = 1.64\n",
    "    plt.arrow(t[start_index]+0.6, height2, 0.48, 0,  shape='full', head_width=headw, head_length=headl, length_includes_head=True, color='k', lw=linew)\n",
    "    plt.arrow(t[start_index]+1.08, height2, -0.48, 0,  shape='full', head_width=headw, head_length=headl, length_includes_head=True, color='k', lw=linew)\n",
    "    plt.plot([t[start_index]+0.6, t[start_index]+0.6], [height2-linelen,height2+linelen], c='k', lw=linew*1.5)\n",
    "    plt.plot([t[start_index]+1.08, t[start_index]+1.08], [height2-linelen,height2+linelen], c='k', lw=linew*1.5)\n",
    "    #patch =mp.Ellipse((t[start_index]+0.94, 2.1), 0.2*circlefact,0.6*circlefact, color='lightgray')\n",
    "    #ax.add_patch(patch)\n",
    "    \n",
    "    # gap arrow\n",
    "    plt.arrow(t[start_index]+1.98, height2, 0.27, 0,  shape='full', head_width=headw, head_length=headl, length_includes_head=True, color='k', lw=linew)\n",
    "    plt.arrow(t[start_index]+2.25, height2, -0.27, 0,  shape='full', head_width=headw, head_length=headl, length_includes_head=True, color='k', lw=linew)\n",
    "    plt.plot([t[start_index]+1.98, t[start_index]+1.98], [height2-linelen,height2+linelen], c='k', lw=linew*1.5)\n",
    "    plt.plot([t[start_index]+2.25, t[start_index]+2.25], [height2-linelen,height2+linelen], c='k', lw=linew*1.5)\n",
    "    #patch =mp.Ellipse((t[start_index]+2.1, 2.1), 0.2*circlefact,0.6*circlefact, color='lightgray')\n",
    "    #ax.add_patch(patch)\n",
    "    \n",
    "    # duration arrow\n",
    "    height4 = 0.44\n",
    "    plt.arrow(t[start_index]+1.33, height4, 0.43, 0,  shape='full', head_width=headw, head_length=headl, length_includes_head=True, color='k', lw=linew)\n",
    "    plt.arrow(t[start_index]+1.76, height4, -0.43, 0,  shape='full', head_width=headw, head_length=headl, length_includes_head=True, color='k', lw=linew)\n",
    "    plt.plot([t[start_index]+1.33, t[start_index]+1.33], [height4-linelen,height4+linelen], c='k', lw=linew*1.5)\n",
    "    plt.plot([t[start_index]+1.76, t[start_index]+1.76], [height4-linelen,height4+linelen], c='k', lw=linew*1.5)\n",
    "    #patch =mp.Ellipse((t[start_index]+1.55, 0.9), radius=0.2, color='lightgray')\n",
    "    #ax.add_patch(patch)\n",
    "\n",
    "    ax.spines['right'].set_visible(False)\n",
    "    ax.spines['top'].set_visible(False)\n",
    "    ax.spines['bottom'].set_visible(False)\n",
    "    ax.spines['left'].set_visible(False)\n",
    "    ax.axes.get_yaxis().set_ticks([])\n",
    "    ax.axes.get_xaxis().set_ticks([])\n",
    "    ax.get_yaxis().set_visible(False)\n",
    "    ax.set_ylim([-0.95, 4.0])\n",
    "    \n",
    "    duration = 0.5\n",
    "    number_of_timesteps = int(duration / dt)\n",
    "    t_scale = np.linspace(t[start_index], t[start_index + number_of_timesteps], 2)\n",
    "    \n",
    "    ax.plot(t_scale, -0.8 * np.ones_like(t_scale), c='k', lw=1.0)\n",
    "    plt.savefig(\"../svg/panel_a.svg\")\n",
    "    plt.show()"
   ]
  },
  {
   "cell_type": "markdown",
   "id": "9541b291-4cc2-4771-99a7-e374ac99cd55",
   "metadata": {},
   "source": [
    "# Panel B"
   ]
  },
  {
   "cell_type": "code",
   "execution_count": 6,
   "id": "c49e1fac-ef0e-47b2-a155-c03bd4ccb040",
   "metadata": {},
   "outputs": [],
   "source": [
    "xo = torch.as_tensor(\n",
    "    [\n",
    "        1.17085859e03,\n",
    "        2.06036434e02,\n",
    "        2.14307031e02,\n",
    "        4.12842187e02,\n",
    "        1.75970382e-01,\n",
    "        1.83034085e-01,\n",
    "        3.52597820e-01,\n",
    "        4.11600328e-01,\n",
    "        6.30544893e-01,\n",
    "        4.81925781e02,\n",
    "        2.56353125e02,\n",
    "        2.75164844e02,\n",
    "        4.20460938e01,\n",
    "        2.35011166e-01,\n",
    "        3.59104797e-02,\n",
    "        2.5,\n",
    "        2.5,\n",
    "        2.5,\n",
    "    ]\n",
    ")\n",
    "prior = create_prior().numerical_prior\n",
    "lower = prior.support.base_constraint.lower_bound\n",
    "upper = prior.support.base_constraint.upper_bound\n",
    "limits = torch.stack([lower, upper]).T\n",
    "p = create_prior()\n",
    "names = p.sample((1,)).columns\n",
    "unconstrained_prior = ImproperEmpirical(torch.rand(100, 31), torch.ones(100))"
   ]
  },
  {
   "cell_type": "code",
   "execution_count": 27,
   "id": "40b42d51-5073-40f8-8120-f17162cf3525",
   "metadata": {},
   "outputs": [],
   "source": [
    "with open(\"/home/michael/Documents/tsnpe_collection/l5pc/results/p31_4/multiround/2022_05_17__09_36_25__multirun/0/inference_r3.pkl\", \"rb\") as handle:\n",
    "    inference_unconstrained_r5 = pickle.load(handle)"
   ]
  },
  {
   "cell_type": "code",
   "execution_count": 28,
   "id": "37c82e10-8013-485b-9ba3-76a1b5d67cda",
   "metadata": {},
   "outputs": [],
   "source": [
    "posterior_u_r5 = inference_unconstrained_r5[0].build_posterior().set_default_x(xo)"
   ]
  },
  {
   "cell_type": "markdown",
   "id": "63d1e20a-d075-47d4-82cb-b580583280ee",
   "metadata": {},
   "source": [
    "# Evaluate sampling time"
   ]
  },
  {
   "cell_type": "markdown",
   "id": "ec11e2ba-65ee-4ccc-b383-e3a2ee7e25c9",
   "metadata": {},
   "source": [
    "### On CPU"
   ]
  },
  {
   "cell_type": "code",
   "execution_count": 29,
   "id": "74785a35-2c95-433d-9df3-6d92389346c3",
   "metadata": {},
   "outputs": [],
   "source": [
    "import time"
   ]
  },
  {
   "cell_type": "code",
   "execution_count": 31,
   "id": "ccd156bd-80e7-4556-b6bd-03b98a76d913",
   "metadata": {},
   "outputs": [
    {
     "name": "stdout",
     "output_type": "stream",
     "text": [
      "1.83585786819458\n"
     ]
    }
   ],
   "source": [
    "net = posterior_u_r5.posterior_estimator\n",
    "observation = posterior_u_r5._x\n",
    "start_time = time.time()\n",
    "net.sample(10_000, context=observation)\n",
    "print(time.time() - start_time)"
   ]
  },
  {
   "cell_type": "markdown",
   "id": "391838fd-1b1a-428c-94d1-67099879069f",
   "metadata": {},
   "source": [
    "### On GPU"
   ]
  },
  {
   "cell_type": "code",
   "execution_count": 23,
   "id": "add14e2c-2ed6-469b-812c-3f1782db25b3",
   "metadata": {},
   "outputs": [
    {
     "name": "stdout",
     "output_type": "stream",
     "text": [
      "0.1781010627746582\n"
     ]
    }
   ],
   "source": [
    "net = posterior_u_r5.posterior_estimator.to(\"cuda\") #.to(\"cuda\")\n",
    "observation = posterior_u_r5._x.to(\"cuda\")\n",
    "start_time = time.time()\n",
    "net.sample(100_000, context=observation)\n",
    "print(time.time() - start_time)"
   ]
  },
  {
   "cell_type": "code",
   "execution_count": 26,
   "id": "ca692024-f790-40fe-94d0-f26c24fa3529",
   "metadata": {},
   "outputs": [
    {
     "data": {
      "text/plain": [
       "0.005666666666666667"
      ]
     },
     "execution_count": 26,
     "metadata": {},
     "output_type": "execute_result"
    }
   ],
   "source": [
    "0.17 / 100 / 30 * 100"
   ]
  },
  {
   "cell_type": "markdown",
   "id": "ba9da232-e68b-4409-8744-0e9205575b27",
   "metadata": {},
   "source": [
    "# Continue code to generate figures"
   ]
  },
  {
   "cell_type": "code",
   "execution_count": 260,
   "id": "0050ec44-026a-4e7b-b699-fa509328e4d4",
   "metadata": {},
   "outputs": [
    {
     "data": {
      "application/vnd.jupyter.widget-view+json": {
       "model_id": "cc47a5677f7d4c27921109a15427132b",
       "version_major": 2,
       "version_minor": 0
      },
      "text/plain": [
       "Drawing 10000000 posterior samples:   0%|          | 0/10000000 [00:00<?, ?it/s]"
      ]
     },
     "metadata": {},
     "output_type": "display_data"
    }
   ],
   "source": [
    "posterior_u_r5.prior = unconstrained_prior\n",
    "samples_u_r5 = posterior_u_r5.sample((10000000,))"
   ]
  },
  {
   "cell_type": "code",
   "execution_count": 256,
   "id": "e6e7cc1e-eb4d-43ff-b1fe-e32b74ec63a2",
   "metadata": {},
   "outputs": [
    {
     "data": {
      "text/plain": [
       "tensor(0)"
      ]
     },
     "execution_count": 256,
     "metadata": {},
     "output_type": "execute_result"
    }
   ],
   "source": [
    "torch.sum(torch.exp(prior.log_prob(samples_u_r5)) > 0.0)"
   ]
  },
  {
   "cell_type": "code",
   "execution_count": 258,
   "id": "cfa48861-a501-4a1e-ba6a-fc78d44835b5",
   "metadata": {},
   "outputs": [
    {
     "data": {
      "image/png": "[encoded data removed]",
      "text/plain": [
       "<Figure size 130x100 with 1 Axes>"
      ]
     },
     "metadata": {},
     "output_type": "display_data"
    }
   ],
   "source": [
    "dim = 0\n",
    "with mpl.rc_context(fname=\"../../.matplotlibrc\"):\n",
    "    fig, ax = plt.subplots(1, 1, figsize=(1.3, 1.0))\n",
    "    _ = ax.hist(samples_u_r5[:, dim].numpy(), bins=50, range=(-200, 800), color=\"k\", alpha=0.6, density=True)\n",
    "    _ = ax.axvline(limits[dim, 0].numpy(), color=\"#d7301f\", linewidth=2.0, ymax=0.1)\n",
    "    _ = ax.axvline(limits[dim, 1].numpy(), color=\"#d7301f\", linewidth=2.0, ymax=0.1)\n",
    "    ax.set_xticks([0, 500])\n",
    "    # ax.set_yticks([0, 400])\n",
    "    # ax.set_ylim([0, 400])\n",
    "    ax.set_yticks([0, 0.004])\n",
    "    ax.set_ylabel(r\"$q(\\theta | x)$\", labelpad=-8)\n",
    "    ax.set_xlabel(r\"AB/PD $\\overline{g}_{\\mathrm{Na}}$\", labelpad=2)\n",
    "    plt.savefig(\"../svg/panel_b.svg\")"
   ]
  },
  {
   "cell_type": "markdown",
   "id": "7d8d4b10-9eee-4a56-8276-fa008c671050",
   "metadata": {},
   "source": [
    "# Panel C"
   ]
  },
  {
   "cell_type": "code",
   "execution_count": 229,
   "id": "17e5320c-9d1d-4a0e-87e2-1605feacd755",
   "metadata": {},
   "outputs": [],
   "source": [
    "with open(\"/home/michael/Documents/tsnpe_collection/l5pc/results/p31_4/multiround/2022_05_14__23_49_35__multirun/0/inference_r13.pkl\", \"rb\") as handle:\n",
    "    inference_constrained_r13 = pickle.load(handle)"
   ]
  },
  {
   "cell_type": "code",
   "execution_count": 230,
   "id": "4bd9e499-6133-45de-83d5-5674c4d6a2f6",
   "metadata": {},
   "outputs": [
    {
     "data": {
      "application/vnd.jupyter.widget-view+json": {
       "model_id": "b322f6ccc9e64ef4a2012e122cd849a9",
       "version_major": 2,
       "version_minor": 0
      },
      "text/plain": [
       "Drawing 10000 posterior samples:   0%|          | 0/10000 [00:00<?, ?it/s]"
      ]
     },
     "metadata": {},
     "output_type": "display_data"
    }
   ],
   "source": [
    "posterior_c_r13 = inference_constrained_r13[0].build_posterior().set_default_x(xo)\n",
    "samples_c_r13 = posterior_c_r13.sample((10000,))"
   ]
  },
  {
   "cell_type": "code",
   "execution_count": 231,
   "id": "f7c0f283-e3c8-4ba3-8065-b8ab8cc7c118",
   "metadata": {},
   "outputs": [
    {
     "data": {
      "image/png": "[encoded data removed]",
      "text/plain": [
       "<Figure size 130x100 with 1 Axes>"
      ]
     },
     "metadata": {},
     "output_type": "display_data"
    }
   ],
   "source": [
    "dim = 4\n",
    "with mpl.rc_context(fname=\"../../.matplotlibrc\"):\n",
    "    fig, ax = plt.subplots(1, 1, figsize=(1.3, 1.0))\n",
    "    _ = ax.hist(samples_c_r13[:, dim].numpy(), bins=50, range=(0, 15), color=\"k\", alpha=0.6, density=True)\n",
    "    _ = ax.axvline(limits[dim, 0].numpy(), color=\"#d7301f\", linewidth=2.0, ymax=0.1)\n",
    "    _ = ax.axvline(limits[dim, 1].numpy(), color=\"#d7301f\", linewidth=2.0, ymax=0.1)\n",
    "    ax.set_xticks([0, 15])\n",
    "    ax.set_xlim([-2, 17])\n",
    "    # ax.set_yticks([0, 900])\n",
    "    ax.set_ylim([0, 0.8])\n",
    "    ax.set_yticks([0, 0.8])\n",
    "    ax.set_xlabel(r\"AB/PD $\\overline{g}_{\\mathrm{KCa}}$\", labelpad=2)\n",
    "    plt.savefig(\"../svg/panel_c.svg\")"
   ]
  },
  {
   "cell_type": "markdown",
   "id": "8dc73b1c-0751-4721-a97e-5fab08b80888",
   "metadata": {},
   "source": [
    "# Panel D"
   ]
  },
  {
   "cell_type": "code",
   "execution_count": 271,
   "id": "d1ce8487-014b-470c-b2b9-20a2da86cf7d",
   "metadata": {},
   "outputs": [],
   "source": [
    "# Runtime for TSNPE extracted from: /mnt/qb/macke/mdeistler57/tsnpe_collection/l5pc/results/p31_2/multiround/2022_05_05__12_38_36__multirun/0/multiround_pyloric.log:\n",
    "# [2022-05-05 13:13:28,350][__main__][INFO] - Fraction of valid sims in train_given_seed: 0.3169\n",
    "# [2022-05-05 13:33:50,334][__main__][INFO] - _best_val_log_prob -46.25601875\n",
    "\n",
    "# [2022-05-08 07:16:53,922][sbi][INFO] - Final x shape in sbi.train: torch.Size([108845, 18])\n",
    "# [2022-05-08 08:36:24,649][__main__][INFO] - _best_val_log_prob -0.4270934738885789\n",
    "\n",
    "# Runtime for APT extracted from: \n",
    "# with mpl.rc_context(fname=\"../../.matplotlibrc\"):\n",
    "#     fig, ax = plt.subplots(1, 1, figsize=(0.4, 1.0))\n",
    "#     _ = ax.bar([0, 1], [0.33, 1.33], width=0.4, color=\"k\")\n",
    "#     ax.set_ylabel(\"Train\\ntime [h]\", labelpad=-10)\n",
    "#     ax.set_xticks([0, 1])\n",
    "#     ax.set_xlim([-0.6, 1.6])\n",
    "#     ax.set_yticks([0, 1.5])\n",
    "#     ax.set_xticklabels([\"TSNPE\", \"APT\"], rotation=90)\n",
    "#     plt.savefig(\"../svg/panel_d.svg\")"
   ]
  },
  {
   "cell_type": "markdown",
   "id": "62bb561d-7d26-41df-9a35-14093baad081",
   "metadata": {},
   "source": [
    "# Panel E"
   ]
  },
  {
   "cell_type": "code",
   "execution_count": 263,
   "id": "da718fa1-0d94-4300-9186-75b05dcd5a8d",
   "metadata": {},
   "outputs": [],
   "source": [
    "with open(\"/home/michael/Documents/tsnpe_collection/l5pc/results/p31_4/multiround/2022_05_17__01_40_01__multirun/0/inference_r13.pkl\", \"rb\") as handle:\n",
    "    inference_tsnpe_r13 = pickle.load(handle)"
   ]
  },
  {
   "cell_type": "code",
   "execution_count": 264,
   "id": "7584c1dd-a1f4-48cf-8dd1-63a2c845a008",
   "metadata": {},
   "outputs": [
    {
     "data": {
      "application/vnd.jupyter.widget-view+json": {
       "model_id": "355f4cf064304ce289af68792ce3a3fd",
       "version_major": 2,
       "version_minor": 0
      },
      "text/plain": [
       "Drawing 10000 posterior samples:   0%|          | 0/10000 [00:00<?, ?it/s]"
      ]
     },
     "metadata": {},
     "output_type": "display_data"
    }
   ],
   "source": [
    "posterior_tsnpe_r13 = inference_tsnpe_r13[0].build_posterior().set_default_x(xo)\n",
    "samples_tsnpe_r13 = posterior_tsnpe_r13.sample((10000,))"
   ]
  },
  {
   "cell_type": "code",
   "execution_count": 265,
   "id": "3a70d608-63db-4642-82bd-d55fd1b68809",
   "metadata": {},
   "outputs": [
    {
     "data": {
      "application/vnd.jupyter.widget-view+json": {
       "model_id": "932eef709c8b4a19a753cc80b80b6fcc",
       "version_major": 2,
       "version_minor": 0
      },
      "text/plain": [
       "Drawing 1 posterior samples:   0%|          | 0/1 [00:00<?, ?it/s]"
      ]
     },
     "metadata": {},
     "output_type": "display_data"
    }
   ],
   "source": [
    "_ = torch.manual_seed(1)\n",
    "theta = posterior_tsnpe_r13.sample((1,))\n",
    "sorted_params_pd = pd.DataFrame(theta, columns=names)"
   ]
  },
  {
   "cell_type": "code",
   "execution_count": 266,
   "id": "68199c83-dc37-48e4-927f-02c5176f4a97",
   "metadata": {},
   "outputs": [],
   "source": [
    "all_out_targets = []\n",
    "summstats = []\n",
    "for counter in range(1):\n",
    "    out_target = simulate(sorted_params_pd.loc[counter], seed=0)\n",
    "    summstats.append(summary_stats(out_target))\n",
    "    all_out_targets.append(out_target)"
   ]
  },
  {
   "cell_type": "code",
   "execution_count": 267,
   "id": "cbc05e2a-d3f9-4f70-b9d5-7e0d590ff0f2",
   "metadata": {},
   "outputs": [],
   "source": [
    "time_vec = np.arange(0, 11000, 0.025)"
   ]
  },
  {
   "cell_type": "code",
   "execution_count": 268,
   "id": "bfe95845-9f72-4f9d-909e-6ab0f7d91a3b",
   "metadata": {},
   "outputs": [
    {
     "name": "stdout",
     "output_type": "stream",
     "text": [
      "Showing :   3.0 seconds\n",
      "Scalebar indicates:  50mV\n"
     ]
    },
    {
     "data": {
      "image/png": "[encoded data removed]",
      "text/plain": [
       "<Figure size 200x100 with 1 Axes>"
      ]
     },
     "metadata": {},
     "output_type": "display_data"
    }
   ],
   "source": [
    "with mpl.rc_context(fname=\"../../.matplotlibrc\"):\n",
    "    compare_voltage_low_and_high_energy_trace(\n",
    "        all_out_targets[0],\n",
    "        time_vec,\n",
    "        figsize=(2.0, 1.0),\n",
    "    )\n",
    "    plt.savefig(\"../svg/panel_e.svg\")\n",
    "    plt.show()"
   ]
  },
  {
   "cell_type": "markdown",
   "id": "4a2fbbd4-cb26-4908-8f6e-a790fa621038",
   "metadata": {
    "tags": []
   },
   "source": [
    "## Assemble figure"
   ]
  },
  {
   "cell_type": "code",
   "execution_count": 4,
   "id": "d98016d3-aa41-4e08-93ad-e0ec564d292d",
   "metadata": {},
   "outputs": [],
   "source": [
    "import time\n",
    "import IPython.display as IPd\n",
    "\n",
    "def svg(img):\n",
    "    IPd.display(IPd.HTML('<img src=\"{}\" / >'.format(img, time.time())))"
   ]
  },
  {
   "cell_type": "code",
   "execution_count": 11,
   "id": "32ee9e16-1ea9-445c-b5e3-2632ea2711c1",
   "metadata": {},
   "outputs": [
    {
     "data": {
      "text/html": [
       "<img src=\"../fig/fig7.svg\" / >"
      ],
      "text/plain": [
       "<IPython.core.display.HTML object>"
      ]
     },
     "metadata": {},
     "output_type": "display_data"
    }
   ],
   "source": [
    "from svgutils.compose import *\n",
    "\n",
    "# > Inkscape pixel is 1/90 of an inch, other software usually uses 1/72.\n",
    "# > http://www.inkscapeforum.com/viewtopic.php?f=6&t=5964\n",
    "svg_scale = 1.25  # set this to 1.25 for Inkscape, 1.0 otherwise\n",
    "factor_svg=5.5\n",
    "\n",
    "# Panel letters in Helvetica Neue, 12pt, Medium\n",
    "kwargs_text = {'size': '12pt', 'font': 'Arial', 'weight': '800'}\n",
    "kwargs_consistent = {'size': '10pt', 'font': 'Arial', 'weight': '500', 'color': '#AF99EF'}\n",
    "kwargs_consistent1 = {'size': '10pt', 'font': 'Arial', 'weight': '500', 'color': '#9E7DD5'}\n",
    "kwargs_inconsistent = {'size': '10pt', 'font': 'Arial', 'weight': '500', 'color': '#AF99EF'}\n",
    "kwargs_text8pt = {'size': '7.7pt', 'font': 'Arial'}\n",
    "\n",
    "sizefactor = 1.0\n",
    "\n",
    "f = Figure(\"15.7cm\", \"3.4cm\",\n",
    "    Panel(\n",
    "          SVG(\"../svg/panel_a.svg\").scale(svg_scale),\n",
    "          Text(\"a\", 3.7, 6, **kwargs_text),\n",
    "          Text(\"Experimental data\", 40.7, 6, **kwargs_text8pt),\n",
    "    ).move(-3.7, 6),\n",
    "    Panel(\n",
    "          SVG(\"../svg/panel_b.svg\").scale(svg_scale),\n",
    "          Text(\"b\", 1.7, -1.8, **kwargs_text),\n",
    "    ).move(163.7, 13.8),\n",
    "    Panel(\n",
    "          SVG(\"../svg/panel_c.svg\").scale(svg_scale),\n",
    "          Text(\"c\", 1.7, 2, **kwargs_text),\n",
    "    ).move(307.7, 10),\n",
    "    Panel(\n",
    "          SVG(\"../svg/panel_e.svg\").scale(svg_scale),\n",
    "          Text(\"TSNPE posterior\", 38.7, -4, **kwargs_text8pt),\n",
    "          Text(\"predictive\", 52.7, 7, **kwargs_text8pt),\n",
    "          Text(\"d\", 2.7, -4, **kwargs_text),\n",
    "    ).move(450.7, 16),\n",
    ")\n",
    "\n",
    "!mkdir -p fig\n",
    "f.save(\"../fig/fig7.svg\")\n",
    "svg('../fig/fig7.svg')"
   ]
  },
  {
   "cell_type": "code",
   "execution_count": null,
   "id": "fc45b0fd-4f93-415d-95e3-b8fff2d58601",
   "metadata": {},
   "outputs": [],
   "source": []
  }
 ],
 "metadata": {
  "kernelspec": {
   "display_name": "Python 3 (ipykernel)",
   "language": "python",
   "name": "python3"
  },
  "language_info": {
   "codemirror_mode": {
    "name": "ipython",
    "version": 3
   },
   "file_extension": ".py",
   "mimetype": "text/x-python",
   "name": "python",
   "nbconvert_exporter": "python",
   "pygments_lexer": "ipython3",
   "version": "3.8.13"
  }
 },
 "nbformat": 4,
 "nbformat_minor": 5
}
