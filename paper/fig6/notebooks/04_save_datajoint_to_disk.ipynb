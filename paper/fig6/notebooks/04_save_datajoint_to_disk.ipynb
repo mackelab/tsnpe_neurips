{
 "cells": [
  {
   "cell_type": "markdown",
   "id": "e62a558e-031f-4536-97c0-d40d304c8c30",
   "metadata": {},
   "source": [
    "# Save data from database to disk"
   ]
  },
  {
   "cell_type": "markdown",
   "id": "0c330791-18f0-4b06-b4fb-2576ab0a199e",
   "metadata": {},
   "source": [
    "For convenience, we save the the data stored in the database to disk. Note that the created pickle files do not contain meta-information on the samples."
   ]
  },
  {
   "cell_type": "code",
   "execution_count": 1,
   "id": "f91dc4dc-e0f6-4736-9529-dbf06116cb3f",
   "metadata": {},
   "outputs": [],
   "source": [
    "import datajoint as dj"
   ]
  },
  {
   "cell_type": "code",
   "execution_count": 2,
   "id": "90b7b6b9-24f7-42e3-844d-f597677d32e4",
   "metadata": {},
   "outputs": [
    {
     "name": "stdout",
     "output_type": "stream",
     "text": [
      "Connecting root@134.2.168.121:3306\n"
     ]
    },
    {
     "data": {
      "text/plain": [
       "DataJoint connection (connected) root@134.2.168.121:3306"
      ]
     },
     "execution_count": 2,
     "metadata": {},
     "output_type": "execute_result"
    }
   ],
   "source": [
    "dj.conn()"
   ]
  },
  {
   "cell_type": "code",
   "execution_count": 22,
   "id": "e9d62021-657e-455a-9753-648e25ea6710",
   "metadata": {},
   "outputs": [],
   "source": [
    "from l5pc.model.table_definitions import L5PC_20D_theta, L5PC_20D_x\n",
    "from l5pc.model.utils import return_x_names, return_names\n",
    "import numpy as np\n",
    "import torch\n",
    "import pickle"
   ]
  },
  {
   "cell_type": "code",
   "execution_count": 4,
   "id": "4f050a0a-6c1c-406f-a02c-73368499f720",
   "metadata": {},
   "outputs": [],
   "source": [
    "theta_db = L5PC_20D_theta()\n",
    "x_db = L5PC_20D_x()"
   ]
  },
  {
   "cell_type": "code",
   "execution_count": 16,
   "id": "8897a498-b9be-4b2a-a589-44042af5aafe",
   "metadata": {},
   "outputs": [],
   "source": [
    "theta = (theta_db & \"round = 1\" & \"id = 'l20_0'\").fetch(*return_names())\n",
    "x = (x_db & \"round = 1\" & \"id = 'l20_0'\").fetch(*return_x_names())"
   ]
  },
  {
   "cell_type": "code",
   "execution_count": 23,
   "id": "112e0844-cec1-46cc-88ae-4ecdc44dcd2a",
   "metadata": {},
   "outputs": [
    {
     "name": "stdout",
     "output_type": "stream",
     "text": [
      "round 1 x shape:  torch.Size([100000, 20])\n",
      "round 1 x shape:  torch.Size([100000, 35])\n"
     ]
    }
   ],
   "source": [
    "for r in range(1, 2):\n",
    "    theta = torch.as_tensor(np.asarray((theta_db & f\"round = {r}\" & \"id = 'l20_0'\").fetch(*return_names())).T, dtype=torch.float32)\n",
    "    x = torch.as_tensor(np.asarray((x_db & f\"round = {r}\" & \"id = 'l20_0'\").fetch(*return_x_names())).T, dtype=torch.float32)\n",
    "    print(\"round\", r, \"x shape: \", theta.shape)\n",
    "    print(\"round\", r, \"x shape: \", x.shape)\n",
    "    \n",
    "    with open(f\"../../../l5pc/results/simulations_theta_r{r}.pkl\", \"wb\") as handle:\n",
    "        pickle.dump(theta, handle)\n",
    "    with open(f\"../../../l5pc/results/simulations_x_r{r}.pkl\", \"wb\") as handle:\n",
    "        pickle.dump(x, handle)"
   ]
  },
  {
   "cell_type": "code",
   "execution_count": 25,
   "id": "e1e5ccab-95e7-4352-bbc8-5419a77d3185",
   "metadata": {},
   "outputs": [
    {
     "name": "stdout",
     "output_type": "stream",
     "text": [
      "round 2 x shape:  (31000, 20)\n",
      "round 2 x shape:  (31000, 35)\n",
      "round 3 x shape:  (32000, 20)\n",
      "round 3 x shape:  (32000, 35)\n",
      "round 4 x shape:  (31200, 20)\n",
      "round 4 x shape:  (31200, 35)\n",
      "round 5 x shape:  (30720, 20)\n",
      "round 5 x shape:  (30720, 35)\n",
      "round 6 x shape:  (32000, 20)\n",
      "round 6 x shape:  (32000, 35)\n"
     ]
    }
   ],
   "source": [
    "for r in range(2, 7):\n",
    "    theta = np.asarray((theta_db & f\"round = {r}\" & \"id = 'l20_7'\").fetch(*return_names())).T\n",
    "    x = np.asarray((x_db & f\"round = {r}\" & \"id = 'l20_7'\").fetch(*return_x_names())).T\n",
    "    print(\"round\", r, \"x shape: \", theta.shape)\n",
    "    print(\"round\", r, \"x shape: \", x.shape)\n",
    "    \n",
    "    with open(f\"../../../l5pc/results/simulations_theta_r{r}.pkl\", \"wb\") as handle:\n",
    "        pickle.dump(theta, handle)\n",
    "    with open(f\"../../../l5pc/results/simulations_x_r{r}.pkl\", \"wb\") as handle:\n",
    "        pickle.dump(x, handle)"
   ]
  },
  {
   "cell_type": "code",
   "execution_count": null,
   "id": "6694bb98-2d07-4716-92d2-fb9141586d3c",
   "metadata": {},
   "outputs": [],
   "source": []
  }
 ],
 "metadata": {
  "kernelspec": {
   "display_name": "Python 3 (ipykernel)",
   "language": "python",
   "name": "python3"
  },
  "language_info": {
   "codemirror_mode": {
    "name": "ipython",
    "version": 3
   },
   "file_extension": ".py",
   "mimetype": "text/x-python",
   "name": "python",
   "nbconvert_exporter": "python",
   "pygments_lexer": "ipython3",
   "version": "3.8.13"
  }
 },
 "nbformat": 4,
 "nbformat_minor": 5
}
