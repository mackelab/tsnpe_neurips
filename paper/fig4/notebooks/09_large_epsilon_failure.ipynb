{
 "cells": [
  {
   "cell_type": "code",
   "execution_count": 1,
   "id": "c06b12e0-c3d0-46ea-9468-1d82c152f096",
   "metadata": {},
   "outputs": [],
   "source": [
    "%load_ext autoreload\n",
    "%autoreload 2"
   ]
  },
  {
   "cell_type": "code",
   "execution_count": 284,
   "id": "aabf4c8e-3b67-43f7-8ea1-84dcf00efc10",
   "metadata": {},
   "outputs": [],
   "source": [
    "from sbi.inference import SNPE\n",
    "from sbi.utils.support_posterior import PosteriorSupport\n",
    "from sbi.utils import BoxUniform, posterior_nn\n",
    "from sbi.analysis import pairplot\n",
    "\n",
    "import torch\n",
    "from torch import ones, zeros, as_tensor, eye, tensor, float32\n",
    "from torch.distributions import MultivariateNormal\n",
    "\n",
    "import numpy as np\n",
    "import matplotlib.pyplot as plt\n",
    "import matplotlib as mpl\n",
    "import pickle"
   ]
  },
  {
   "cell_type": "code",
   "execution_count": 281,
   "id": "24a23084-f9c5-4370-9721-af2b20f3852e",
   "metadata": {},
   "outputs": [
    {
     "name": "stderr",
     "output_type": "stream",
     "text": [
      "/home/michael/Documents/tsnpe_collection/sbi/sbi/utils/torchutils.py:27: UserWarning: GPU was selected as a device for training the neural network. Note that we expect **no** significant speed ups in training for the default architectures we provide. Using the GPU will be effective only for large neural networks with operations that are fast on the GPU, e.g., for a CNN or RNN `embedding_net`.\n",
      "  warnings.warn(\n"
     ]
    }
   ],
   "source": [
    "prior = BoxUniform(-0.7*ones(1), 0.7*ones(1), device=\"cuda\")"
   ]
  },
  {
   "cell_type": "code",
   "execution_count": 282,
   "id": "3a1b0d1a-3ed7-40bf-8b7b-e50452a5dc5c",
   "metadata": {},
   "outputs": [],
   "source": [
    "def simulator(theta):\n",
    "    return theta + torch.randn(theta.shape).to(\"cuda\") * 0.2"
   ]
  },
  {
   "cell_type": "code",
   "execution_count": 283,
   "id": "4904b03c-559f-4203-a055-2c0e1a6d2866",
   "metadata": {
    "tags": []
   },
   "outputs": [
    {
     "name": "stdout",
     "output_type": "stream",
     "text": [
      " Neural network successfully converged after 256 epochs."
     ]
    }
   ],
   "source": [
    "_ = torch.manual_seed(0)\n",
    "density_estimator = posterior_nn(\"nsf\", num_bins=20)\n",
    "inference = SNPE(prior, density_estimator=density_estimator, device=\"cuda\")\n",
    "\n",
    "proposal=prior\n",
    "theta = proposal.sample((50_000,))\n",
    "x = simulator(theta)\n",
    "_ = inference.append_simulations(theta.to(\"cuda\"), x.to(\"cuda\")).train(training_batch_size=10_000)\n",
    "posterior = inference.build_posterior().set_default_x(zeros(1, 1).to(\"cuda\"))"
   ]
  },
  {
   "cell_type": "code",
   "execution_count": 285,
   "id": "b2803c9f-fc3d-4b01-a5f2-4f50175d04cd",
   "metadata": {},
   "outputs": [
    {
     "name": "stderr",
     "output_type": "stream",
     "text": [
      "/home/michael/Documents/tsnpe_collection/sbi/sbi/inference/base.py:449: UserWarning: When the inference object is pickled, the behaviour of the loaded object changes in the following two ways: 1) `.train(..., retrain_from_scratch=True)` is not supported. 2) When the loaded object calls the `.train()` method, it generates a new tensorboard summary writer (instead of appending to the current one).\n",
      "  warn(\n"
     ]
    }
   ],
   "source": [
    "# with open(\"inference_r1_save.pkl\", \"wb\") as handle:\n",
    "#     pickle.dump(inference, handle)"
   ]
  },
  {
   "cell_type": "code",
   "execution_count": 287,
   "id": "17dbbc7b-9a82-4eaa-8a14-6bba2e80e212",
   "metadata": {},
   "outputs": [],
   "source": [
    "x_vals = torch.linspace(-0.72, 0.72, 1000)"
   ]
  },
  {
   "cell_type": "code",
   "execution_count": 288,
   "id": "0f3e1df4-d957-40e1-b6b6-f22e248d21cd",
   "metadata": {},
   "outputs": [],
   "source": [
    "posterior_log_probs = posterior.log_prob(x_vals.unsqueeze(1).to(\"cuda\"))\n",
    "posterior_log_probs = posterior_log_probs.to(\"cpu\")"
   ]
  },
  {
   "cell_type": "code",
   "execution_count": 228,
   "id": "f84fe7cb-faed-41ea-95bb-3bd2dadb4edc",
   "metadata": {},
   "outputs": [],
   "source": [
    "gt_posterior = torch.distributions.Normal(0, 0.2)\n",
    "gt_probs = torch.exp(gt_posterior.log_prob(x_vals))"
   ]
  },
  {
   "cell_type": "code",
   "execution_count": 289,
   "id": "106dbecd-ee16-416b-9d49-3e3b9822595d",
   "metadata": {},
   "outputs": [
    {
     "data": {
      "image/png": "[encoded data removed]",
      "text/plain": [
       "<Figure size 350x150 with 1 Axes>"
      ]
     },
     "metadata": {},
     "output_type": "display_data"
    }
   ],
   "source": [
    "k_colors = [\"#9ebcda\", \"#8c6bb1\", \"#810f7c\", \"#4d004b\"]\n",
    "\n",
    "with mpl.rc_context(fname=\"../../.matplotlibrc\"):\n",
    "    fig, ax = plt.subplots(1, 1, figsize=(3.5, 1.5))\n",
    "    ax.plot(x_vals.numpy(), gt_probs.numpy(), c=\"#238b45\", zorder=1000)    \n",
    "    ax.plot(x_vals.numpy(), posterior_log_probs.exp().numpy(), c=k_colors[2])\n",
    "    \n",
    "    ax.set_xlabel(r\"$\\theta$\", labelpad=-1)\n",
    "    ax.set_xticks([-0.7, 0.7])\n",
    "    ax.set_xlim([-0.7, 0.7])\n",
    "    ax.set_ylim([0, 2.5])\n",
    "    ax.set_yticks([0, 2.5])\n",
    "    ax.set_ylabel(r\"$p(\\theta | x)$\")\n",
    "    # plt.savefig(\"../svg/panel_sir_divergence.svg\")"
   ]
  },
  {
   "cell_type": "code",
   "execution_count": 290,
   "id": "1579ba5e-8a1f-4124-9702-b5ff8849ff7d",
   "metadata": {},
   "outputs": [
    {
     "data": {
      "application/vnd.jupyter.widget-view+json": {
       "model_id": "578931229b6744a8812becbc43d986fa",
       "version_major": 2,
       "version_minor": 0
      },
      "text/plain": [
       "Drawing 100000 posterior samples:   0%|          | 0/100000 [00:00<?, ?it/s]"
      ]
     },
     "metadata": {},
     "output_type": "display_data"
    }
   ],
   "source": [
    "proposal = PosteriorSupport(prior, posterior, num_samples_to_estimate_support=100_000, allowed_false_negatives=0.1)"
   ]
  },
  {
   "cell_type": "code",
   "execution_count": 291,
   "id": "2a57232e-70a6-4e29-aba5-a0536cede5ac",
   "metadata": {},
   "outputs": [],
   "source": [
    "pred = proposal.predict(x_vals.to(\"cuda\").unsqueeze(1))"
   ]
  },
  {
   "cell_type": "code",
   "execution_count": 293,
   "id": "79cca6b3-7883-437e-a26d-712a962c669c",
   "metadata": {},
   "outputs": [
    {
     "data": {
      "image/png": "[encoded data removed]",
      "text/plain": [
       "<Figure size 220x150 with 1 Axes>"
      ]
     },
     "metadata": {},
     "output_type": "display_data"
    }
   ],
   "source": [
    "with mpl.rc_context(fname=\"../../.matplotlibrc\"):\n",
    "    fig, ax = plt.subplots(1, 1, figsize=(2.2, 1.5))\n",
    "    \n",
    "    prior_probs = prior.log_prob(x_vals.unsqueeze(1).cuda())\n",
    "    ax.plot(x_vals.numpy(), prior_probs.exp().cpu().numpy())\n",
    "    \n",
    "    ax.plot(x_vals.numpy(), gt_probs.numpy(), c=\"#238b45\", zorder=1000)    \n",
    "    ax.plot(x_vals.numpy(), posterior_log_probs.exp().numpy(), c=k_colors[2])\n",
    "    \n",
    "    ax.set_xlabel(r\"$\\theta$\", labelpad=-1)\n",
    "    ax.set_ylabel(\"Density\")\n",
    "    ax.legend([\"Proposal\", r\"$p(\\theta | x)$\", r\"$q(\\theta | x)$\"], loc=\"upper left\", handlelength=0.7, handletextpad=0.4)\n",
    "    ax.set_xticks([-0.7, 0.7])\n",
    "    ax.set_xlim([-0.72, 0.72])\n",
    "    ax.set_ylim([0, 2.5])\n",
    "    ax.set_yticks([0, 2.5])\n",
    "    ax.set_title(\"Round 1\")\n",
    "    plt.savefig(\"../svg/panel_a_failure.svg\")"
   ]
  },
  {
   "cell_type": "markdown",
   "id": "fd733686-319f-46c3-a003-f10f3adc18a4",
   "metadata": {},
   "source": [
    "# Large epsilon"
   ]
  },
  {
   "cell_type": "code",
   "execution_count": 294,
   "id": "bb156068-2c40-4534-a953-ff0e0d7da057",
   "metadata": {},
   "outputs": [],
   "source": [
    "with open(\"inference_r1_save.pkl\", \"rb\") as handle:\n",
    "    inference = pickle.load(handle)"
   ]
  },
  {
   "cell_type": "code",
   "execution_count": 295,
   "id": "637523b8-f89a-40d6-b27c-c5982df33087",
   "metadata": {},
   "outputs": [
    {
     "name": "stdout",
     "output_type": "stream",
     "text": [
      "The classifier rejected 52.9764% of all samples. You will get a speed-up of 112.7%.\n",
      " Neural network successfully converged after 165 epochs."
     ]
    },
    {
     "name": "stderr",
     "output_type": "stream",
     "text": [
      "/home/michael/Documents/tsnpe_collection/sbi/sbi/utils/torchutils.py:27: UserWarning: GPU was selected as a device for training the neural network. Note that we expect **no** significant speed ups in training for the default architectures we provide. Using the GPU will be effective only for large neural networks with operations that are fast on the GPU, e.g., for a CNN or RNN `embedding_net`.\n",
      "  warnings.warn(\n"
     ]
    }
   ],
   "source": [
    "_ = torch.manual_seed(2)\n",
    "theta = proposal.sample((50_000,))\n",
    "x = simulator(theta)\n",
    "_ = inference.append_simulations(theta.to(\"cuda\"), x.to(\"cuda\")).train(training_batch_size=10_000, force_first_round_loss=True)\n",
    "posterior_r2 = inference.build_posterior().set_default_x(zeros(1, 1).to(\"cuda\"))"
   ]
  },
  {
   "cell_type": "code",
   "execution_count": 297,
   "id": "97316909-87e7-4a61-b98d-7cd4b1c10e84",
   "metadata": {},
   "outputs": [],
   "source": [
    "posterior_log_probs_r2 = posterior_r2.log_prob(x_vals.unsqueeze(1).to(\"cuda\"))\n",
    "posterior_log_probs_r2 = posterior_log_probs_r2.to(\"cpu\")\n",
    "\n",
    "x_vals_ = torch.linspace(-0.7, 0.7, 1000)\n",
    "proposal_probs = torch.sum(proposal.predict(x_vals_.unsqueeze(1).cuda())) / 1000\n",
    "prior_val = prior_probs[100]\n",
    "proposal_probs = proposal.predict(x_vals.unsqueeze(1).cuda()) * prior_val.exp() / proposal_probs\n",
    "\n",
    "joint_probs = 0.5 * proposal_probs + 0.5 * prior_probs.exp()"
   ]
  },
  {
   "cell_type": "code",
   "execution_count": 300,
   "id": "86078902-073b-466a-9064-9c3f4c5f382a",
   "metadata": {},
   "outputs": [
    {
     "data": {
      "image/png": "[encoded data removed]",
      "text/plain": [
       "<Figure size 220x150 with 1 Axes>"
      ]
     },
     "metadata": {},
     "output_type": "display_data"
    }
   ],
   "source": [
    "with mpl.rc_context(fname=\"../../.matplotlibrc\"):\n",
    "    fig, ax = plt.subplots(1, 1, figsize=(2.2, 1.5))\n",
    "    ax.plot(x_vals.numpy(), gt_probs.numpy(), c=\"#238b45\", zorder=1000)    \n",
    "    ax.plot(x_vals.numpy(), posterior_log_probs_r2.exp().numpy(), c=k_colors[2])\n",
    "    ax.plot(x_vals.numpy(), joint_probs.cpu().numpy())\n",
    "    \n",
    "    ax.set_xlabel(r\"$\\theta$\", labelpad=-1)\n",
    "    ax.set_xticks([-0.7, 0.7])\n",
    "    ax.set_xlim([-0.72, 0.72])\n",
    "    ax.set_ylim([0, 2.5])\n",
    "    ax.set_yticks([0, 2.5])\n",
    "    ax.set_yticklabels([])\n",
    "    ax.set_title(\"Round 2 with \" + r\"$\\epsilon=0.1$\")\n",
    "    plt.savefig(\"../svg/panel_b_failure.svg\")"
   ]
  },
  {
   "cell_type": "markdown",
   "id": "1533df70-d420-4ba5-8f15-5b9f24581d52",
   "metadata": {},
   "source": [
    "# Small epsilon"
   ]
  },
  {
   "cell_type": "code",
   "execution_count": 303,
   "id": "ecb52ffb-ca35-4629-a310-c6e86711642b",
   "metadata": {},
   "outputs": [],
   "source": [
    "with open(\"inference_r1_save.pkl\", \"rb\") as handle:\n",
    "    inference = pickle.load(handle)"
   ]
  },
  {
   "cell_type": "code",
   "execution_count": 346,
   "id": "d50bd55d-c607-4359-81cd-6af4a76c8c3f",
   "metadata": {},
   "outputs": [
    {
     "data": {
      "application/vnd.jupyter.widget-view+json": {
       "model_id": "e10f40a752c9484c9f751906b173ff8f",
       "version_major": 2,
       "version_minor": 0
      },
      "text/plain": [
       "Drawing 100000 posterior samples:   0%|          | 0/100000 [00:00<?, ?it/s]"
      ]
     },
     "metadata": {},
     "output_type": "display_data"
    }
   ],
   "source": [
    "proposal = PosteriorSupport(prior, posterior, num_samples_to_estimate_support=100_000, allowed_false_negatives=0.01)"
   ]
  },
  {
   "cell_type": "code",
   "execution_count": 305,
   "id": "9233dced-9339-4eca-9871-736f72a5f3aa",
   "metadata": {},
   "outputs": [
    {
     "name": "stdout",
     "output_type": "stream",
     "text": [
      "The classifier rejected 25.2943% of all samples. You will get a speed-up of 33.9%.\n",
      " Neural network successfully converged after 114 epochs."
     ]
    },
    {
     "name": "stderr",
     "output_type": "stream",
     "text": [
      "/home/michael/Documents/tsnpe_collection/sbi/sbi/utils/torchutils.py:27: UserWarning: GPU was selected as a device for training the neural network. Note that we expect **no** significant speed ups in training for the default architectures we provide. Using the GPU will be effective only for large neural networks with operations that are fast on the GPU, e.g., for a CNN or RNN `embedding_net`.\n",
      "  warnings.warn(\n"
     ]
    }
   ],
   "source": [
    "_ = torch.manual_seed(2)\n",
    "theta = proposal.sample((50_000,))\n",
    "x = simulator(theta)\n",
    "_ = inference.append_simulations(theta.to(\"cuda\"), x.to(\"cuda\")).train(training_batch_size=10_000, force_first_round_loss=True)\n",
    "posterior_r2 = inference.build_posterior().set_default_x(zeros(1, 1).to(\"cuda\"))"
   ]
  },
  {
   "cell_type": "code",
   "execution_count": 306,
   "id": "1bebfea2-09a6-4333-a930-164012ab7ee2",
   "metadata": {},
   "outputs": [],
   "source": [
    "posterior_log_probs_r2 = posterior_r2.log_prob(x_vals.unsqueeze(1).to(\"cuda\"))\n",
    "posterior_log_probs_r2 = posterior_log_probs_r2.to(\"cpu\")\n",
    "\n",
    "x_vals_ = torch.linspace(-0.7, 0.7, 1000)\n",
    "proposal_probs = torch.sum(proposal.predict(x_vals_.unsqueeze(1).cuda())) / 1000\n",
    "prior_val = prior_probs[100]\n",
    "proposal_probs = proposal.predict(x_vals.unsqueeze(1).cuda()) * prior_val.exp() / proposal_probs\n",
    "\n",
    "joint_probs = 0.5 * proposal_probs + 0.5 * prior_probs.exp()"
   ]
  },
  {
   "cell_type": "code",
   "execution_count": 311,
   "id": "b969e85e-e367-4a80-954a-30a600439779",
   "metadata": {},
   "outputs": [
    {
     "data": {
      "image/png": "[encoded data removed]",
      "text/plain": [
       "<Figure size 220x150 with 1 Axes>"
      ]
     },
     "metadata": {},
     "output_type": "display_data"
    }
   ],
   "source": [
    "with mpl.rc_context(fname=\"../../.matplotlibrc\"):\n",
    "    fig, ax = plt.subplots(1, 1, figsize=(2.2, 1.5))\n",
    "    ax.plot(x_vals.numpy(), gt_probs.numpy(), c=\"#238b45\", zorder=1000)    \n",
    "    ax.plot(x_vals.numpy(), posterior_log_probs_r2.exp().numpy(), c=k_colors[2])\n",
    "    ax.plot(x_vals.numpy(), joint_probs.cpu().numpy())\n",
    "    \n",
    "    ax.set_xlabel(r\"$\\theta$\", labelpad=-1)\n",
    "    ax.set_xticks([-0.7, 0.7])\n",
    "    ax.set_xlim([-0.72, 0.72])\n",
    "    ax.set_ylim([0, 2.5])\n",
    "    ax.set_yticks([0, 2.5])\n",
    "    ax.set_yticklabels([])\n",
    "    ax.set_title(\"Round 2 with \" + r\"$\\epsilon=0.01$\")\n",
    "    plt.savefig(\"../svg/panel_c_failure.svg\")"
   ]
  },
  {
   "cell_type": "code",
   "execution_count": 356,
   "id": "eea1dedb-b9f3-4123-a85a-f8a34aeef940",
   "metadata": {},
   "outputs": [],
   "source": [
    "vec = torch.linspace(0.4, 0.6, 1000)"
   ]
  },
  {
   "cell_type": "code",
   "execution_count": 357,
   "id": "985e8502-8525-4fca-a05f-359566171202",
   "metadata": {},
   "outputs": [],
   "source": [
    "posterior_log_probs_r2 = posterior_r2.log_prob(vec.unsqueeze(1).to(\"cuda\"))\n",
    "posterior_log_probs_r2 = posterior_log_probs_r2.to(\"cpu\")\n",
    "gt_probs = torch.exp(gt_posterior.log_prob(vec))"
   ]
  },
  {
   "cell_type": "code",
   "execution_count": 358,
   "id": "6dedc31a-153e-45c6-8001-ee0e82597914",
   "metadata": {},
   "outputs": [],
   "source": [
    "proposal_probs = torch.sum(proposal.predict(vec.unsqueeze(1).cuda())) / 1000\n",
    "prior_val = prior_probs[100]\n",
    "proposal_probs = proposal.predict(vec.unsqueeze(1).cuda()) * prior_val.exp() / proposal_probs\n",
    "prior_probs = prior.log_prob(vec.unsqueeze(1).cuda())\n",
    "\n",
    "joint_probs = 0.5 * proposal_probs + 0.5 * prior_probs.exp()"
   ]
  },
  {
   "cell_type": "code",
   "execution_count": 407,
   "id": "17d2d087-78dc-46d7-ac59-d81b584716ba",
   "metadata": {},
   "outputs": [
    {
     "data": {
      "image/png": "[encoded data removed]",
      "text/plain": [
       "<Figure size 55x50 with 1 Axes>"
      ]
     },
     "metadata": {},
     "output_type": "display_data"
    }
   ],
   "source": [
    "with mpl.rc_context(fname=\"../../.matplotlibrc\"):\n",
    "    fig, ax = plt.subplots(1, 1, figsize=(0.55, 0.5))\n",
    "    ax.plot(vec.numpy(), gt_probs.numpy(), c=\"#238b45\", zorder=1000)    \n",
    "    ax.plot(vec.numpy(), posterior_log_probs_r2.exp().numpy(), c=k_colors[2])\n",
    "    # ax.plot(vec.numpy(), joint_probs.cpu().numpy())\n",
    "\n",
    "    ax.set_yticks([])\n",
    "    ax.set_yticklabels([])\n",
    "    ax.set_xticks([])\n",
    "    ax.spines[\"bottom\"].set_visible(False)\n",
    "    ax.spines[\"left\"].set_visible(False)\n",
    "    plt.savefig(\"../svg/panel_d_failure.svg\")"
   ]
  },
  {
   "cell_type": "markdown",
   "id": "c4a70abb-5345-4e19-84a7-6f4b2e086ce4",
   "metadata": {},
   "source": [
    "# Assemble"
   ]
  },
  {
   "cell_type": "code",
   "execution_count": 368,
   "id": "ab5c9596-356a-46cd-a7d3-05a5419b7422",
   "metadata": {},
   "outputs": [],
   "source": [
    "import time\n",
    "import IPython.display as IPd\n",
    "\n",
    "def svg(img):\n",
    "    IPd.display(IPd.HTML('<img src=\"{}\" / >'.format(img, time.time())))"
   ]
  },
  {
   "cell_type": "code",
   "execution_count": 456,
   "id": "b900a5d7-e872-4d3e-8df1-e421bd1d08c3",
   "metadata": {},
   "outputs": [
    {
     "data": {
      "text/html": [
       "<img src=\"../fig/fig4_appendix_failure.svg\" / >"
      ],
      "text/plain": [
       "<IPython.core.display.HTML object>"
      ]
     },
     "metadata": {},
     "output_type": "display_data"
    }
   ],
   "source": [
    "from svgutils.compose import *\n",
    "\n",
    "svg_scale = 1.25\n",
    "\n",
    "size = 40\n",
    "x1 = 538\n",
    "y1 = 68\n",
    "\n",
    "kwargs_text = {'size': '12pt', 'font': 'Arial', 'weight': '800'}\n",
    "kwargs_consistent = {'size': '10pt', 'font': 'Arial', 'weight': '500', 'color': '#AF99EF'}\n",
    "kwargs_consistent1 = {'size': '10pt', 'font': 'Arial', 'weight': '500', 'color': '#9E7DD5'}\n",
    "kwargs_inconsistent = {'size': '10pt', 'font': 'Arial', 'weight': '500', 'color': '#AF99EF'}\n",
    "kwargs_text8pt = {'size': '7.7pt', 'font': 'Arial'}\n",
    "    \n",
    "f = Figure(\"15.7cm\", \"4.2cm\",\n",
    "    Panel(\n",
    "          SVG(\"../svg/panel_a_failure.svg\").scale(svg_scale).move(0, 0),\n",
    "        Text(\"a\", 5, 19, **kwargs_text),\n",
    "    ).move(-5, -5),\n",
    "    Panel(\n",
    "          SVG(\"../svg/panel_b_failure.svg\").scale(svg_scale).move(0, 0),\n",
    "        Text(\"b\", -5, 19, **kwargs_text),\n",
    "    ).move(220, -5),\n",
    "    Panel(\n",
    "          SVG(\"../svg/panel_c_failure.svg\").scale(svg_scale).move(0, 0),\n",
    "        Text(\"c\", -5, 19, **kwargs_text),\n",
    "    ).move(410, -5),\n",
    "    Panel(\n",
    "          SVG(\"../svg/panel_d_failure.svg\").scale(svg_scale).move(0, 0),\n",
    "    ).move(530, 20),\n",
    "    \n",
    "\n",
    "    Line(((x1,y1),(x1+size,y1)), width=1.5, color='grey'),\n",
    "    Line(((x1,y1),(x1,y1-size)), width=1.5, color='grey'),\n",
    "    Line(((x1,y1-size),(x1+size,y1-size)), width=1.5, color='grey'),\n",
    "    Line(((x1+size,y1-size),(x1+size,y1)), width=1.5, color='grey'),\n",
    "    \n",
    "    Line(((x1,y1),(x1+12,y1+45)), width=1.5, color='grey'),\n",
    "    Line(((x1+size,y1),(x1+size-12,y1+45)), width=1.5, color='grey'),\n",
    "    \n",
    "    Line(((x1+size-12,y1+55),(x1+size-12-16,y1+55)), width=1.5, color='grey'),\n",
    "    Line(((x1+size-12,y1+45),(x1+size-12-16,y1+45)), width=1.5, color='grey'),\n",
    "    Line(((x1+size-12,y1+45),(x1+size-12,y1+45+11)), width=1.5, color='grey'),\n",
    "    Line(((x1+size-28,y1+45),(x1+size-28,y1+45+11)), width=1.5, color='grey'),\n",
    ")\n",
    "\n",
    "f.save(\"../fig/fig4_appendix_failure.svg\")\n",
    "svg('../fig/fig4_appendix_failure.svg')"
   ]
  },
  {
   "cell_type": "code",
   "execution_count": null,
   "id": "e7d63402-e615-4e5e-8697-74311c79a58d",
   "metadata": {},
   "outputs": [],
   "source": []
  },
  {
   "cell_type": "code",
   "execution_count": null,
   "id": "325acb0a-1182-4c9c-a0d2-7887502f513b",
   "metadata": {},
   "outputs": [],
   "source": []
  }
 ],
 "metadata": {
  "kernelspec": {
   "display_name": "Python 3 (ipykernel)",
   "language": "python",
   "name": "python3"
  },
  "language_info": {
   "codemirror_mode": {
    "name": "ipython",
    "version": 3
   },
   "file_extension": ".py",
   "mimetype": "text/x-python",
   "name": "python",
   "nbconvert_exporter": "python",
   "pygments_lexer": "ipython3",
   "version": "3.8.13"
  }
 },
 "nbformat": 4,
 "nbformat_minor": 5
}
