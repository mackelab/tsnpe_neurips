{
 "cells": [
  {
   "cell_type": "code",
   "execution_count": 5,
   "id": "cda5854a-1d43-40c3-9b89-21b8c313d322",
   "metadata": {},
   "outputs": [],
   "source": [
    "from torch.distributions import Normal\n",
    "import torch\n",
    "import matplotlib.pyplot as plt\n",
    "import matplotlib as mpl"
   ]
  },
  {
   "cell_type": "code",
   "execution_count": 57,
   "id": "3e37d4bd-4880-4c5c-88af-a937837c32c9",
   "metadata": {},
   "outputs": [],
   "source": [
    "posterior = Normal(0.4, 0.2)\n",
    "proposal = torch.zeros(1000)\n",
    "proposal[200:950] = 0.1\n",
    "proposal[300:900] = 0.2\n",
    "proposal[350:800] = 0.3\n",
    "x_vals = torch.linspace(-2, 2, 1000)\n",
    "y_vals = torch.exp(posterior.log_prob(x_vals))"
   ]
  },
  {
   "cell_type": "code",
   "execution_count": 63,
   "id": "68aed8e1-5b2a-4058-bf6e-89bf98deffd1",
   "metadata": {},
   "outputs": [
    {
     "data": {
      "image/png": "[encoded data removed]",
      "text/plain": [
       "<Figure size 800x150 with 3 Axes>"
      ]
     },
     "metadata": {},
     "output_type": "display_data"
    }
   ],
   "source": [
    "with mpl.rc_context(fname='../../.matplotlibrc'):\n",
    "    fig, ax = plt.subplots(1, 3, figsize=(8, 1.5))\n",
    "    ax[0].plot(proposal.numpy(), c=\"k\")\n",
    "    ax[0].set_xticks([])\n",
    "    ax[0].set_ylabel(r\"$\\tilde{p}(\\theta)$\")\n",
    "    ax[0].set_yticks([])\n",
    "    ax[0].set_xlabel(r\"$\\theta$\")\n",
    "    ax[1].plot(y_vals.numpy(), c=\"k\")\n",
    "    ax[1].set_xticks([])\n",
    "    ax[1].set_ylabel(r\"$p(\\theta | x)$\")\n",
    "    ax[1].set_yticks([])\n",
    "    ax[1].set_xlabel(r\"$\\theta$\")\n",
    "    ax[2].plot(proposal.numpy()*y_vals.numpy(), c=\"k\")\n",
    "    ax[2].set_ylabel(r\"$p(\\theta | x) \\cdot \\tilde{p}(\\theta) \\; / \\; p(\\theta)$\")\n",
    "    ax[2].set_xticks([])\n",
    "    ax[2].set_xlabel(r\"$\\theta$\")\n",
    "    ax[2].set_yticks([])\n",
    "    plt.savefig(\"../svg/panel_a_appendix1.svg\")"
   ]
  },
  {
   "cell_type": "code",
   "execution_count": 64,
   "id": "9121cc64-d928-4055-a2f8-21928e5b9222",
   "metadata": {},
   "outputs": [],
   "source": [
    "import time\n",
    "import IPython.display as IPd\n",
    "\n",
    "def svg(img):\n",
    "    IPd.display(IPd.HTML('<img src=\"{}\" / >'.format(img, time.time())))"
   ]
  },
  {
   "cell_type": "code",
   "execution_count": 65,
   "id": "ceb352d6-48a4-414a-bf08-7be9fb620618",
   "metadata": {},
   "outputs": [
    {
     "data": {
      "text/html": [
       "<img src=\"../fig/fig6_appendix1.svg\" / >"
      ],
      "text/plain": [
       "<IPython.core.display.HTML object>"
      ]
     },
     "metadata": {},
     "output_type": "display_data"
    }
   ],
   "source": [
    "from svgutils.compose import *\n",
    "\n",
    "# > Inkscape pixel is 1/90 of an inch, other software usually uses 1/72.\n",
    "# > http://www.inkscapeforum.com/viewtopic.php?f=6&t=5964\n",
    "svg_scale = 1.25  # set this to 1.25 for Inkscape, 1.0 otherwise\n",
    "factor_svg=5.5\n",
    "\n",
    "# Panel letters in Helvetica Neue, 12pt, Medium\n",
    "kwargs_text = {'size': '12pt', 'font': 'Arial', 'weight': '800'}\n",
    "kwargs_consistent = {'size': '10pt', 'font': 'Arial', 'weight': '500', 'color': '#AF99EF'}\n",
    "kwargs_consistent1 = {'size': '10pt', 'font': 'Arial', 'weight': '500', 'color': '#9E7DD5'}\n",
    "kwargs_inconsistent = {'size': '10pt', 'font': 'Arial', 'weight': '500', 'color': '#AF99EF'}\n",
    "kwargs_text8pt = {'size': '7.7pt', 'font': 'Arial'}\n",
    "\n",
    "sizefactor = 1.0\n",
    "\n",
    "f = Figure(\"15.7cm\", \"3.6cm\",\n",
    "    Panel(\n",
    "          SVG(\"../svg/panel_a_appendix1.svg\").scale(svg_scale),\n",
    "    ).move(5, 5),\n",
    ")\n",
    "\n",
    "!mkdir -p fig\n",
    "f.save(\"../fig/fig6_appendix1.svg\")\n",
    "svg('../fig/fig6_appendix1.svg')"
   ]
  },
  {
   "cell_type": "code",
   "execution_count": null,
   "id": "5041f4d2-cd50-48ad-9474-cbf5bd51b773",
   "metadata": {},
   "outputs": [],
   "source": []
  }
 ],
 "metadata": {
  "kernelspec": {
   "display_name": "Python 3 (ipykernel)",
   "language": "python",
   "name": "python3"
  },
  "language_info": {
   "codemirror_mode": {
    "name": "ipython",
    "version": 3
   },
   "file_extension": ".py",
   "mimetype": "text/x-python",
   "name": "python",
   "nbconvert_exporter": "python",
   "pygments_lexer": "ipython3",
   "version": "3.8.13"
  }
 },
 "nbformat": 4,
 "nbformat_minor": 5
}
