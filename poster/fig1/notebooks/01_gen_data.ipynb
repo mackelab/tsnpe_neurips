{
 "cells": [
  {
   "cell_type": "code",
   "execution_count": 1,
   "id": "2e4d6c5e-2674-47bc-9449-c81ff76df6e5",
   "metadata": {},
   "outputs": [],
   "source": [
    "from sbi.utils import BoxUniform\n",
    "import torch\n",
    "from sbi.inference import SNPE\n",
    "from sbi.analysis import pairplot\n",
    "import matplotlib.pyplot as plt\n",
    "from torch import ones\n",
    "import matplotlib as mpl\n",
    "import pickle\n",
    "from sbi.utils.support_posterior import PosteriorSupport"
   ]
  },
  {
   "cell_type": "markdown",
   "id": "01a58c94-4b66-49d4-be6d-ab96b3ccc38d",
   "metadata": {},
   "source": [
    "### Define problem"
   ]
  },
  {
   "cell_type": "code",
   "execution_count": 2,
   "id": "1735cf10-6263-46fd-9ebc-6068f652c7f6",
   "metadata": {},
   "outputs": [],
   "source": [
    "def my_sim(theta):\n",
    "    return theta**2 + torch.randn(theta.shape)*0.2"
   ]
  },
  {
   "cell_type": "code",
   "execution_count": 3,
   "id": "0405daba-b2b3-4502-8cf8-3f796edc68d6",
   "metadata": {},
   "outputs": [],
   "source": [
    "p1 = BoxUniform(-2*ones(1), -1*ones(1))\n",
    "p2 = BoxUniform(ones(1), 2*ones(1))"
   ]
  },
  {
   "cell_type": "code",
   "execution_count": 4,
   "id": "65fa3c96-b946-48cd-a388-a10a8a32b59c",
   "metadata": {},
   "outputs": [],
   "source": [
    "class SharedPrior(BoxUniform):\n",
    "    def __init__(self, p1, p2):\n",
    "        self.p1 = p1\n",
    "        self.p2 = p2\n",
    "    def sample(self, num_samples):\n",
    "        s = num_samples[0] / 2\n",
    "        s1 = self.p1.sample((int(s),))\n",
    "        s2 = self.p2.sample((int(s),))\n",
    "        cated = torch.cat([s1, s2])\n",
    "        r = torch.randperm(cated.size()[0])\n",
    "        return cated[r]\n",
    "    def log_prob(self, theta):\n",
    "        p1 = torch.exp(self.p1.log_prob(theta))\n",
    "        p2 = torch.exp(self.p2.log_prob(theta))\n",
    "        return torch.log(0.5 * p1 + 0.5 * p2)"
   ]
  },
  {
   "cell_type": "code",
   "execution_count": 5,
   "id": "71536cd4-17f3-41e0-86d6-ff2ad75022c8",
   "metadata": {},
   "outputs": [],
   "source": [
    "prior = SharedPrior(p1, p2)"
   ]
  },
  {
   "cell_type": "code",
   "execution_count": 6,
   "id": "cc0083c9-1133-4bda-b74c-5683437fe3b3",
   "metadata": {},
   "outputs": [],
   "source": [
    "grid_low = -2.5\n",
    "grid_high = 2.5\n",
    "def eval_likelihood(theta, x):\n",
    "    mean = theta**2\n",
    "    dist = torch.distributions.Normal(mean, 0.2)\n",
    "    return dist.log_prob(x)\n",
    "def eval_prior(theta):\n",
    "    return prior.log_prob(theta.unsqueeze(1))"
   ]
  },
  {
   "cell_type": "code",
   "execution_count": 7,
   "id": "1a142e82-e309-4609-8cdc-ed3f7233bfc9",
   "metadata": {},
   "outputs": [],
   "source": [
    "xo = torch.tensor([1.2])\n",
    "resolution = 500\n",
    "def posterior_eval(theta):\n",
    "    ll = eval_likelihood(theta, xo)\n",
    "    pl = eval_prior(theta)\n",
    "    joint = ll + pl\n",
    "    joint_exp = torch.exp(joint)\n",
    "    integral = torch.sum(joint_exp) / resolution * (grid_high - grid_low)\n",
    "    posterior = joint_exp / integral\n",
    "    return posterior"
   ]
  },
  {
   "cell_type": "code",
   "execution_count": 8,
   "id": "e54fcebe-a3b5-4944-aba7-cfcdfb70f051",
   "metadata": {},
   "outputs": [],
   "source": [
    "theta_range = torch.linspace(grid_low, grid_high, resolution)"
   ]
  },
  {
   "cell_type": "code",
   "execution_count": 9,
   "id": "44b7a4e0-9383-4023-bc8c-b642648f0d4e",
   "metadata": {},
   "outputs": [],
   "source": [
    "post = posterior_eval(theta_range)"
   ]
  },
  {
   "cell_type": "code",
   "execution_count": 10,
   "id": "161b4f85-c550-40c4-a4dd-2dbdb3550835",
   "metadata": {},
   "outputs": [],
   "source": [
    "prior_probs = eval_prior(theta_range)"
   ]
  },
  {
   "cell_type": "code",
   "execution_count": 12,
   "id": "cb59a467-1c3e-4abe-976d-9913c6eed372",
   "metadata": {},
   "outputs": [
    {
     "data": {
      "image/png": "[encoded data removed]",
      "text/plain": [
       "<Figure size 200x80 with 1 Axes>"
      ]
     },
     "metadata": {},
     "output_type": "display_data"
    }
   ],
   "source": [
    "with mpl.rc_context(fname=\"../../../paper/.matplotlibrc\"):\n",
    "    fig, ax = plt.subplots(1, 1, figsize=(2, 0.8))\n",
    "    _ = ax.plot(theta_range.numpy(), post.numpy(), c=\"k\")\n",
    "    _ = ax.plot(theta_range.numpy(), torch.exp(prior_probs).numpy(), c=\"gray\")\n",
    "    ax.set_yticks([])\n",
    "    ax.set_xticks([])\n",
    "    ax.spines[\"left\"].set_visible(False)\n",
    "    ax.spines[\"bottom\"].set_visible(False)\n",
    "    plt.savefig(\"../svg/panel_a.svg\")"
   ]
  },
  {
   "cell_type": "markdown",
   "id": "9169892a-c69f-4193-b48f-a0a6d23d011e",
   "metadata": {},
   "source": [
    "### Run APT"
   ]
  },
  {
   "cell_type": "code",
   "execution_count": 13,
   "id": "ecc442eb-b912-49be-ba85-f6a65de9b133",
   "metadata": {
    "tags": []
   },
   "outputs": [],
   "source": [
    "_ = torch.manual_seed(0)\n",
    "inference = SNPE(prior, density_estimator=\"nsf\")\n",
    "proposal = prior\n",
    "posteriors = []\n",
    "for r in range(10):\n",
    "\n",
    "    theta = proposal.sample((500,))\n",
    "    x = my_sim(theta)\n",
    "\n",
    "    _ = inference.append_simulations(theta, x, proposal=proposal).train()\n",
    "    posterior = inference.build_posterior().set_default_x(torch.tensor([[1.2]]))\n",
    "    proposal = posterior\n",
    "    \n",
    "    if r == 4 or r == 9:\n",
    "        posteriors.append(posterior)"
   ]
  },
  {
   "cell_type": "code",
   "execution_count": 13,
   "id": "3469c595-2a2e-421c-b08d-47050e8ad7ea",
   "metadata": {},
   "outputs": [],
   "source": [
    "net_apt = posteriors[0].posterior_estimator"
   ]
  },
  {
   "cell_type": "code",
   "execution_count": 14,
   "id": "4cc43962-3696-48ad-a3ab-8eaeadb59910",
   "metadata": {},
   "outputs": [],
   "source": [
    "apt_probs = net_apt.log_prob(theta_range.unsqueeze(1), context=torch.tensor([[1.2]]).repeat((resolution,1)))"
   ]
  },
  {
   "cell_type": "code",
   "execution_count": 15,
   "id": "db8d3bde-ec3d-48f2-b8f4-4d2b1a5190bf",
   "metadata": {},
   "outputs": [
    {
     "data": {
      "image/png": "[encoded data removed]",
      "text/plain": [
       "<Figure size 200x80 with 1 Axes>"
      ]
     },
     "metadata": {},
     "output_type": "display_data"
    }
   ],
   "source": [
    "with mpl.rc_context(fname=\"../../.matplotlibrc\"):\n",
    "    fig, ax = plt.subplots(1, 1, figsize=(2, 0.8))\n",
    "    _ = ax.plot(theta_range.numpy(), torch.exp(apt_probs.detach()).numpy(), c=\"k\")\n",
    "    ax.set_yticks([])\n",
    "    ax.set_xticks([])\n",
    "    ax.spines[\"left\"].set_visible(False)\n",
    "    ax.spines[\"bottom\"].set_visible(False)\n",
    "    plt.savefig(\"../svg/panel_b1.svg\")"
   ]
  },
  {
   "cell_type": "code",
   "execution_count": 16,
   "id": "ec71d8ad-17d5-4e8e-8843-92c47be42a6d",
   "metadata": {},
   "outputs": [],
   "source": [
    "net_apt = posteriors[1].posterior_estimator"
   ]
  },
  {
   "cell_type": "code",
   "execution_count": 17,
   "id": "c780af28-5022-4747-8c57-98ae2d21fb06",
   "metadata": {},
   "outputs": [],
   "source": [
    "apt_probs = net_apt.log_prob(theta_range.unsqueeze(1), context=torch.tensor([[1.2]]).repeat((resolution,1)))"
   ]
  },
  {
   "cell_type": "code",
   "execution_count": 18,
   "id": "1a7a1254-060d-4ac4-a3d7-524aa1f96644",
   "metadata": {},
   "outputs": [
    {
     "data": {
      "image/png": "[encoded data removed]",
      "text/plain": [
       "<Figure size 200x80 with 1 Axes>"
      ]
     },
     "metadata": {},
     "output_type": "display_data"
    }
   ],
   "source": [
    "with mpl.rc_context(fname=\"../../.matplotlibrc\"):\n",
    "    fig, ax = plt.subplots(1, 1, figsize=(2, 0.8))\n",
    "    _ = ax.plot(theta_range.numpy(), torch.exp(apt_probs.detach()).numpy(), c=\"k\")\n",
    "    # _ = ax.plot(theta_range.numpy(), torch.exp(prior_probs).numpy())\n",
    "    ax.set_yticks([])\n",
    "    ax.set_xticks([])\n",
    "    ax.spines[\"left\"].set_visible(False)\n",
    "    ax.spines[\"bottom\"].set_visible(False)\n",
    "    plt.savefig(\"../svg/panel_b2.svg\")"
   ]
  },
  {
   "cell_type": "markdown",
   "id": "43e162b3-1f8c-4e8d-90b4-75d8b64f49b5",
   "metadata": {},
   "source": [
    "### Run TSNPE"
   ]
  },
  {
   "cell_type": "code",
   "execution_count": 19,
   "id": "e7b719aa-6c3e-4b0e-a329-49dbc24bad9e",
   "metadata": {
    "tags": []
   },
   "outputs": [
    {
     "name": "stdout",
     "output_type": "stream",
     "text": [
      " Neural network successfully converged after 116 epochs."
     ]
    },
    {
     "data": {
      "application/vnd.jupyter.widget-view+json": {
       "model_id": "1995c8106cdb4c0587bc5fa6cfea5e41",
       "version_major": 2,
       "version_minor": 0
      },
      "text/plain": [
       "Drawing 10000 posterior samples:   0%|          | 0/10000 [00:00<?, ?it/s]"
      ]
     },
     "metadata": {},
     "output_type": "display_data"
    },
    {
     "name": "stdout",
     "output_type": "stream",
     "text": [
      "The classifier rejected 19.8000% of all samples. You will get a speed-up of 24.7%.\n",
      " Neural network successfully converged after 24 epochs."
     ]
    },
    {
     "data": {
      "application/vnd.jupyter.widget-view+json": {
       "model_id": "93e200d4a8f840618d59f5eeda2e78ef",
       "version_major": 2,
       "version_minor": 0
      },
      "text/plain": [
       "Drawing 10000 posterior samples:   0%|          | 0/10000 [00:00<?, ?it/s]"
      ]
     },
     "metadata": {},
     "output_type": "display_data"
    },
    {
     "name": "stdout",
     "output_type": "stream",
     "text": [
      "The classifier rejected 63.0200% of all samples. You will get a speed-up of 170.4%.\n",
      " Neural network successfully converged after 22 epochs."
     ]
    },
    {
     "data": {
      "application/vnd.jupyter.widget-view+json": {
       "model_id": "274f7e87293c4d3d8d66ba5fd8a86866",
       "version_major": 2,
       "version_minor": 0
      },
      "text/plain": [
       "Drawing 10000 posterior samples:   0%|          | 0/10000 [00:00<?, ?it/s]"
      ]
     },
     "metadata": {},
     "output_type": "display_data"
    },
    {
     "name": "stdout",
     "output_type": "stream",
     "text": [
      "The classifier rejected 64.4500% of all samples. You will get a speed-up of 181.3%.\n",
      " Neural network successfully converged after 80 epochs."
     ]
    },
    {
     "data": {
      "application/vnd.jupyter.widget-view+json": {
       "model_id": "232024915a324feb9b753bad496102a4",
       "version_major": 2,
       "version_minor": 0
      },
      "text/plain": [
       "Drawing 10000 posterior samples:   0%|          | 0/10000 [00:00<?, ?it/s]"
      ]
     },
     "metadata": {},
     "output_type": "display_data"
    },
    {
     "name": "stdout",
     "output_type": "stream",
     "text": [
      "The classifier rejected 53.8800% of all samples. You will get a speed-up of 116.8%.\n",
      " Neural network successfully converged after 30 epochs."
     ]
    },
    {
     "data": {
      "application/vnd.jupyter.widget-view+json": {
       "model_id": "b23ec4f039554508a355246f136aeffc",
       "version_major": 2,
       "version_minor": 0
      },
      "text/plain": [
       "Drawing 10000 posterior samples:   0%|          | 0/10000 [00:00<?, ?it/s]"
      ]
     },
     "metadata": {},
     "output_type": "display_data"
    }
   ],
   "source": [
    "_ = torch.manual_seed(1)\n",
    "inference = SNPE(prior, density_estimator=\"nsf\")\n",
    "proposal = prior\n",
    "for _ in range(5):\n",
    "\n",
    "    theta = proposal.sample((500,))\n",
    "    x = my_sim(theta)\n",
    "\n",
    "    _ = inference.append_simulations(theta, x).train(force_first_round_loss=True)\n",
    "    posterior = inference.build_posterior().set_default_x(torch.tensor([[1.2]]))\n",
    "    proposal = PosteriorSupport(prior=prior, posterior=posterior, allowed_false_negatives=0.0001)\n",
    "    net_tsnpe = posterior.posterior_estimator"
   ]
  },
  {
   "cell_type": "code",
   "execution_count": 20,
   "id": "22153e19-305c-4184-ad5e-7681aaeaa664",
   "metadata": {},
   "outputs": [],
   "source": [
    "net_tsnpe = posterior.posterior_estimator"
   ]
  },
  {
   "cell_type": "code",
   "execution_count": 21,
   "id": "b79a4e3f-3e46-4f1e-9154-711b8681233c",
   "metadata": {},
   "outputs": [],
   "source": [
    "tsnpe_probs = net_tsnpe.log_prob(theta_range.unsqueeze(1), context=torch.tensor([[1.2]]).repeat((resolution,1)))"
   ]
  },
  {
   "cell_type": "code",
   "execution_count": 22,
   "id": "2b461231-fe75-424d-82a7-b374876d3bad",
   "metadata": {},
   "outputs": [
    {
     "data": {
      "image/png": "[encoded data removed]",
      "text/plain": [
       "<Figure size 200x80 with 1 Axes>"
      ]
     },
     "metadata": {},
     "output_type": "display_data"
    }
   ],
   "source": [
    "with mpl.rc_context(fname=\"../../.matplotlibrc\"):\n",
    "    fig, ax = plt.subplots(1, 1, figsize=(2, 0.8))\n",
    "    _ = ax.plot(theta_range.numpy(), torch.exp(tsnpe_probs.detach()).numpy(), c=\"k\")\n",
    "    ax.set_yticks([])\n",
    "    ax.set_xticks([])\n",
    "    ax.spines[\"left\"].set_visible(False)\n",
    "    ax.spines[\"bottom\"].set_visible(False)\n",
    "    plt.savefig(\"../svg/panel_c.svg\")"
   ]
  },
  {
   "cell_type": "markdown",
   "id": "395de4eb-0797-48dc-ac2a-76264e714c32",
   "metadata": {},
   "source": [
    "# Assemble figure"
   ]
  },
  {
   "cell_type": "code",
   "execution_count": 14,
   "id": "5af24972-7a71-4fb4-be1b-d2119a51376c",
   "metadata": {},
   "outputs": [],
   "source": [
    "import time\n",
    "import IPython.display as IPd\n",
    "\n",
    "def svg(img):\n",
    "    IPd.display(IPd.HTML('<img src=\"{}\" / >'.format(img, time.time())))"
   ]
  },
  {
   "cell_type": "code",
   "execution_count": 23,
   "id": "b3c74264-74df-42dd-a092-312f49290f78",
   "metadata": {},
   "outputs": [
    {
     "data": {
      "text/html": [
       "<img src=\"../fig/fig6.svg\" / >"
      ],
      "text/plain": [
       "<IPython.core.display.HTML object>"
      ]
     },
     "metadata": {},
     "output_type": "display_data"
    }
   ],
   "source": [
    "from svgutils.compose import *\n",
    "\n",
    "# > Inkscape pixel is 1/90 of an inch, other software usually uses 1/72.\n",
    "# > http://www.inkscapeforum.com/viewtopic.php?f=6&t=5964\n",
    "svg_scale = 1.25  # set this to 1.25 for Inkscape, 1.0 otherwise\n",
    "\n",
    "# Panel letters in Helvetica Neue, 12pt, Medium\n",
    "kwargs_text = {'size': '12pt', 'font': 'Arial', 'weight': '800'}\n",
    "kwargs_consistent = {'size': '10pt', 'font': 'Arial', 'weight': '500', 'color': '#AF99EF'}\n",
    "kwargs_consistent1 = {'size': '10pt', 'font': 'Arial', 'weight': '500', 'color': '#9E7DD5'}\n",
    "kwargs_inconsistent = {'size': '10pt', 'font': 'Arial', 'weight': '500', 'color': '#AF99EF'}\n",
    "kwargs_text8pt = {'size': '7.7pt', 'font': 'Arial'}\n",
    "\n",
    "width = 15\n",
    "f = Figure(f\"{width}cm\", \"1.8cm\",\n",
    "\n",
    "    Panel(\n",
    "          SVG(\"../svg/panel_a.svg\").scale(svg_scale).move(0, 0),\n",
    "          Text(\"Ground\", 11, 12.0, **kwargs_text8pt),\n",
    "        Text(\"truth\", 11, 26.0, **kwargs_text8pt),\n",
    "    ).move(-10, 0),\n",
    "    Panel(\n",
    "          SVG(\"../svg/panel_b1.svg\").scale(svg_scale).move(0, 0),\n",
    "          Text(\"APT\", 11, 12.0, **kwargs_text8pt),\n",
    "    ).move(150, 0),\n",
    "    Panel(\n",
    "          SVG(\"../svg/panel_c.svg\").scale(svg_scale).move(0, 0),\n",
    "          Text(\"TSNPE\", 11, 12.0, **kwargs_text8pt),\n",
    "    ).move(310, 0),\n",
    ")\n",
    "\n",
    "f.save(\"../fig/fig6.svg\")\n",
    "svg('../fig/fig6.svg')"
   ]
  },
  {
   "cell_type": "code",
   "execution_count": 25,
   "id": "04ca8ce1-8c28-4856-ab78-8f20c71dd2ad",
   "metadata": {},
   "outputs": [
    {
     "data": {
      "text/html": [
       "<img src=\"../fig/fig6_20rounds.svg\" / >"
      ],
      "text/plain": [
       "<IPython.core.display.HTML object>"
      ]
     },
     "metadata": {},
     "output_type": "display_data"
    }
   ],
   "source": [
    "from svgutils.compose import *\n",
    "\n",
    "# > Inkscape pixel is 1/90 of an inch, other software usually uses 1/72.\n",
    "# > http://www.inkscapeforum.com/viewtopic.php?f=6&t=5964\n",
    "svg_scale = 1.25  # set this to 1.25 for Inkscape, 1.0 otherwise\n",
    "\n",
    "# Panel letters in Helvetica Neue, 12pt, Medium\n",
    "kwargs_text = {'size': '12pt', 'font': 'Arial', 'weight': '800'}\n",
    "kwargs_consistent = {'size': '10pt', 'font': 'Arial', 'weight': '500', 'color': '#AF99EF'}\n",
    "kwargs_consistent1 = {'size': '10pt', 'font': 'Arial', 'weight': '500', 'color': '#9E7DD5'}\n",
    "kwargs_inconsistent = {'size': '10pt', 'font': 'Arial', 'weight': '500', 'color': '#AF99EF'}\n",
    "kwargs_text8pt = {'size': '7.7pt', 'font': 'Arial'}\n",
    "\n",
    "width = 15.7 * 0.23\n",
    "f = Figure(f\"15.7cm\", \"1.8cm\",\n",
    "    Panel(\n",
    "          SVG(\"../svg/panel_b2.svg\").scale(svg_scale).move(0, 0),\n",
    "          Text(\"APT\", 11, 12.0, **kwargs_text8pt),\n",
    "          Text(\"10 rounds\", 11, 22.0, **kwargs_text8pt),\n",
    "    ).move(-10, 0),\n",
    "\n",
    ")\n",
    "\n",
    "f.save(\"../fig/fig6_20rounds.svg\")\n",
    "svg('../fig/fig6_20rounds.svg')"
   ]
  },
  {
   "cell_type": "code",
   "execution_count": null,
   "id": "247d1113-c412-4bb3-8d2d-6e0c2bc4355c",
   "metadata": {},
   "outputs": [],
   "source": []
  }
 ],
 "metadata": {
  "kernelspec": {
   "display_name": "Python 3 (ipykernel)",
   "language": "python",
   "name": "python3"
  },
  "language_info": {
   "codemirror_mode": {
    "name": "ipython",
    "version": 3
   },
   "file_extension": ".py",
   "mimetype": "text/x-python",
   "name": "python",
   "nbconvert_exporter": "python",
   "pygments_lexer": "ipython3",
   "version": "3.8.13"
  }
 },
 "nbformat": 4,
 "nbformat_minor": 5
}
