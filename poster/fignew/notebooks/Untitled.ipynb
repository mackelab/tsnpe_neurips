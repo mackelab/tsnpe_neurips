{
 "cells": [
  {
   "cell_type": "code",
   "execution_count": 59,
   "id": "61d74bcb-4cb0-4132-aa14-43cbab958915",
   "metadata": {},
   "outputs": [],
   "source": [
    "import torch\n",
    "from torch import zeros, ones, eye, float32, float64\n",
    "from torch.distributions import Normal, MultivariateNormal, Uniform\n",
    "\n",
    "import matplotlib.pyplot as plt\n",
    "import matplotlib as mpl"
   ]
  },
  {
   "cell_type": "code",
   "execution_count": 60,
   "id": "8a0cfb60-4af7-45c8-a0f8-a28f5fac59f3",
   "metadata": {},
   "outputs": [],
   "source": [
    "prior1 = Normal(zeros(1), ones(1))"
   ]
  },
  {
   "cell_type": "code",
   "execution_count": 61,
   "id": "6c32e15d-d450-4aa2-8201-a420d7cdae83",
   "metadata": {},
   "outputs": [],
   "source": [
    "theta = torch.linspace(-3, 3, 500)"
   ]
  },
  {
   "cell_type": "code",
   "execution_count": 151,
   "id": "f1c29696-1ec8-4001-93d6-dfc825ce24c4",
   "metadata": {},
   "outputs": [],
   "source": [
    "prior1_probs = prior1.log_prob(theta).exp()\n",
    "prior2_probs = prior1.log_prob(theta).exp()\n",
    "prior2_probs[theta < -0.4] = 0.0\n",
    "prior2_probs[theta > 1.9] = 0.0"
   ]
  },
  {
   "cell_type": "code",
   "execution_count": 155,
   "id": "0a2af618-8c44-4b86-b2ef-055c3ccef2b6",
   "metadata": {},
   "outputs": [],
   "source": [
    "likelihood_dist1 = Normal(1.1, 0.2*ones(1))\n",
    "likelihood_dist2 = Normal(0.4, 0.2*ones(1))"
   ]
  },
  {
   "cell_type": "code",
   "execution_count": 156,
   "id": "bff8fc79-91f9-411f-bfe1-242714d5489a",
   "metadata": {},
   "outputs": [],
   "source": [
    "likelihood_probs = likelihood_dist1.log_prob(theta).exp() + likelihood_dist2.log_prob(theta).exp()"
   ]
  },
  {
   "cell_type": "markdown",
   "id": "3d170d1f-063b-4201-b25d-36063b451f38",
   "metadata": {},
   "source": [
    "### Prior"
   ]
  },
  {
   "cell_type": "code",
   "execution_count": 157,
   "id": "1da95bf4-6c8c-42aa-9e96-820764999137",
   "metadata": {},
   "outputs": [
    {
     "data": {
      "image/png": "[encoded data removed]",
      "text/plain": [
       "<Figure size 200x100 with 1 Axes>"
      ]
     },
     "metadata": {},
     "output_type": "display_data"
    }
   ],
   "source": [
    "with mpl.rc_context(fname=\"../../../paper/.matplotlibrc\"):\n",
    "    fig, ax = plt.subplots(1, 1, figsize=(2.0, 1))\n",
    "    _ = ax.plot(theta.numpy(), prior1_probs.numpy() / prior1_probs.sum().numpy(), c=\"#1b9e77\")\n",
    "    _ = ax.plot(theta.numpy(), prior2_probs.numpy() / prior2_probs.sum().numpy(), c=\"#e7298a\")\n",
    "    ax.spines[\"left\"].set_visible(False)\n",
    "    ax.spines[\"bottom\"].set_visible(False)\n",
    "    ax.set_yticks([])\n",
    "    ax.set_xticks([])\n",
    "    plt.savefig(\"../svg/panel_a.svg\")"
   ]
  },
  {
   "cell_type": "markdown",
   "id": "390e69ba-aef5-4199-9735-50cb0734b886",
   "metadata": {},
   "source": [
    "### Likelihood"
   ]
  },
  {
   "cell_type": "code",
   "execution_count": 158,
   "id": "0528dc3a-522f-4a8d-84f3-65066ef39052",
   "metadata": {},
   "outputs": [
    {
     "data": {
      "image/png": "[encoded data removed]",
      "text/plain": [
       "<Figure size 200x100 with 1 Axes>"
      ]
     },
     "metadata": {},
     "output_type": "display_data"
    }
   ],
   "source": [
    "with mpl.rc_context(fname=\"../../../paper/.matplotlibrc\"):\n",
    "    fig, ax = plt.subplots(1, 1, figsize=(2.-0, 1))\n",
    "    _ = ax.plot(theta.numpy(), likelihood_probs.numpy(), c=\"k\")\n",
    "    ax.spines[\"left\"].set_visible(False)\n",
    "    ax.spines[\"bottom\"].set_visible(False)\n",
    "    ax.set_yticks([])\n",
    "    ax.set_xticks([])\n",
    "    plt.savefig(\"../svg/panel_b.svg\")"
   ]
  },
  {
   "cell_type": "markdown",
   "id": "21bdae1f-39cd-4c39-a9f4-ba2d6a928552",
   "metadata": {},
   "source": [
    "### Posterior"
   ]
  },
  {
   "cell_type": "code",
   "execution_count": 159,
   "id": "a90786a1-f3ae-47e6-86f0-51d683e79bf4",
   "metadata": {},
   "outputs": [],
   "source": [
    "posterior1 = prior1_probs * likelihood_probs\n",
    "posterior2 = prior2_probs * likelihood_probs"
   ]
  },
  {
   "cell_type": "code",
   "execution_count": 160,
   "id": "4cb6319f-d2fe-4c2c-b906-619a6d152b31",
   "metadata": {},
   "outputs": [
    {
     "data": {
      "image/png": "[encoded data removed]",
      "text/plain": [
       "<Figure size 200x100 with 1 Axes>"
      ]
     },
     "metadata": {},
     "output_type": "display_data"
    }
   ],
   "source": [
    "with mpl.rc_context(fname=\"../../../paper/.matplotlibrc\"):\n",
    "    fig, ax = plt.subplots(1, 1, figsize=(2.0, 1))\n",
    "    _ = ax.plot(theta.numpy(), posterior1.numpy(), c=\"#1b9e77\")\n",
    "    _ = ax.plot(theta.numpy(), posterior2.numpy(), linestyle='--', c=\"#e7298a\")\n",
    "    ax.spines[\"left\"].set_visible(False)\n",
    "    ax.spines[\"bottom\"].set_visible(False)\n",
    "    ax.set_yticks([])\n",
    "    ax.set_xticks([])\n",
    "    plt.savefig(\"../svg/panel_c.svg\")"
   ]
  },
  {
   "cell_type": "code",
   "execution_count": 161,
   "id": "e1d5e7ae-0f33-4afc-bfe0-8c1e9ba82747",
   "metadata": {},
   "outputs": [],
   "source": [
    "import time\n",
    "import IPython.display as IPd\n",
    "\n",
    "def svg(img):\n",
    "    IPd.display(IPd.HTML('<img src=\"{}\" / >'.format(img, time.time())))"
   ]
  },
  {
   "cell_type": "code",
   "execution_count": 163,
   "id": "90d24cc5-7d85-4705-93c0-ef48d794a94b",
   "metadata": {},
   "outputs": [
    {
     "data": {
      "text/html": [
       "<img src=\"../fig/fignew.svg\" / >"
      ],
      "text/plain": [
       "<IPython.core.display.HTML object>"
      ]
     },
     "metadata": {},
     "output_type": "display_data"
    }
   ],
   "source": [
    "from svgutils.compose import *\n",
    "\n",
    "# > Inkscape pixel is 1/90 of an inch, other software usually uses 1/72.\n",
    "# > http://www.inkscapeforum.com/viewtopic.php?f=6&t=5964\n",
    "svg_scale = 1.25  # set this to 1.25 for Inkscape, 1.0 otherwise\n",
    "\n",
    "# Panel letters in Helvetica Neue, 12pt, Medium\n",
    "kwargs_text = {'size': '12pt', 'font': 'Arial', 'weight': '800'}\n",
    "kwargs_consistent = {'size': '10pt', 'font': 'Arial', 'weight': '500', 'color': '#AF99EF'}\n",
    "kwargs_consistent1 = {'size': '10pt', 'font': 'Arial', 'weight': '500', 'color': '#9E7DD5'}\n",
    "kwargs_inconsistent = {'size': '10pt', 'font': 'Arial', 'weight': '500', 'color': '#AF99EF'}\n",
    "kwargs_text8pt = {'size': '7.7pt', 'font': 'Arial'}\n",
    "\n",
    "f = Figure(\"15.7cm\", \"2.2cm\",\n",
    "    Panel(\n",
    "          SVG(\"../svg/panel_a.svg\").scale(svg_scale).move(0, 0),\n",
    "    ).move(0, 0),\n",
    "    \n",
    "    Panel(\n",
    "          SVG(\"../svg/panel_b.svg\").scale(svg_scale).move(0, 0),\n",
    "    ).move(170, 0),\n",
    "           \n",
    "    Panel(\n",
    "          SVG(\"../svg/panel_c.svg\").scale(svg_scale).move(0, 0),\n",
    "    ).move(340, 0),\n",
    ")\n",
    "\n",
    "f.save(\"../fig/fignew.svg\")\n",
    "svg('../fig/fignew.svg')"
   ]
  },
  {
   "cell_type": "code",
   "execution_count": null,
   "id": "970bd836-d760-4527-bdc9-f0e4cf37b932",
   "metadata": {},
   "outputs": [],
   "source": []
  },
  {
   "cell_type": "code",
   "execution_count": null,
   "id": "d2e79603-ab4d-4c21-ad91-9be67586219c",
   "metadata": {},
   "outputs": [],
   "source": []
  }
 ],
 "metadata": {
  "kernelspec": {
   "display_name": "Python 3 (ipykernel)",
   "language": "python",
   "name": "python3"
  },
  "language_info": {
   "codemirror_mode": {
    "name": "ipython",
    "version": 3
   },
   "file_extension": ".py",
   "mimetype": "text/x-python",
   "name": "python",
   "nbconvert_exporter": "python",
   "pygments_lexer": "ipython3",
   "version": "3.8.13"
  }
 },
 "nbformat": 4,
 "nbformat_minor": 5
}
